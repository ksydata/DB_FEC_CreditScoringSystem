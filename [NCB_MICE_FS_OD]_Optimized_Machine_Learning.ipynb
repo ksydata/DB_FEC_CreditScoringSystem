{
  "nbformat": 4,
  "nbformat_minor": 0,
  "metadata": {
    "colab": {
      "provenance": []
    },
    "kernelspec": {
      "name": "python3",
      "display_name": "Python 3"
    },
    "language_info": {
      "name": "python"
    }
  },
  "cells": [
    {
      "cell_type": "markdown",
      "metadata": {
        "id": "2WduN3gt6d4C"
      },
      "source": [
        "> 은행과 같은 금융기관의 리테일 금융소비자(개인 고객)에 대하여 가계신용대출(Home Credit Loan)을 할 경우 **고객이 대출금을 상환할지 Target 변수 분류 및 대출금액 예측** 프로젝트"
      ]
    },
    {
      "cell_type": "markdown",
      "metadata": {
        "id": "zkEmcrHMP9n8"
      },
      "source": [
        "### 신용대출상환 여부 TARGET 분류를 위한 베이스라인 모델 구축"
      ]
    },
    {
      "cell_type": "code",
      "execution_count": 1,
      "metadata": {
        "id": "43wjzlfq6lWd",
        "colab": {
          "base_uri": "https://localhost:8080/"
        },
        "outputId": "edc2b0ba-3588-4569-f868-165042091504"
      },
      "outputs": [
        {
          "output_type": "stream",
          "name": "stdout",
          "text": [
            "Mounted at /content/drive\n"
          ]
        }
      ],
      "source": [
        "import pandas as pd\n",
        "import numpy as np\n",
        "from collections import Counter\n",
        "import missingno as msno\n",
        "from typing import *\n",
        "  # [데이터프레임 핸들링, 선형대수, 결측값 처리 목적 라이브러리 모듈]\n",
        "\n",
        "from google.colab import drive\n",
        "drive.mount(\"/content/drive\")\n",
        "  # [코랩에 구글 드라이브 마운트]\n",
        "\n",
        "from sklearn.preprocessing import *\n",
        "  # [연속형 변수 스케일링 및 범주형 변수 인코딩 목적 모든 라이브러리 모듈]\n",
        "from sklearn.model_selection import train_test_split\n",
        "  # [훈련용 및 검증용 데이터 셋 분할 목적 라이브러리 모듈]\n",
        "from sklearn.model_selection import KFold\n",
        "from sklearn.model_selection import StratifiedKFold\n",
        "from sklearn.model_selection import GridSearchCV\n",
        "  # [K-폴드 교차검증(랜덤 또는 타겟하는 클래스 변수 비율 층화) 및 그리드 서치 목적 라이브러리 모듈]\n",
        "\n",
        "import matplotlib.pyplot as plt\n",
        "import seaborn as sns\n",
        "from sklearn.tree import export_graphviz\n",
        "  # [데이터 시각화 모듈]\n",
        "\n",
        "from sklearn.tree import DecisionTreeClassifier\n",
        "import graphviz\n",
        "from sklearn.tree import export_graphviz\n",
        "from sklearn.tree import plot_tree\n",
        "from sklearn.tree import export_text\n",
        "from sklearn.ensemble import RandomForestClassifier\n",
        "from lightgbm import LGBMClassifier\n",
        "from lightgbm import plot_importance\n",
        "\n",
        "from sklearn.naive_bayes import BernoulliNB\n",
        "from sklearn.naive_bayes import CategoricalNB\n",
        "import statsmodels.api as sm\n",
        "from sklearn.linear_model import LogisticRegression\n",
        "from sklearn import svm\n",
        "from mlxtend.plotting import plot_decision_regions\n",
        "  # [분류 모델 모듈]\n",
        "\n",
        "from sklearn.metrics import confusion_matrix\n",
        "from sklearn.metrics import accuracy_score, precision_score, recall_score\n",
        "from sklearn.metrics import f1_score, roc_auc_score, classification_report\n",
        "  # [성능 평가 지표 모듈]\n",
        "\n",
        "from imblearn.over_sampling import ADASYN\n",
        "from imblearn.over_sampling import SMOTE\n",
        "from imblearn.over_sampling import SMOTENC\n",
        "  # [클래스 불균형 모듈]\n",
        "\n",
        "from sklearn.decomposition import PCA\n",
        "  # [클래스 불균형 확인 시각화 모듈]\n",
        "\n",
        "from sklearn.metrics import fbeta_score, make_scorer\n",
        "  # [f-beta score 모듈]"
      ]
    },
    {
      "cell_type": "markdown",
      "metadata": {
        "id": "GJEh5wesbACT"
      },
      "source": [
        "#### 1) 의사결정 트리 분류 모델\n",
        "- 디폴트 상태에서 성능 평가를 통한 클래스 불균형, 과대 적합 확인\n",
        "- split_ratio에 따른 성능 평가 지표 확인 \n",
        "- 지니 불순도, 엔트로피 불순도에 따른 변화 확인\n"
      ]
    },
    {
      "cell_type": "markdown",
      "metadata": {
        "id": "gtFMnDxL7S36"
      },
      "source": [
        "##### (0) 클래스 불균형 조정 \n",
        "* ADASYN, SMOTE :  K-최근접 이웃 알고리즘 기반의 합성과잉표본추출 기법\n",
        "* 가중치 설정 : 아래 정의한 함수 내에서 가중치 설정과 하이퍼파라미터 조정을 동시에 진행함.\n",
        "* https://jair.org/index.php/jair/article/view/10302/24590\n",
        "* https://www.youtube.com/watch?v=LYg4R7Tv1v8\n",
        "* SMOTE-NC : 클래스 0과 1을 포함하는 더미변수와 같이 범주형 데이터를 인코딩하는 경우 샘플 결과는 0.8 또는 0.34 등이 될 수 있다. 따라서 SMOTE-NC를 사용하여 범주형 데이터 오버샘플링이 타당한지 확인한다.\n",
        "\n",
        "  > ClassWeightMaxDepth( ) : 최적의 가중치 탐색\n",
        "  >\n",
        "  > DecisionTreeMaxDepth(  ),: 최적의 max_depth 탐색\n",
        "  > \n",
        "  > DecisionTreeCostComplexity(  ) : 최적의 ccp_alpha 탐색\n",
        "  > \n",
        "  > DecisionTreeOverFittingTest ( ) : 하이퍼파라미터 설정 후 모델의 과적합 판정\n",
        "  > \n",
        "  > DecisionTreeCustom( ) : 최종 모델 성능 평가 및 feature importance 추출 "
      ]
    },
    {
      "cell_type": "markdown",
      "source": [
        "```\n",
        "# New Credit Bureau _ Impute NA with MICE _ Feature Selection with PCA, Filtering _ Outlier Detection with Isolation Forest\n",
        "\n",
        "NCB_MICE_FS_OD = pd.read_csv(\"/content/drive/MyDrive/NCB_MICE_FS.csv\", index_col = False)\n",
        "NCB_MICE_FS_OD.shape\n",
        "  \n",
        "# 연속형 변수 중 실수를 소수점 첫째 자리에서 정수로 반올림\n",
        "\n",
        "NCB_MICE_FS_OD = round(NCB_MICE_FS_OD, 0)\n",
        "# 실수(float)를 정수(integer)로 타입 변환\n",
        "columns_float_list = NCB_MICE_FS_OD.select_dtypes(include = [\"float\"]).columns.tolist()\n",
        "NCB_MICE_FS_OD.loc[:, columns_float_list] = NCB_MICE_FS_OD.loc[:, columns_float_list].astype(\"int\")\n",
        "\n",
        "# 더미변수를 8byte의 부호 없는 정수 타입, \"uint8\"으로 변환\n",
        "\n",
        "NCB_MICE_FS_OD.iloc[:, 6:124] = NCB_MICE_FS_OD.iloc[:, 6:124].astype(\"uint8\")\n",
        "NCB_MICE_FS_OD[\"duplicate\"] = NCB_MICE_FS_OD[\"duplicate\"].astype(\"uint8\")\n",
        "\n",
        "X = NCB_MICE_FS_OD.drop([\"TARGET\", \"SK_ID_CURR\", \"SK_ID_PREV\"], axis = 1)\n",
        "y = NCB_MICE_FS_OD[\"TARGET\"]\n",
        "```\n",
        "\n",
        "```\n",
        "# 표준화 할지 결정하기 -> 수행하지 않음\n",
        "\n",
        "X = NCB_MICE_FS_OD.drop([\"TARGET\", \"SK_ID_CURR\", \"SK_ID_PREV\"], axis = 1)\n",
        "scaler = StandardScaler()\n",
        "  # [표준화가 모델 성능에 미치는 영향은 없음]\n",
        "\n",
        "X_num_list = X.select_dtypes(include = [\"integer\", \"float\"]).columns.tolist()\n",
        "X.loc[:, X_num_list] = scaler.fit_transform(X.loc[:, X_num_list])\n",
        "y = NCB_MICE_FS_OD[\"TARGET\"]\n",
        "```\n",
        "\n",
        "```\n",
        "# 범주형 더미변수의 컬럼 번호(위치) 반환\n",
        "\n",
        "columns_dummy_list = X.select_dtypes(include = [\"uint8\"]).columns.tolist()\n",
        "columns_category_list: List = []\n",
        "\n",
        "for columns in columns_dummy_list:\n",
        "  columns_category_list.append(X.columns.get_loc(columns))\n",
        "```\n",
        "\n",
        "```\n",
        "# 합성표본추출기법 SMOTE_Nominal Continuous 활용] 5:5 클래스 균형 (16분 소요)\n",
        "\n",
        "smoteNC = SMOTENC(random_state = 2022, k_neighbors = 5, sampling_strategy = \"minority\",\n",
        "                  categorical_features = columns_category_list)\n",
        "X_smote, y_smote = smoteNC.fit_resample(X, y)\n",
        "\n",
        "X_smote.to_csv(\"/content/drive/MyDrive/Xsmote.csv\", index = False)\n",
        "y_smote.to_csv(\"/content/drive/MyDrive/ysmote.csv\", index = False)\n",
        "```"
      ],
      "metadata": {
        "id": "-dwGvNwDKCns"
      }
    },
    {
      "cell_type": "code",
      "source": [
        "X_smote = pd.read_csv(\"/content/drive/MyDrive/Xsmote.csv\", index_col = False)\n",
        "y_smote = pd.read_csv(\"/content/drive/MyDrive/ysmote.csv\", index_col = False)"
      ],
      "metadata": {
        "id": "1aXB0AaQFkiI"
      },
      "execution_count": 2,
      "outputs": []
    },
    {
      "cell_type": "code",
      "source": [
        "X_smote.iloc[:, 6:123] = X_smote.iloc[:, 6:123].astype(\"uint8\")\n",
        "X_smote.iloc[:, 125] = X_smote.iloc[:, 125].astype(\"uint8\")\n",
        "y_smote = y_smote.astype(\"category\")"
      ],
      "metadata": {
        "id": "oLIVrGOoKoI1"
      },
      "execution_count": 6,
      "outputs": []
    },
    {
      "cell_type": "code",
      "source": [
        "X_smote.info()\n",
        "y_smote.info()"
      ],
      "metadata": {
        "colab": {
          "base_uri": "https://localhost:8080/"
        },
        "id": "99sepCPYG2I9",
        "outputId": "48b0c1e6-a111-45ba-98d8-220658784d01"
      },
      "execution_count": 7,
      "outputs": [
        {
          "output_type": "stream",
          "name": "stdout",
          "text": [
            "<class 'pandas.core.frame.DataFrame'>\n",
            "RangeIndex: 575566 entries, 0 to 575565\n",
            "Columns: 126 entries, DAYS_EMPLOYED to duplicate\n",
            "dtypes: int64(8), uint8(118)\n",
            "memory usage: 99.9 MB\n",
            "<class 'pandas.core.frame.DataFrame'>\n",
            "RangeIndex: 575566 entries, 0 to 575565\n",
            "Data columns (total 1 columns):\n",
            " #   Column  Non-Null Count   Dtype   \n",
            "---  ------  --------------   -----   \n",
            " 0   TARGET  575566 non-null  category\n",
            "dtypes: category(1)\n",
            "memory usage: 562.3 KB\n"
          ]
        }
      ]
    },
    {
      "cell_type": "markdown",
      "source": [
        "```\n",
        "# sampling_strategy로 불균형 비율 설정하기\n",
        "\n",
        "smote_2 = SMOTE(random_state = 2022, k_neighbors = 5, sampling_strategy = {1:25736*6})\n",
        "X_smote2, y_smote2 = smote_2.fit_resample(X, y)\n",
        "\n",
        "print(X_smote2.shape, y_smote2.shape)\n",
        "Counter(y_smote2)\n",
        "  # [합성표본추출기법 SMOTE 활용] {1:4}, {1:3}, {1:2} 클래스 균형\n",
        "  # [sampling_strategy = {1:77208}, Counter({1: 77208, 0: 287783})]\n",
        "  # [sampling_strategy = {1:102944}, Counter({1: 102944, 0: 287783})]\n",
        "  # [sampling_strategy = {1:154416}, Counter({1: 154416, 0: 287783})]\n",
        "```\n",
        "\n",
        "```\n",
        "# SMOTE로 인해 과잉표본추출된 데이터를 제거하기 위한 과정\n",
        "# outer merge를 이용하여 제거하려고 했으나 세션이 다운돼서 진행할 수 없음\n",
        "\n",
        "df = pd.merge(X, X_smote, how='outer', indicator = True)\n",
        "df2 = pd.merge(y, y_smote, how='outer', indicator = True)\n",
        "df.query('_merge == \"right_only\"').drop(columns=['_merge'])\n",
        "df2.query('_merge == \"right_only\"').drop(columns=['_merge'])\n",
        "```"
      ],
      "metadata": {
        "id": "aeybPSOLHSmC"
      }
    },
    {
      "cell_type": "markdown",
      "source": [
        "##### X_smote 데이터에 파생변수 생성 : \"세대\" 변수 만들기\n",
        "* DAYS_BIRTH / 365"
      ],
      "metadata": {
        "id": "fJqz-dNaznF9"
      }
    },
    {
      "cell_type": "code",
      "source": [
        "X_smote[\"DAYS_BIRTH\"].isnull().sum()"
      ],
      "metadata": {
        "colab": {
          "base_uri": "https://localhost:8080/"
        },
        "id": "Qtey6acNTJ5l",
        "outputId": "04c0c558-86f7-4de4-de7b-565673b863fb"
      },
      "execution_count": 8,
      "outputs": [
        {
          "output_type": "execute_result",
          "data": {
            "text/plain": [
              "0"
            ]
          },
          "metadata": {},
          "execution_count": 8
        }
      ]
    },
    {
      "cell_type": "code",
      "source": [
        "# 세대 변수 만들기\n",
        "\n",
        "X_smote[\"GENERATION\"] = round(X_smote[\"DAYS_BIRTH\"] / 365, 0)\n",
        "\n",
        "def DAYS_BIRTH_category(age):\n",
        "  age = (age // 10) * 10\n",
        "    # [24 나누기 10의 몫인 2에 10을 곱하여 20대로 정의]\n",
        "  return age\n",
        "\n",
        "X_smote[\"GENERATION\"] = X_smote[\"GENERATION\"].apply(DAYS_BIRTH_category)\n",
        "  # [DAYS_BIRTH를 GENERATION으로 파생한 함수를 정의하여 NICE_MICE_FS_OD 데이터 프레임 내 변수(시리즈)에 적용]\n",
        "X_smote[\"GENERATION\"] = X_smote[\"GENERATION\"].astype(\"category\")\n",
        "  # [연속형에서 범주형으로 타입 변환]\n",
        "X_smote = pd.get_dummies(X_smote, columns = [\"GENERATION\"])\n",
        "  # [더미 변수로 변환]\n",
        "X_smote.head()\n",
        "\n",
        "for i in [20.0, 30.0, 40.0, 50.0, 60.0]:\n",
        "  print(Counter(X_smote[\"GENERATION_{}\".format(i)]))"
      ],
      "metadata": {
        "id": "CI8aI5haSyUk",
        "colab": {
          "base_uri": "https://localhost:8080/"
        },
        "outputId": "9b58090f-7dba-43f9-ccfc-038fe0032202"
      },
      "execution_count": 9,
      "outputs": [
        {
          "output_type": "stream",
          "name": "stderr",
          "text": [
            "<ipython-input-9-8202be7faa46>:3: PerformanceWarning: DataFrame is highly fragmented.  This is usually the result of calling `frame.insert` many times, which has poor performance.  Consider joining all columns at once using pd.concat(axis=1) instead.  To get a de-fragmented frame, use `newframe = frame.copy()`\n",
            "  X_smote[\"GENERATION\"] = round(X_smote[\"DAYS_BIRTH\"] / 365, 0)\n"
          ]
        },
        {
          "output_type": "stream",
          "name": "stdout",
          "text": [
            "Counter({0: 483878, 1: 91688})\n",
            "Counter({0: 385494, 1: 190072})\n",
            "Counter({0: 431365, 1: 144201})\n",
            "Counter({0: 482089, 1: 93477})\n",
            "Counter({0: 519438, 1: 56128})\n"
          ]
        }
      ]
    },
    {
      "cell_type": "code",
      "source": [
        "91688 + 190072 + 144201 + 93477 + 56128\n",
        "  # [\"GENERATION_{}\".format(i*10)이 1인 데이터 수와 전체 행의 수의 일치 여부 확인]"
      ],
      "metadata": {
        "colab": {
          "base_uri": "https://localhost:8080/"
        },
        "id": "16u9TpGlUeox",
        "outputId": "24a78f73-8a11-4494-bb57-0875187c16f3"
      },
      "execution_count": 10,
      "outputs": [
        {
          "output_type": "execute_result",
          "data": {
            "text/plain": [
              "575566"
            ]
          },
          "metadata": {},
          "execution_count": 10
        }
      ]
    },
    {
      "cell_type": "code",
      "source": [
        "X_smote.drop([\"DAYS_BIRTH\"], axis = 1, inplace = True)"
      ],
      "metadata": {
        "id": "VC22rLxdUncd"
      },
      "execution_count": 12,
      "outputs": []
    },
    {
      "cell_type": "markdown",
      "source": [
        "```\n",
        "# 세대(연령대) 변수 생성 시 Trial & Error\n",
        "\n",
        "for index in range(len(NCB_MICE_FS_OD.index)) :\n",
        "  if NCB_MICE_FS_OD.loc[index, \"GENERATION\"] < 20:\n",
        "    NCB_MICE_FS_OD.loc[index, \"GENERATION\"] = 10\n",
        "  elif NCB_MICE_FS_OD.loc[index, \"GENERATION\"] < 30:\n",
        "    NCB_MICE_FS_OD.loc[index, \"GENERATION\"] = 20\n",
        "  elif NCB_MICE_FS_OD.loc[index, \"GENERATION\"] < 40:\n",
        "    NCB_MICE_FS_OD.loc[index, \"GENERATION\"] = 30\n",
        "  elif NCB_MICE_FS_OD.loc[index, \"GENERATION\"] < 50:\n",
        "    NCB_MICE_FS_OD.loc[index, \"GENERATION\"] = 40\n",
        "  elif NCB_MICE_FS_OD.loc[index, \"GENERATION\"] < 60:\n",
        "    NCB_MICE_FS_OD.loc[index, \"GENERATION\"] = 50\n",
        "  else:\n",
        "    NCB_MICE_FS_OD.loc[index, \"GENERATION\"] = 60\n",
        "\n",
        "  # [세대(나이대) 범주형 변수 생성]\n",
        "```"
      ],
      "metadata": {
        "id": "Tl2uY8rK3t1_"
      }
    },
    {
      "cell_type": "markdown",
      "metadata": {
        "id": "aaiUCeJgh7bs"
      },
      "source": [
        "##### (1) 클래스 불균형 해소를 위한 클래스 가중치 설정"
      ]
    },
    {
      "cell_type": "markdown",
      "source": [
        "```\n",
        "# class_weight = {0:1, 1:3} 일 때의 최적 max_depth\n",
        "\n",
        "def ClassWeightMaxDepth(split_ratio: float):\n",
        "  np.random.seed(2023)\n",
        "  X_train, X_test, y_train, y_test = train_test_split(X,\n",
        "                                                      y,\n",
        "                                                      stratify = y,\n",
        "                                                      random_state = 2022,\n",
        "                                                      test_size = split_ratio)\n",
        "  weights = {0:1, 1:3}\n",
        "\n",
        "  grid_param = {\"max_depth\" : list(range(17, 24, 1))}\n",
        "\n",
        "  DT_2 = DecisionTreeClassifier(random_state = 2022, criterion = \"gini\", class_weight = weights)\n",
        "\n",
        "  f_beta = make_scorer(fbeta_score, beta=0.75)\n",
        "  grid_search = GridSearchCV(DT_2, grid_param, cv=5, scoring = f_beta)\n",
        "  grid_search.fit(X_train, y_train)\n",
        "\n",
        "  print(f\"split_ratio: {split_ratio}\")\n",
        "  print(f\"max_depth 최적 파라미터: {grid_search.best_params_}\")\n",
        "  print(f\"최적 max_depth일 때의 F-beta값: {grid_search.best_score_}\")\n",
        "\n",
        "    # ClassWeightMaxDepth(split_ratio = 0.5)\n",
        "    # split_ratio: 0.5\n",
        "    # max_depth 최적 파라미터: {'max_depth': 23}\n",
        "    # 최적 max_depth일 때의 F-beta값: 0.24049667466228467\n",
        "```"
      ],
      "metadata": {
        "id": "ToyLHEyDBNPS"
      }
    },
    {
      "cell_type": "code",
      "execution_count": 22,
      "metadata": {
        "id": "qoRNT_r9OUV1"
      },
      "outputs": [],
      "source": [
        "# dt_eval()\n",
        "# 혼동행렬, 정확도, 민감도, 재현율, f1스코어를 한번에 출력하는 함수\n",
        "\n",
        "def dt_eval(y_test, y_pred) :\n",
        "  confusion = confusion_matrix(y_test, y_pred, labels = [1,0])\n",
        "      # [1(양성)이 먼저 오는 혼동행렬 그리기]\n",
        "  accuracy = accuracy_score(y_test, y_pred)\n",
        "  precision = precision_score(y_test, y_pred)\n",
        "  recall = recall_score(y_test, y_pred)\n",
        "  f1 = f1_score(y_test, y_pred)\n",
        "  print(\"혼동 행렬\")\n",
        "  print(confusion)\n",
        "  \n",
        "  print(f\"정확도: {accuracy}\")\n",
        "  print(f\"정밀도: {precision}\")\n",
        "  print(f\"재현율: {recall}\")\n",
        "  print(f\"F1: {f1}\")\n",
        "  print(f\"F-0.75: {((1+0.75**2) * precision * recall) / ((0.75**2)*precision + recall)}\")"
      ]
    },
    {
      "cell_type": "markdown",
      "source": [
        "##### (2) 의사결정트리의 하이퍼파라미터를 튜닝하는 과정에서 발견한 몇가지 규칙성\n",
        "\n",
        "> DecisionTreeMaxDepth()\n",
        "* 다수 : 소수 클래스 가중치를 **1 : 12(1/소수 클래스 확률값)**로 주어 **5:5 균형인 상황**보다 **1 : 3**으로 주어 **4:1의 클래스 불균형이 완화된 상황**에서 performance measure인 F-0.75 점수가 유리함을 확인함\n",
        "* Train 데이터를 train(80%) : validation(20%)으로 분할하여 5겹 교차검증을 수행한 결과보다 Train(train + validataion, 80%) : Test(20%)로 분할하여 수행한 결과가 더 유리함을 확인함\n",
        "* 의사결정 트리 분류기의 GridSearchCV(격자탐색 교차검증)에서 최적화된 하이퍼파라미터 값(트리의 최대 깊이)로 그리드 내 가장 큰 수를 반환함\n",
        "* train : test의 분할 비율은 5:5, train에서 다시 분할하여 k겹 교차검증(cross validation)할 train : validation의 비율은 8:2로 설정(k = 5)"
      ],
      "metadata": {
        "id": "EwG3D79-RBeK"
      }
    },
    {
      "cell_type": "markdown",
      "source": [
        "![image.png](data:image/png;base64,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)"
      ],
      "metadata": {
        "id": "BvSnz-a3KZym"
      }
    },
    {
      "cell_type": "code",
      "source": [
        "# DecisionTreeMaxDepth()\n",
        "# max_depth 그리드 서치, class_weight(가중치 신용위험에 대한 가중치 1/p, (p=연체확률값)) -> smote(synthetic minority over sampling)\n",
        "\n",
        "def DecisionTreeMaxDepth(X: pd.DataFrame, \n",
        "                         y: pd.Series):\n",
        "\n",
        "  np.random.seed(2022)\n",
        "  X_train, X_test, y_train, y_test = train_test_split(X,\n",
        "                                                      y,\n",
        "                                                      stratify = y,\n",
        "                                                      test_size = 0.5,\n",
        "                                                      random_state = 2022)\n",
        "  \n",
        "  # default_wt = round(1/np.mean(y_train==1), 0)\n",
        "  # target_wt = [default_wt if target == 1 else 1 for target in y_train]\n",
        "    # [클래스별 가중치 설정] 신용위험에 대한 가중치 1/p, (p=연체확률값)\n",
        "    # [fit() 함수의 파라미터인 [sample_weight]의 값으로 들어가야 함]\n",
        "  \n",
        "  DT = DecisionTreeClassifier(random_state = 2022, criterion = \"gini\")\n",
        "\n",
        "  grid_param = {\"max_depth\" : list(range(8, 24, 1))}\n",
        "    # dictionary type의 grid_param에 max_depth(트리의 최대 깊이)에 대한 그리드를 17부터 23까지 list로 value를 저장\n",
        "  f_beta = make_scorer(fbeta_score, beta = 0.75)\n",
        "    # [beta = 0.75 : 정밀도에 대한 높은 가중치 8/10, 9/13 의 중간값]\n",
        "    # [beta = 1.35 : 재현율에 대한 높은 가중치 10/8, 13/9의 중간값]\n",
        "  k_fold = StratifiedKFold(5, shuffle = True, random_state = 2022)\n",
        "    # [층화 k = 5 폴드 교차검증]\n",
        "\n",
        "  grid_search = GridSearchCV(DT, grid_param, cv = k_fold, scoring = f_beta)\n",
        "  grid_search.fit(X_train, y_train)\n",
        "    # [cv = 5] 교차검증할 데이터 셋의 분할 비율을 8:2로 설정\n",
        "    # [grid_search의 parameter] sample_weight = target_wt를 제외\n",
        "\n",
        "  print(f\"max_depth 최적 파라미터: {grid_search.best_params_}\")\n",
        "  print(f\"최적 max_depth일 때의 F-beta값: {grid_search.best_score_}\")\n",
        "  # print(grid_search.cv_results_)"
      ],
      "metadata": {
        "id": "8XnDrOTke9AK"
      },
      "execution_count": 55,
      "outputs": []
    },
    {
      "cell_type": "code",
      "source": [
        "# F-Beta의 B = 0.75일 때\n",
        "\n",
        "DecisionTreeMaxDepth(X = X_smote.drop([\"CODE_GENDER_M\", \"CODE_GENDER_F\"], axis = 1),\n",
        "                     y = y_smote)\n",
        "  # [그리드를 8부터 23까지 설정하고 탐색하였을 때, 최적값은 23]\n",
        "  # [최적 max_depth일 때의 F-0.75 점수: 78.86%] train으로 학습한 모델을 validation으로 평가"
      ],
      "metadata": {
        "colab": {
          "base_uri": "https://localhost:8080/"
        },
        "id": "PROvaKIDWz5i",
        "outputId": "651de36b-d211-4ca9-8b94-3f46338d379d"
      },
      "execution_count": 52,
      "outputs": [
        {
          "output_type": "stream",
          "name": "stdout",
          "text": [
            "max_depth 최적 파라미터: {'max_depth': 23}\n",
            "최적 max_depth일 때의 F-beta값: 0.7886111627625516\n"
          ]
        }
      ]
    },
    {
      "cell_type": "code",
      "source": [
        "# F-Beta의 B = 1.35일 때\n",
        "\n",
        "DecisionTreeMaxDepth(X = X_smote.drop([\"CODE_GENDER_M\", \"CODE_GENDER_F\"], axis = 1),\n",
        "                     y = y_smote)\n",
        "  # [그리드를 8부터 23까지 설정하고 탐색하였을 때, 최적값은 23]\n",
        "  # [최적 max_depth일 때의 F-1.35 점수: 83.08%] train으로 학습한 모델을 validation으로 평가"
      ],
      "metadata": {
        "id": "73ycAoafBaoO",
        "colab": {
          "base_uri": "https://localhost:8080/"
        },
        "outputId": "c7cb339a-5372-4162-a602-953df86a720c"
      },
      "execution_count": 54,
      "outputs": [
        {
          "output_type": "stream",
          "name": "stdout",
          "text": [
            "max_depth 최적 파라미터: {'max_depth': 23}\n",
            "최적 max_depth일 때의 F-beta값: 0.8308269510748121\n"
          ]
        }
      ]
    },
    {
      "cell_type": "code",
      "source": [
        "# DecisionTreeOverfittingTest()\n",
        "# train data로 훈련시킨 모델을 test data와 train data로 각각 예측한 성능지표의 균형 비교하여 과적합 판단\n",
        "\n",
        "def DecisionTreeOverfittingTest(X: pd.DataFrame, \n",
        "                                y: pd.Series,\n",
        "                                depths: float,\n",
        "                                impurity: object):\n",
        "  \n",
        "  np.random.seed(2022)\n",
        "  X_train, X_test, y_train, y_test = train_test_split(X,\n",
        "                                                      y,\n",
        "                                                      stratify = y,\n",
        "                                                      test_size = 0.5,\n",
        "                                                      random_state = 2022)\n",
        "  dt = DecisionTreeClassifier(max_depth = depths, \n",
        "                              random_state = 2022, \n",
        "                              criterion = impurity)\n",
        "  dt.fit(X_train, y_train)\n",
        "\n",
        "  print(dt_eval(y_test, dt.predict(X_test)))\n",
        "  print(dt_eval(y_train, dt.predict(X_train)))"
      ],
      "metadata": {
        "id": "ewSWM0sw3z8I"
      },
      "execution_count": 25,
      "outputs": []
    },
    {
      "cell_type": "code",
      "source": [
        "# 의사결정트리 노드 분리규칙(불순도) : 지니 지수\n",
        "\n",
        "DecisionTreeOverfittingTest(X = X_smote.drop([\"CODE_GENDER_M\", \"CODE_GENDER_F\"], axis = 1),\n",
        "                            y = y_smote, depths = 23, impurity = \"gini\")\n",
        "  # [제1종오류가 제2종오류보다 발생률이 높은 상황(= 재현률 < 정밀도)]\n",
        "  # [test data에서의 정밀도가 더 높은 지니 지수를 불순도로 한 의사결정트리를 최종 모델로 선택]\n",
        "\n",
        "DecisionTreeOverfittingTest(X = X_smote.drop([\"CODE_GENDER_M\", \"CODE_GENDER_F\"], axis = 1),\n",
        "                            y = y_smote, depths = 20, impurity = \"gini\")\n",
        "  # [max_depth = 20일 때에 비해 23일 경우 test data에서 정밀도와 재현율의 균형이 확보됨을 확인]"
      ],
      "metadata": {
        "colab": {
          "base_uri": "https://localhost:8080/"
        },
        "id": "cox_rczJ_dqN",
        "outputId": "40b76032-e228-4504-96e2-6e158bf73cb3"
      },
      "execution_count": 29,
      "outputs": [
        {
          "output_type": "stream",
          "name": "stdout",
          "text": [
            "혼동 행렬\n",
            "[[128431  15461]\n",
            " [ 44730  99161]]\n",
            "정확도: 0.7908458804029425\n",
            "정밀도: 0.7416854834518165\n",
            "재현율: 0.8925513579629166\n",
            "F1: 0.8101547690764636\n",
            "F-0.75: 0.7897412045049148\n",
            "None\n",
            "혼동 행렬\n",
            "[[137606   6285]\n",
            " [ 32754 111138]]\n",
            "정확도: 0.8643457049235014\n",
            "정밀도: 0.807736557877436\n",
            "재현율: 0.956321104169128\n",
            "F1: 0.8757712783730203\n",
            "F-0.75: 0.8555929087373366\n",
            "None\n",
            "혼동 행렬\n",
            "[[127524  16368]\n",
            " [ 48910  94981]]\n",
            "정확도: 0.7731693671968115\n",
            "정밀도: 0.7227858576011427\n",
            "재현율: 0.8862480193478443\n",
            "F1: 0.7962138571330458\n",
            "F-0.75: 0.7741917623529252\n",
            "None\n",
            "혼동 행렬\n",
            "[[134828   9063]\n",
            " [ 39655 104237]]\n",
            "정확도: 0.8307127245181265\n",
            "정밀도: 0.7727285752766745\n",
            "재현율: 0.9370148237207331\n",
            "F1: 0.8469787105730996\n",
            "F-0.75: 0.8247880282288088\n",
            "None\n"
          ]
        }
      ]
    },
    {
      "cell_type": "code",
      "source": [
        "# 의사결정트리 노드 분리규칙(불순도) : 엔트로피\n",
        "\n",
        "DecisionTreeOverfittingTest(X = X_smote.drop([\"CODE_GENDER_M\", \"CODE_GENDER_F\"], axis = 1),\n",
        "                            y = y_smote, depths = 23, impurity = \"entropy\")"
      ],
      "metadata": {
        "colab": {
          "base_uri": "https://localhost:8080/"
        },
        "id": "jIICDIdcL1ZG",
        "outputId": "a8e9793e-e723-40fc-cb02-9ae9283cad9e"
      },
      "execution_count": 56,
      "outputs": [
        {
          "output_type": "stream",
          "name": "stdout",
          "text": [
            "혼동 행렬\n",
            "[[127945  15947]\n",
            " [ 45905  97986]]\n",
            "정확도: 0.7850741704687212\n",
            "정밀도: 0.7359505320678746\n",
            "재현율: 0.8891738248130542\n",
            "F1: 0.8053389227738228\n",
            "F-0.75: 0.784625185324734\n",
            "None\n",
            "혼동 행렬\n",
            "[[136024   7867]\n",
            " [ 35782 108110]]\n",
            "정확도: 0.8483266905967344\n",
            "정밀도: 0.7917302073268687\n",
            "재현율: 0.9453266708828211\n",
            "F1: 0.8617376788502901\n",
            "F-0.75: 0.8409177739888202\n",
            "None\n"
          ]
        }
      ]
    },
    {
      "cell_type": "markdown",
      "source": [
        "> DeicisionTreeCostComplexity()"
      ],
      "metadata": {
        "id": "mqPgO_61xBMe"
      }
    },
    {
      "cell_type": "code",
      "source": [
        "# DeicisionTreeCostComplexity() \n",
        "# 의사결정 분류나무의 xerror + alpha*xstd를 최소화하는 ccp_alpha를 찾는 함수\n",
        "# 출력값은 비용 복잡도(가중계수 alpha)가 증가할 때 트리의 리트노드 불순도의 변화 그래프 \n",
        "\n",
        "def DecisionTreeCostComplexity(X: pd.DataFrame, \n",
        "                               y: pd.Series,\n",
        "                               # lowclass_weight: float,\n",
        "                               depths: float):\n",
        "  \n",
        "  np.random.seed(2023)\n",
        "  X_train, X_test, y_train, y_test = train_test_split(X,\n",
        "                                                      y,\n",
        "                                                      stratify = y,\n",
        "                                                      test_size = 0.5,\n",
        "                                                      random_state = 2022)\n",
        "    # [훈련용 및 검증용 데이터 셋 분할비율 split_ratio로 입력값 설정]\n",
        "  # weights = {0:1, 1:lowclass_weight}\n",
        "    # [클래스별 가중치 설정] 다수클래스 0 = 1, 소수클래스 1 = lowclass_weight로 입력값 설정\n",
        "\n",
        "  DecisionTree = DecisionTreeClassifier(random_state = 2023,\n",
        "                                        # class_weight = weights\n",
        "                                        max_depth = depths)\n",
        "    # [정지규칙, 가지치기, 분리기준 모두 디폴트 설정]\n",
        "    # [class_weight 제외] 소수 클래스 TARGET 1 가중치 조정 파라미터 제거\n",
        "    \n",
        "  path = DecisionTree.cost_complexity_pruning_path(X_train, y_train)\n",
        "  ccp_alphas, impurities = path.ccp_alphas, path.impurities\n",
        "    # [가지치기 과정에서 유효한 알파(가중계수)와 총 리프 노드의 불순도 반환]\n",
        "\n",
        "  fig, ax = plt.subplots()\n",
        "  ax.plot(ccp_alphas[:-1], \n",
        "          impurities[:-1],\n",
        "          marker = \"o\",\n",
        "          drawstyle = \"steps-post\")\n",
        "  ax.set_xlabel(\"Effective alpha\")\n",
        "  ax.set_ylabel(\"Total Impurity of leaf nodes\")\n",
        "  ax.set_title(\"Total Impurity vs effective alpha for training set\")  "
      ],
      "metadata": {
        "id": "0lO5nFA0Anz2"
      },
      "execution_count": 31,
      "outputs": []
    },
    {
      "cell_type": "code",
      "execution_count": 32,
      "metadata": {
        "id": "R4HVmNWMncgJ",
        "colab": {
          "base_uri": "https://localhost:8080/",
          "height": 295
        },
        "outputId": "6310a525-ae17-4ce4-a30b-68d37964abc4"
      },
      "outputs": [
        {
          "output_type": "display_data",
          "data": {
            "text/plain": [
              "<Figure size 432x288 with 1 Axes>"
            ],
            "image/png": "[encoded data removed]"
          },
          "metadata": {
            "needs_background": "light"
          }
        }
      ],
      "source": [
        "DecisionTreeCostComplexity(X = X_smote.drop([\"CODE_GENDER_M\", \"CODE_GENDER_F\"], axis = 1),\n",
        "                           y = y_smote, depths = 23)\n",
        "    # [ccp_alpha = 0] ccp_alpha 는 정확도를 높이는 전략이므로 정밀도, 재현율, f1 score 등의 지표는 되려 낮아질 수 있음"
      ]
    },
    {
      "cell_type": "markdown",
      "source": [
        "##### (3) 최종 모델 (split_ratio = 0.5, max_detpth = 16, ccp_alpha = 0,  criterion = \"gini\")"
      ],
      "metadata": {
        "id": "Lm7iHl-y_ZBO"
      }
    },
    {
      "cell_type": "markdown",
      "metadata": {
        "id": "v65DQ3oLhzJd"
      },
      "source": [
        "> DecisionTreeCustom()"
      ]
    },
    {
      "cell_type": "code",
      "source": [
        "# DecisionTreeCustom() : 의사결정 트리 분류기 적합\n",
        "# 의사결정 분류나무의 train:test 분할비율, 비용복잡도/가중계수, 소수 클래스 가중치를 입력하여 \n",
        "# 모형을 적합하고 performance measure(금융회사의 기대손실)을 예측하는 함수\n",
        "# 출력값은 혼동행렬, 정확도-정밀도-재현율, performance_measure, TARGET = 1이 될 분류 확률의 분포를 나타내는 기술통계량 추출\n",
        "\n",
        "def DecisionTreeCustom(X: pd.DataFrame, y: pd.Series, split_ratio: float, alpha: float, depth: int, impurity: object):\n",
        "  np.random.seed(2023)\n",
        "  X_train, X_test, y_train, y_test = train_test_split(X,\n",
        "                                                      y,\n",
        "                                                      stratify = y,\n",
        "                                                      random_state = 2022,\n",
        "                                                      test_size = split_ratio)\n",
        "    # [훈련용 및 검증용 데이터 셋 분할비율 split_ratio로 입력값 설정]\n",
        "\n",
        "  decisionTreePruned = DecisionTreeClassifier(random_state = 2023, \n",
        "                                              max_depth = depth,\n",
        "                                              ccp_alpha = alpha,\n",
        "                                              criterion = impurity)\n",
        "\n",
        "  decisionTreePruned.fit(X_train, y_train)\n",
        "  y_pred = decisionTreePruned.predict(X_test)\n",
        "  y_pred = np.array(y_pred)\n",
        "  y_test = np.array(y_test)\n",
        "  \n",
        "  TP = 0\n",
        "  FN = 0\n",
        "  FP = 0\n",
        "  TN = 0\n",
        "\n",
        "  for i in range(len(y_pred)):\n",
        "    if y_test[i] == y_pred[i] == 1:\n",
        "      TP += 1\n",
        "    if y_test[i] == 1 and y_pred[i] == 0:\n",
        "      FN += 1\n",
        "    if y_test[i] == 0 and y_pred[i] == 1:\n",
        "      FP += 1\n",
        "    if y_test[i] == 0 and y_pred[i] == 0:\n",
        "      TN += 1\n",
        "\n",
        "  confusionMatrix = np.array([[TP, FN], [FP, TN]]).reshape(2, 2)\n",
        "  print(confusionMatrix)\n",
        "  Precision = TP / (TP + FP)\n",
        "  Recall = TP / (TP + FN)\n",
        "  print(\"정확도 :\", (TP + TN) / (TP + FN + FP + TN))\n",
        "  print(\"정밀도 :\", Precision)\n",
        "  print(\"재현율 :\", Recall)\n",
        "  print(\"F-Beta 점수 :\", ((1+(0.75**2))*Precision*Recall) / ((0.75**2)*Precision + Recall))\n",
        "\n",
        "  # 특징 중요도\n",
        "  dt_series = pd.Series(decisionTreePruned.feature_importances_, index = X.columns)\n",
        "  dt_top_21 = dt_series.sort_values(ascending=False)[:21]\n",
        "  plt.title(\"Feature Importance Top 21\")\n",
        "  sns.barplot(x = dt_top_21, y = dt_top_21.index)\n",
        "  plt.show()\n",
        "\n",
        "  # 분류 가중치 테이블\n",
        "  DBCapital = [2735, 23872]\n",
        "  DBInsurance = [6981, 488399]\n",
        "  DBCapital = pd.Series(DBCapital)\n",
        "  DBInsurance = pd.Series(DBInsurance)\n",
        "  DBWeights = pd.DataFrame({\n",
        "      \"Capital\" : DBCapital,\n",
        "      \"Insurance\" : DBInsurance\n",
        "  }).T\n",
        "  DBWeights.columns = [\"FN\", \"FP\"]\n",
        "  DBWeights\n",
        "\n",
        "  # 분류 가중치 단위 조정 : 자연로그 변환\n",
        "  DBWeights_loge = np.log(DBWeights)\n",
        "  classifyWeights = round(DBWeights_loge, 0)\n",
        "  classifyWeights = -(classifyWeights)\n",
        "    # [FN, FP 음수로 치환]\n",
        "  classifyWeights.at[2,:] = confusionMatrix[[0,1], [1,0]]\n",
        "    # [confusionMatrix[[0,1], [1,0]] = Prediction(FN, FP의 개수)\n",
        "  classifyWeights.index = [\"Capital\", \"Insurance\", \"Prediction\"]\n",
        "  print(classifyWeights)\n",
        "  \n",
        "  classifyWeights = classifyWeights.transpose()\n",
        "  print(classifyWeights)\n",
        "\n",
        "  classifyWeights[\"CapitalExpectedLoss\"] = classifyWeights[\"Capital\"] * classifyWeights[\"Prediction\"]\n",
        "  classifyWeights[\"InsuranceExpectedLoss\"] = classifyWeights[\"Insurance\"] * classifyWeights[\"Prediction\"]\n",
        "  print(classifyWeights)\n",
        "    # 행렬곱을 numpy module없이 구현하는 방법 : [[sum(x*Prediction) for x in i] for i in zip(*listcapital, *listinsurance)]\n",
        "\n",
        "  print(sum(classifyWeights[\"CapitalExpectedLoss\"]))\n",
        "  print(sum(classifyWeights[\"InsuranceExpectedLoss\"]))\n",
        "\n",
        "  decisionTreeProb = decisionTreePruned.predict_proba(X_test)\n",
        "  print(pd.DataFrame(decisionTreeProb).describe())\n",
        "    # [분류 확률의 분포 출력]"
      ],
      "metadata": {
        "id": "_nMHixNnrqus"
      },
      "execution_count": 33,
      "outputs": []
    },
    {
      "cell_type": "code",
      "source": [
        "DecisionTreeCustom(X = X_smote.drop([\"CODE_GENDER_M\", \"CODE_GENDER_F\"], axis = 1),\n",
        "                   y = y_smote,\n",
        "                   split_ratio = 0.5, \n",
        "                   alpha = 0,\n",
        "                   depth = 23,\n",
        "                   impurity = \"gini\")"
      ],
      "metadata": {
        "colab": {
          "base_uri": "https://localhost:8080/",
          "height": 772
        },
        "id": "an4G1TOJvB8x",
        "outputId": "7e1ddb33-bcc0-4569-9e06-efdc607ae2be"
      },
      "execution_count": 34,
      "outputs": [
        {
          "output_type": "stream",
          "name": "stdout",
          "text": [
            "[[128433  15459]\n",
            " [ 44738  99153]]\n",
            "정확도 : 0.7908250313604348\n",
            "정밀도 : 0.741654203070953\n",
            "재현율 : 0.8925652572762905\n",
            "F-Beta 점수 : 0.7897224236330492\n"
          ]
        },
        {
          "output_type": "display_data",
          "data": {
            "text/plain": [
              "<Figure size 432x288 with 1 Axes>"
            ],
            "image/png": "[encoded data removed]"
          },
          "metadata": {
            "needs_background": "light"
          }
        },
        {
          "output_type": "stream",
          "name": "stdout",
          "text": [
            "                 FN       FP\n",
            "Capital        -8.0    -10.0\n",
            "Insurance      -9.0    -13.0\n",
            "Prediction  15459.0  44738.0\n",
            "    Capital  Insurance  Prediction\n",
            "FN     -8.0       -9.0     15459.0\n",
            "FP    -10.0      -13.0     44738.0\n",
            "    Capital  Insurance  Prediction  CapitalExpectedLoss  InsuranceExpectedLoss\n",
            "FN     -8.0       -9.0     15459.0            -123672.0              -139131.0\n",
            "FP    -10.0      -13.0     44738.0            -447380.0              -581594.0\n",
            "-571052.0\n",
            "-720725.0\n",
            "                   0              1\n",
            "count  287783.000000  287783.000000\n",
            "mean        0.490841       0.509159\n",
            "std         0.392329       0.392329\n",
            "min         0.000000       0.000000\n",
            "25%         0.203163       0.000000\n",
            "50%         0.335840       0.664160\n",
            "75%         1.000000       0.796837\n",
            "max         1.000000       1.000000\n"
          ]
        }
      ]
    },
    {
      "cell_type": "markdown",
      "source": [
        "##### (4) 변수 중요도에 따른 21차원으로 축소 후 모델 적합\n",
        "\n",
        "모든 performance measure가 악화하는 문제 발생하여 적절한 대안이 아님을 확인"
      ],
      "metadata": {
        "id": "8B7Zam_mkINS"
      }
    },
    {
      "cell_type": "markdown",
      "source": [
        "```\n",
        "X_reduction_numeric = X.select_dtypes(exclude = [\"uint8\"])\n",
        "X_numeric_list = X_reduction_numeric.columns.tolist()\n",
        "\n",
        "fourBinsDiscretizer = KBinsDiscretizer(n_bins = 5, \n",
        "                                       encode = \"ordinal\",\n",
        "                                       strategy = \"quantile\")\n",
        "  # [연속형 변수를 4개 구간에 따라 범주형 변수로 변환]\n",
        "\n",
        "X_reduction_numeric = pd.DataFrame(\n",
        "    fourBinsDiscretizer.fit_transform(X_reduction_numeric),\n",
        "    columns = X_numeric_list)\n",
        "\n",
        "X_reduction_dummy = X.loc[\n",
        "    :, [\"NAME_EDUCATION_TYPE_Higher education\", \n",
        "        \"NAME_EDUCATION_TYPE_Secondary / secondary special\",\n",
        "        \"NAME_HOUSING_TYPE_House / apartment\",\n",
        "        \"ORGANIZATION_TYPE_entity_type\",\n",
        "        \"ORGANIZATION_TYPE_Self-employed\",\n",
        "        \"ORGANIZATION_TYPE_trade_type\",\n",
        "        \"ORGANIZATION_TYPE_Industry_type\",\n",
        "        \"NAME_INCOME_TYPE_Working\",\n",
        "        \"NAME_INCOME_TYPE_Commercial associate\",\n",
        "        \"OCCUPATION_TYPE_Laborers\",\n",
        "        \"OCCUPATION_TYPE_Sales staff\",\n",
        "        \"CODE_GENDER_M\"]]\n",
        "\n",
        "# X.iloc[:, 0:30].info()\n",
        "# X.iloc[:, 31:60].info()\n",
        "# X.iloc[:, 61:90].info()\n",
        "# X.iloc[:, 91:117].info()\n",
        "\n",
        "X_reduction = pd.concat(\n",
        "    [X_reduction_numeric, X_reduction_dummy], axis = 1)\n",
        "X_reduction = X_reduction.astype(\"category\")\n",
        "  # [사후 특징 중요도에 따른 특징 선택한 데이터 프레임]\n",
        "\n",
        "X_dummy = X.select_dtypes(include = [\"uint8\"])\n",
        "X_binsDiscretize = pd.concat(\n",
        "    [X_reduction_numeric, X_dummy], axis = 1)\n",
        "\n",
        "  # DecisionTreeCustom(X = X_binsDiscretize, split_ratio = 0.2, alpha = 0, depth = 23, impurity = \"gini\")\n",
        "    # [연속형 변수를 4분위수에 따라 5구간으로 분리하여 범주형 변수로 변환하는 방식은 성능을 악화시키는 대안]\n",
        "```"
      ],
      "metadata": {
        "id": "WRTwHsjPEzLE"
      }
    },
    {
      "cell_type": "markdown",
      "source": [
        "```\n",
        "# 의사결정트리 시각화 코드\n",
        "\n",
        "DV_names = np.array([\"1\", \"0\"])\n",
        "IV_names = X.columns.tolist()\n",
        "\n",
        "plt.figure(figsize = (30, 4))\n",
        "plot_tree(decisionTreePruned, \n",
        "          class_names = DV_names,\n",
        "          feature_names = IV_names,\n",
        "          filled = True, \n",
        "          max_depth = 3)\n",
        "plt.title(\"Tuning Decision Tree\")\n",
        "plt.show()\n",
        "\n",
        "dtNode = export_text(decisionTreePruned, feature_names = IV_names)\n",
        "print(dtNode)\n",
        "```"
      ],
      "metadata": {
        "id": "pSdGsMviFFi3"
      }
    },
    {
      "cell_type": "markdown",
      "source": [
        "##### (5) 다수 클래스에서 표본을 소수 클래스 데이터 수로 추출하여 만든 각 모델을 투표 (일종의 ML 버전 Mini Batch)"
      ],
      "metadata": {
        "id": "rx_wGobNrSWK"
      }
    },
    {
      "cell_type": "markdown",
      "source": [
        "```\n",
        "df_NCB = NCB_MICE_FS_OD.drop([\"SK_ID_CURR\", \"SK_ID_PREV\"], axis = 1)\n",
        "df_TARGET_0 = df_NCB[df_NCB[\"TARGET\"] == 0]\n",
        "df_TARGET_1 = df_NCB[df_NCB[\"TARGET\"] == 1]\n",
        "```\n",
        "\n",
        "```\n",
        "def get_train_batch(df_majority, df_minority, start, end):\n",
        "    # [다수클래스를 분할한(표본추출한) 12개의 batch를 소수클래스 표본과 df_train으로 병합]\n",
        "  df_train = pd.concat([df_majority[start : end], df_minority], axis = 0, ignore_index = True)\n",
        "  \n",
        "  X_train = df_train.drop(\"TARGET\", axis = 1)\n",
        "  y_train = df_train[\"TARGET\"]\n",
        "\n",
        "  return X_train, y_train\n",
        "```\n",
        "\n",
        "```\n",
        "start: int = 0\n",
        "end: int = len(df_TARGET_1)\n",
        "\n",
        "while True :\n",
        "  if end <= len(df_TARGET_0) :\n",
        "    get_train_batch(df_TARGET_0, df_TARGET_1, start = start, end = end)\n",
        "    \n",
        "    start += len(df_TARGET_1)\n",
        "    end += len(df_TARGET_1)\n",
        "  else : \n",
        "    # end > len(df_TARGET_0)\n",
        "    break\n",
        "```"
      ],
      "metadata": {
        "id": "BYrHCAozaBgY"
      }
    },
    {
      "cell_type": "markdown",
      "source": [
        "##### (6) 비용 기반 데이터 가중치 부여한 의사결정 트리 (cost-sensitive decision tree)\n",
        "\n",
        "* 결정 임계치(threshold)에 부여 :  class probability\n",
        "* 분할 기준(split criteria)에 반영 : log loss = $ \\alpha \\cdot p \\log{p} + (1-p) \\log{1-p} $\n",
        "* 가지치기(pruning)에 반영\n",
        "* https://github.com/david-cortes/costsensitive"
      ],
      "metadata": {
        "id": "5-NqtQ6My7eQ"
      }
    },
    {
      "cell_type": "markdown",
      "source": [
        "\n",
        "\n",
        "---\n",
        "\n"
      ],
      "metadata": {
        "id": "XqGkZHdmO-6e"
      }
    },
    {
      "cell_type": "markdown",
      "source": [
        "#### 2) 나이브 베이지안 분류기 : 가우시안, 베르누이, 범주형"
      ],
      "metadata": {
        "id": "zpkuBTAOAy9H"
      }
    },
    {
      "cell_type": "code",
      "source": [
        "def BinaryNaiveBayes(X: pd.DataFrame, y: pd.Series, smoothing: int, threshold: float):\n",
        "  \n",
        "  np.random.seed(2023)\n",
        "  X_train, X_test, y_train, y_test = train_test_split(X,\n",
        "                                                      y,\n",
        "                                                      stratify = y,\n",
        "                                                      test_size = 0.5,\n",
        "                                                      random_state = 2023)\n",
        "  binaryNB = BernoulliNB(\n",
        "      binarize = 0,\n",
        "      alpha = smoothing,\n",
        "      fit_prior = True,\n",
        "      class_prior = None)\n",
        "        # [binarize] 특성변수 표본을 이진분류하는 임계값으로 X 독립변수는 더미인코딩하여 0(defalut) 설정 \n",
        "        # [alpha] 평활화(스무딩) 여부\n",
        "        # [fit_prior] 사전확률을 균일분포(0,1)을 따르도록 할 것인지 설정\n",
        "        # [class_prior] 종속변수의 각 클래스별 사전확률 구체화하지 않고 데이터 분포를 따르도록 설정\n",
        "        \n",
        "  # target_wt = [weights if target == 1 else 1 for target in y_train]\n",
        "      # [sample_weight] 클래스 불균형을 4:1로 완화하기 위해 소수클래스에 가중치 3배 부여\n",
        "      # [Error] is_scalar(key) and isna(key) and not self.hasnans: KeyError: 0\n",
        "      # [The sample_weight and class_weight are two different things.]\n",
        "      # [sample_weight] array-like of shape (n_samples,), default = None\n",
        "\n",
        "  binaryNB.fit(X_train, y_train) \n",
        "    # [sample_weight] = target_wt\n",
        "  y_pred_test = binaryNB.predict(X_test)\n",
        "  y_pred_train = binaryNB.predict(X_train)\n",
        "  \n",
        "  print(dt_eval(y_test, y_pred_test))\n",
        "  print(dt_eval(y_train, y_pred_train))\n",
        "  \n",
        "  y_pred_test = pd.DataFrame(binaryNB.predict_proba(X_test))[1]\n",
        "  y_pred = y_pred_test.copy()\n",
        "  y_pred[y_pred > threshold] = 1\n",
        "  y_pred[y_pred <= threshold] = 0\n",
        "\n",
        "  y_pred = np.array(y_pred)\n",
        "  y_test = np.array(y_test)\n",
        "  \n",
        "  TP = 0\n",
        "  FN = 0\n",
        "  FP = 0\n",
        "  TN = 0\n",
        "\n",
        "  for i in range(len(y_pred)):\n",
        "    if y_test[i] == y_pred[i] == 1:\n",
        "      TP += 1\n",
        "    if y_test[i] == 1 and y_pred[i] == 0:\n",
        "      FN += 1\n",
        "    if y_test[i] == 0 and y_pred[i] == 1:\n",
        "      FP += 1\n",
        "    if y_test[i] == 0 and y_pred[i] == 0:\n",
        "      TN += 1\n",
        "\n",
        "  confusionMatrix = np.array([[TP, FN], [FP, TN]]).reshape(2, 2)\n",
        "  Precision = TP / (TP + FP)\n",
        "  Recall = TP / (TP + FN)\n",
        "  F1 = (2*Precision*Recall) / (Precision + Recall)\n",
        "  F_Beta = ((1+(0.75**2))*Precision*Recall) / ((0.75**2)*Precision + Recall)\n",
        "  print(\"정확도 :\", (TP + TN) / (TP + FN + FP + TN))\n",
        "  print(\"정밀도 :\", Precision)\n",
        "  print(\"재현율 :\", Recall)\n",
        "  \n",
        "  # 분류 가중치 테이블\n",
        "  DBCapital = [2735, 23872]\n",
        "  DBInsurance = [6981, 488399]\n",
        "  DBCapital = pd.Series(DBCapital)\n",
        "  DBInsurance = pd.Series(DBInsurance)\n",
        "  DBWeights = pd.DataFrame({\n",
        "      \"Capital\" : DBCapital,\n",
        "      \"Insurance\" : DBInsurance\n",
        "  }).T\n",
        "  DBWeights.columns = [\"FN\", \"FP\"]\n",
        "\n",
        "  # 분류 가중치 단위 조정 : 자연로그 변환\n",
        "  DBWeights_loge = np.log(DBWeights)\n",
        "  classifyWeights = round(DBWeights_loge, 0)\n",
        "  classifyWeights = -(classifyWeights)\n",
        "    # [FN, FP 음수로 치환]\n",
        "  classifyWeights.at[2,:] = confusionMatrix[[0,1], [1,0]]\n",
        "    # [confusionMatrix[[0,1], [1,0]] = Prediction(FN, FP의 개수)\n",
        "  classifyWeights.index = [\"Capital\", \"Insurance\", \"Prediction\"]\n",
        "  classifyWeights = classifyWeights.transpose()\n",
        "  classifyWeights[\"CapitalExpectedLoss\"] = classifyWeights[\"Capital\"] * classifyWeights[\"Prediction\"]\n",
        "  classifyWeights[\"InsuranceExpectedLoss\"] = classifyWeights[\"Insurance\"] * classifyWeights[\"Prediction\"]\n",
        "    # 행렬곱을 numpy module없이 구현하는 방법 : [[sum(x*Prediction) for x in i] for i in zip(*listcapital, *listinsurance)]\n",
        "  print(sum(classifyWeights[\"CapitalExpectedLoss\"]), sum(classifyWeights[\"InsuranceExpectedLoss\"]))"
      ],
      "metadata": {
        "id": "TZeziD7xA9Xr"
      },
      "execution_count": 37,
      "outputs": []
    },
    {
      "cell_type": "code",
      "source": [
        "BinaryNaiveBayes(X = X_smote.drop([\"CODE_GENDER_M\", \"CODE_GENDER_F\"], axis = 1),\n",
        "                 y = y_smote, smoothing = 1, threshold = 0.5)"
      ],
      "metadata": {
        "colab": {
          "base_uri": "https://localhost:8080/"
        },
        "id": "SV_pGKjLW8ox",
        "outputId": "1fc01339-5841-4c33-858f-ef602f3804db"
      },
      "execution_count": 38,
      "outputs": [
        {
          "output_type": "stream",
          "name": "stderr",
          "text": [
            "/usr/local/lib/python3.8/dist-packages/sklearn/utils/validation.py:993: DataConversionWarning: A column-vector y was passed when a 1d array was expected. Please change the shape of y to (n_samples, ), for example using ravel().\n",
            "  y = column_or_1d(y, warn=True)\n"
          ]
        },
        {
          "output_type": "stream",
          "name": "stdout",
          "text": [
            "혼동 행렬\n",
            "[[104635  39257]\n",
            " [ 49999  93892]]\n",
            "정확도: 0.6898496436551151\n",
            "정밀도: 0.6766623122987183\n",
            "재현율: 0.7271773274400245\n",
            "F1: 0.7010109672189357\n",
            "F-0.75: 0.6940184740839632\n",
            "None\n",
            "혼동 행렬\n",
            "[[104840  39051]\n",
            " [ 50175  93717]]\n",
            "정확도: 0.6899538888676537\n",
            "정밀도: 0.6763216462922943\n",
            "재현율: 0.7286070706298517\n",
            "F1: 0.7014914387800847\n",
            "F-0.75: 0.6942570032943436\n",
            "None\n",
            "정확도 : 0.6898496436551151\n",
            "정밀도 : 0.6766623122987183\n",
            "재현율 : 0.7271773274400245\n",
            "-814046.0 -1003300.0\n"
          ]
        }
      ]
    },
    {
      "cell_type": "markdown",
      "source": [
        "#### 3) 이항 로지스틱 회귀분석"
      ],
      "metadata": {
        "id": "QcA8zrvR_KFO"
      }
    },
    {
      "cell_type": "code",
      "source": [
        "# 피어슨 상관분석\n",
        "\n",
        "correlation = X_smote.select_dtypes(exclude = \"uint8\").corr()\n",
        "mask = np.zeros_like(correlation, dtype = np.bool)\n",
        "mask[np.triu_indices_from(mask)] = True\n",
        "\n",
        "sns.heatmap(data = correlation, \n",
        "            cmap = \"GnBu\", \n",
        "              # [colormap 팔레트]\n",
        "            annot = True, \n",
        "              # [실제값 표시]\n",
        "            fmt = \"0.01f\",\n",
        "              # [소수점 둘째 자리까지 표시]\n",
        "            mask = mask, \n",
        "              # [표시하지 않을 위쪽 삼각형 마스크 부분 지정]\n",
        "            linewidths = 0.5, \n",
        "              # [경계면 실선으로 구분]\n",
        "            vmin = -1,\n",
        "            vmax = 1\n",
        "              # [colorbar의 범위 -1 ~ 1로 지정]\n",
        "            )\n",
        "plt.show()\n",
        "  # [AMT_CREDIT_x와 AMT_GOODS_PRICE_x의 상관계수 r] = 1\n",
        "  # [AMT_CREDIT_x와 AMT_APPLICATION의 상관계수 r] = 1"
      ],
      "metadata": {
        "colab": {
          "base_uri": "https://localhost:8080/",
          "height": 443
        },
        "id": "-VgBODnn-brh",
        "outputId": "4dd2e3d8-7519-4bb9-8a5c-8aaaefb7b059"
      },
      "execution_count": 39,
      "outputs": [
        {
          "output_type": "stream",
          "name": "stderr",
          "text": [
            "<ipython-input-39-75332ea6fbf0>:4: DeprecationWarning: `np.bool` is a deprecated alias for the builtin `bool`. To silence this warning, use `bool` by itself. Doing this will not modify any behavior and is safe. If you specifically wanted the numpy scalar type, use `np.bool_` here.\n",
            "Deprecated in NumPy 1.20; for more details and guidance: https://numpy.org/devdocs/release/1.20.0-notes.html#deprecations\n",
            "  mask = np.zeros_like(correlation, dtype = np.bool)\n"
          ]
        },
        {
          "output_type": "display_data",
          "data": {
            "text/plain": [
              "<Figure size 432x288 with 2 Axes>"
            ],
            "image/png": "[encoded data removed]"
          },
          "metadata": {
            "needs_background": "light"
          }
        }
      ]
    },
    {
      "cell_type": "code",
      "source": [
        "X_num = X_smote.select_dtypes(exclude = [\"uint8\"])\n",
        "X_fac = X_smote.select_dtypes(include = [\"uint8\"])\n",
        "X_fac = X_fac.astype(\"category\")\n",
        "\n",
        "scaler = StandardScaler()\n",
        "  # X_num = X_smote.loc[:, X_smote.select_dtypes(exclude = [\"uint8\"]).columns] \n",
        "X_num = pd.DataFrame(scaler.fit_transform(X_num), columns = X_num.columns)\n",
        "X_smote_numfac = pd.concat([X_num, X_fac], axis = 1)"
      ],
      "metadata": {
        "id": "GgkUIQETZHct"
      },
      "execution_count": 57,
      "outputs": []
    },
    {
      "cell_type": "code",
      "source": [
        "def BinaryLogisticRegression():\n",
        "  \n",
        "  np.random.seed(2023)\n",
        "  X_train, X_test, y_train, y_test = train_test_split(X_smote_numfac.drop([\"CODE_GENDER_F\", \"CODE_GENDER_M\", \"AMT_CREDIT_y\", \"AMT_GOODS_PRICE_x\"], axis = 1),\n",
        "                                                      y_smote,\n",
        "                                                      stratify = y_smote,\n",
        "                                                      test_size = 0.5,\n",
        "                                                      random_state = 2023)\n",
        "\n",
        "  # 모델의 회귀계수와 오즈비가 특성변수(IV)의 클래스(DV) 분류 결정에 미치는 영향의 정도 파악\n",
        "  '''\n",
        "  logit = sm.Logit(y_train, X_train)\n",
        "  result = logit.fit()\n",
        "    # [RuntimeWarning: overflow encountered in exp return 1/(1+np.exp(-X))]\n",
        "    # [RuntimeWarning: divide by zero encountered in log return np.sum(np.log(self.cdf(q*np.dot(X,params))))]\n",
        "    # [LinAlgError: Singular matrix]\n",
        "    \n",
        "  print(result.params)\n",
        "  logitCoef = pd.DataFrame(result.params)\n",
        "  print(logitCoef)\n",
        "  print(logitCoef.sort_values(ascending = False).iloc[:, 0:20])\n",
        "\n",
        "  print((1 - np.exp(result.params)) * 100)\n",
        "    # [편회귀계수(coef)와 오즈비 np.exp(result.params) 계산]\n",
        "    # [feature(IV)가 TARGET(DV)에 미치는 영향은 (100 * (1 - odds ratio))]\n",
        "\n",
        "  print(result.summary2())\n",
        "    # [duplicate 변수를 제외한 나머지 연속형 변수의 영향이 낮은 이유] 표준화(척도/단위 변환)을 수행하지 않았기 때문\n",
        "    # [변수간 상관관계 등 문제가 발생한 이유 파악하여야 함]\n",
        "  '''\n",
        "\n",
        "  # train data로 모델 적합 후 test data로 클래스 분류(예측)\n",
        "  glm = LogisticRegression()\n",
        "  glm.fit(X_train, y_train)\n",
        "  y_pred_test = glm.predict(X_test)\n",
        "  y_pred_train = glm.predict(X_train)\n",
        "\n",
        "  print(dt_eval(y_test, y_pred_test))\n",
        "  print(dt_eval(y_train, y_pred_train))\n",
        "  \n",
        "  # print(pd.DataFrame(glm.predict_proba(X_test)).describe())\n",
        "    # [각 특성변수에 대한 회귀계수의 로그 오즈비(승산비)를 구한 후]\n",
        "    # [시그모이드 함수를 적용하여 실제 데이터가 해당 클래스에 속할 분류 확률]"
      ],
      "metadata": {
        "id": "TbCDJCND_JbP"
      },
      "execution_count": 64,
      "outputs": []
    },
    {
      "cell_type": "code",
      "source": [
        "BinaryLogisticRegression()\n",
        "  # [test data에서 F-0.75점수가 82.35%, 정밀도가 87.01%로 성능의 성능을 보이나, 재현율이 75.18%]\n",
        "  # [모델은 극단적인 분류기로 이항분포의 확률밀도함수에서 추정한 모수인 y 평균과 y 분산 대비]\n",
        "  # [실제 데이터 x_i의 분산은 훨씬 큰 값으로 과분산 문제가 발생하여]\n",
        "  # [제1종 오류를 야기함으로써 재현율이 다른 모델 대비 현저히 낮아지는 결과 도출]"
      ],
      "metadata": {
        "colab": {
          "base_uri": "https://localhost:8080/"
        },
        "id": "BQGIiYSzQ75L",
        "outputId": "79b1fca0-920d-46f5-e27c-49b445613822"
      },
      "execution_count": 65,
      "outputs": [
        {
          "output_type": "stream",
          "name": "stderr",
          "text": [
            "/usr/local/lib/python3.8/dist-packages/sklearn/utils/validation.py:993: DataConversionWarning: A column-vector y was passed when a 1d array was expected. Please change the shape of y to (n_samples, ), for example using ravel().\n",
            "  y = column_or_1d(y, warn=True)\n",
            "/usr/local/lib/python3.8/dist-packages/sklearn/linear_model/_logistic.py:814: ConvergenceWarning: lbfgs failed to converge (status=1):\n",
            "STOP: TOTAL NO. of ITERATIONS REACHED LIMIT.\n",
            "\n",
            "Increase the number of iterations (max_iter) or scale the data as shown in:\n",
            "    https://scikit-learn.org/stable/modules/preprocessing.html\n",
            "Please also refer to the documentation for alternative solver options:\n",
            "    https://scikit-learn.org/stable/modules/linear_model.html#logistic-regression\n",
            "  n_iter_i = _check_optimize_result(\n"
          ]
        },
        {
          "output_type": "stream",
          "name": "stdout",
          "text": [
            "혼동 행렬\n",
            "[[108171  35721]\n",
            " [ 16144 127747]]\n",
            "정확도: 0.8197774017228259\n",
            "정밀도: 0.8701363471825604\n",
            "재현율: 0.7517513134851138\n",
            "F1: 0.8066232424955352\n",
            "F-0.75: 0.823452803047927\n",
            "None\n",
            "혼동 행렬\n",
            "[[108515  35376]\n",
            " [ 16237 127655]]\n",
            "정확도: 0.8206530615081502\n",
            "정밀도: 0.869845774015647\n",
            "재현율: 0.7541472364498127\n",
            "F1: 0.8078751354027465\n",
            "F-0.75: 0.824318735868876\n",
            "None\n"
          ]
        }
      ]
    },
    {
      "cell_type": "code",
      "source": [
        "-8*35721 -10*16144, -9*35721 -13*16144 "
      ],
      "metadata": {
        "colab": {
          "base_uri": "https://localhost:8080/"
        },
        "id": "lr1vcXAbvwZF",
        "outputId": "62d17e91-dcb8-4f38-b6d0-ed4b0e50db12"
      },
      "execution_count": 66,
      "outputs": [
        {
          "output_type": "execute_result",
          "data": {
            "text/plain": [
              "(-447208, -531361)"
            ]
          },
          "metadata": {},
          "execution_count": 66
        }
      ]
    },
    {
      "cell_type": "code",
      "source": [
        "# BinaryLogisticClassifier()\n",
        "# threshold를 0.5보다 낮게 조정하는 이항 로지스틱 회귀분석 적합함수\n",
        "\n",
        "def BinaryLogisticClassifier(X: pd.DataFrame, y: pd.Series, threshold: float):\n",
        "  \n",
        "  np.random.seed(2023)\n",
        "  X_train, X_test, y_train, y_test = train_test_split(X,\n",
        "                                                      y,\n",
        "                                                      stratify = y,\n",
        "                                                      test_size = 0.5,\n",
        "                                                      random_state = 2023)\n",
        "  glm = LogisticRegression()\n",
        "  glm.fit(X_train, y_train)\n",
        "  y_pred_test = pd.DataFrame(glm.predict_proba(X_test))[1]\n",
        "\n",
        "  y_pred = y_pred_test.copy()\n",
        "  y_pred[y_pred > threshold] = 1\n",
        "  y_pred[y_pred <= threshold] = 0\n",
        "\n",
        "  print(dt_eval(y_test, y_pred))"
      ],
      "metadata": {
        "id": "UKtokFUeLf13"
      },
      "execution_count": 67,
      "outputs": []
    },
    {
      "cell_type": "code",
      "source": [
        "BinaryLogisticClassifier(X = X_smote_numfac.drop([\"CODE_GENDER_F\", \"CODE_GENDER_M\", \"AMT_CREDIT_y\", \"AMT_GOODS_PRICE_x\"], axis = 1), \n",
        "                         y = y_smote, threshold = 0.4)"
      ],
      "metadata": {
        "id": "6fui0v84MII6",
        "colab": {
          "base_uri": "https://localhost:8080/"
        },
        "outputId": "75277be6-824e-46c5-f66b-342953783194"
      },
      "execution_count": 70,
      "outputs": [
        {
          "output_type": "stream",
          "name": "stderr",
          "text": [
            "/usr/local/lib/python3.8/dist-packages/sklearn/utils/validation.py:993: DataConversionWarning: A column-vector y was passed when a 1d array was expected. Please change the shape of y to (n_samples, ), for example using ravel().\n",
            "  y = column_or_1d(y, warn=True)\n",
            "/usr/local/lib/python3.8/dist-packages/sklearn/linear_model/_logistic.py:814: ConvergenceWarning: lbfgs failed to converge (status=1):\n",
            "STOP: TOTAL NO. of ITERATIONS REACHED LIMIT.\n",
            "\n",
            "Increase the number of iterations (max_iter) or scale the data as shown in:\n",
            "    https://scikit-learn.org/stable/modules/preprocessing.html\n",
            "Please also refer to the documentation for alternative solver options:\n",
            "    https://scikit-learn.org/stable/modules/linear_model.html#logistic-regression\n",
            "  n_iter_i = _check_optimize_result(\n"
          ]
        },
        {
          "output_type": "stream",
          "name": "stdout",
          "text": [
            "혼동 행렬\n",
            "[[118561  25331]\n",
            " [ 29474 114417]]\n",
            "정확도: 0.8095613708940417\n",
            "정밀도: 0.8008984361806329\n",
            "재현율: 0.8239582464626247\n",
            "F1: 0.8122647100131196\n",
            "F-0.75: 0.8090497621457435\n",
            "None\n"
          ]
        }
      ]
    },
    {
      "cell_type": "markdown",
      "source": [
        "\n",
        "\n",
        "---\n",
        "\n"
      ],
      "metadata": {
        "id": "hVYovKSRVlIj"
      }
    },
    {
      "cell_type": "markdown",
      "metadata": {
        "id": "2_PxEzi4bDxb"
      },
      "source": [
        "#### 4) 서포트 벡터 머신\n",
        "\n",
        "* 파이썬을 이용한 통계적 머신러닝 제3판에 따르면 SVM Classifier는 빅데이터 분석에 적합하지 않다는 의견이 있으나 근거는 시간복잡도가 높아 수일간 모델 적합 실패로 들고 있는바 채택하지 않는다. \n",
        "\n",
        "* 사상된 고차원(n차원) 공간에서의 (n-1)차원의 부분공간, 초평면(결정 경계)으로 전체 공간을 두 개의 공간으로 분할(클래스 분류)\n",
        "\n",
        "* 마진 최대화 : 초평면 h(x)로부터 가장 가까이 있는 데이터까지의 거리를 최대화\n",
        "\n",
        "  마진이 클수록 클래스를 분류하는 경계선이 더욱 안정적이라고 보는 관점\n",
        "\n",
        "  $ hyper plane, h(x) = w^T \\cdot x + w_0 = 0 $\n",
        "\n",
        "  $ y = 1(class), w^T cdot x_1 + w_0 = 1 $\n",
        "\n",
        "  $ y = -1(class), w^T cdot x_2 + w_0 = -1 $\n",
        "\n",
        "  $ sgn(u) = \\begin{cases} 1 &{u \\geq 0} \\\\ -1 &{u < 0} \\end{cases} $ \n",
        "\n",
        " 각 $ x_i$에 대한 클래스 분류를 나타내는 $ y_i = sgn( h(x_i) ) $ \n",
        "\n",
        " 올바른 분류는 $ y_ih(x_i) > 0 $이며, 마진 최대화하는 식은 $ d_i = y_i \\frac{h(x_i)}{||w||}, min_i \\ d_i, argmax_{w, w_0} \\frac{1}{||w||} $\n",
        "\n",
        "* 커널 함수\n",
        "  \n",
        "  선형 커널 $ k(x, y) = x^Ty $\n",
        "\n",
        "  다항식 커널 $ k(x, y) = (\\Upsilon x^Ty + c)^d $\n",
        "\n",
        "  가우시안 터널(rbf) $ k(x, y) = exp(-\\Upsilon ||x - y||^2) $\n",
        "\n",
        "  시그모이드 커널 $ k(x, y) = tanh (\\Upsilon x^Ty + c)^d $\n",
        "\n",
        "  그밖에 라플라시안 커널, 카이제곱 커널 등이 있으며, 스스로 커스텀하여 커널을 사용하는 것도 사이킷런은 인정하고 있다.  "
      ]
    },
    {
      "cell_type": "code",
      "execution_count": 80,
      "metadata": {
        "id": "9bGmKiG86Tg3"
      },
      "outputs": [],
      "source": [
        "def SupportVectorClassification(X: pd.DataFrame, \n",
        "                                y: pd.Series):\n",
        "  \n",
        "  np.random.seed(2023)\n",
        "    # [Warning] Consider pre-processing your data with StandardScaler or MinMaxScaler.\n",
        "\n",
        "  X_train, X_test, y_train, y_test = train_test_split(X,\n",
        "                                                      y,\n",
        "                                                      stratify = y,\n",
        "                                                      test_size = 0.5,\n",
        "                                                      random_state = 2023)\n",
        "  '''\n",
        "  svm_param = {\"kernel\" : (\"linear\", \"rbf\"),\n",
        "               \"C\" : [0.01, 0.05, 0.1],\n",
        "               \"gamma\" : [0.01, 0.05, 0.1]}\n",
        "    # [{'C': 0.001, 'gamma': 0.001, 'kernel': 'rbf'}] f-beta score : 0.6098\n",
        "\n",
        "  supportVectorMachine = svm.SVC(probability = True,\n",
        "                                 max_iter = 1,\n",
        "                                 verbose = False,\n",
        "                                 random_state = 2023)\n",
        "    # [하이퍼파라미터 : 서포트 벡터 마진의 비용(Cost)] hard margin or soft margin\n",
        "    # [커널 함수] linear, poly(nomial lm), rbf(normal dist)\n",
        "    # [decision_function_shape] ovo, ovr(one vs rest)\n",
        "\n",
        "  f_beta = make_scorer(fbeta_score, beta = 1.35)\n",
        "  k_fold = StratifiedKFold(n_splits = 5, random_state = 2023, shuffle = True)\n",
        "  svm_gridSearch = GridSearchCV(supportVectorMachine,\n",
        "                                svm_param,\n",
        "                                scoring = f_beta,\n",
        "                                cv = k_fold)\n",
        "  svm_gridSearch.fit(X_train, y_train)\n",
        "  print(svm_gridSearch.best_score_)\n",
        "  print(svm_gridSearch.best_params_)\n",
        "  '''\n",
        "\n",
        "  svm_fitted = svm.SVC(C = 0.01,\n",
        "                       gamma = 0.01,\n",
        "                       kernel = \"linear\",\n",
        "                       decision_function_shape = \"ovo\",\n",
        "                       probability = True,\n",
        "                       max_iter = 1,\n",
        "                       verbose = False,\n",
        "                       random_state = 2023)\n",
        "  \n",
        "  # 서포트 벡터 머신 분류기의 결정 영역에 맞추어 시각화\n",
        "  '''\n",
        "  fig, axes = plt.subplots(1, 2, figsize = (12, 8), sharex = True, sharey = True)\n",
        "  plot_decision_regions(X_train, y_train, clf = svm_fitted, res = 0.02, ax = axes[0], legend = 2)\n",
        "  axes[0].set_xlabel(\"Training Data\")\n",
        "  plot_decision_regions(X_test, y_test, clf = svm_fitted , res = 0.02, ax = axes[1], legend = 2)\n",
        "  axes[1].set_xlabel(\"Test Data\")\n",
        "  '''\n",
        "\n",
        "  # 최적화된 하이퍼파라미터로 적합한 서포트 벡터 머신\n",
        "  svm_fitted.fit(X_train, y_train)\n",
        "  y_pred = svm_fitted.predict(X_test)\n",
        "  y_pred = np.array(y_pred)\n",
        "  y_test = np.array(y_test)\n",
        "  \n",
        "  TP = 0\n",
        "  FN = 0\n",
        "  FP = 0\n",
        "  TN = 0\n",
        "\n",
        "  for i in range(len(y_pred)):\n",
        "    if y_test[i] == y_pred[i] == 1:\n",
        "      TP += 1\n",
        "    if y_test[i] == 1 and y_pred[i] == 0:\n",
        "      FN += 1\n",
        "    if y_test[i] == 0 and y_pred[i] == 1:\n",
        "      FP += 1\n",
        "    if y_test[i] == 0 and y_pred[i] == 0:\n",
        "      TN += 1\n",
        "\n",
        "  confusionMatrix = np.array([[TP, FN], [FP, TN]]).reshape(2, 2)\n",
        "  print(confusionMatrix)\n",
        "  Precision = TP / (TP + FP)\n",
        "  Recall = TP / (TP + FN)\n",
        "  print(\"정확도 :\", (TP + TN) / (TP + FN + FP + TN))\n",
        "  print(\"정밀도 :\", Precision)\n",
        "  print(\"재현율 :\", Recall)\n",
        "  print(\"F-Beta 점수 :\", ((1+(0.75**2))*Precision*Recall) / ((0.75**2)*Precision + Recall))\n",
        "\n",
        "  # 분류 가중치 테이블\n",
        "  DBCapital = [2735, 23872]\n",
        "  DBInsurance = [6981, 488399]\n",
        "  DBCapital = pd.Series(DBCapital)\n",
        "  DBInsurance = pd.Series(DBInsurance)\n",
        "  DBWeights = pd.DataFrame({\n",
        "      \"Capital\" : DBCapital,\n",
        "      \"Insurance\" : DBInsurance\n",
        "  }).T\n",
        "  DBWeights.columns = [\"FN\", \"FP\"]\n",
        "  DBWeights\n",
        "\n",
        "  # 분류 가중치 단위 조정 : 자연로그 변환\n",
        "  DBWeights_loge = np.log(DBWeights)\n",
        "  classifyWeights = round(DBWeights_loge, 0)\n",
        "  classifyWeights = -(classifyWeights)\n",
        "    # [FN, FP 음수로 치환]\n",
        "  classifyWeights.at[2,:] = confusionMatrix[[0,1], [1,0]]\n",
        "    # [confusionMatrix[[0,1], [1,0]] = Prediction(FN, FP의 개수)\n",
        "  classifyWeights.index = [\"Capital\", \"Insurance\", \"Prediction\"]\n",
        "  print(classifyWeights)\n",
        "  \n",
        "  classifyWeights = classifyWeights.transpose()\n",
        "  print(classifyWeights)\n",
        "\n",
        "  classifyWeights[\"CapitalExpectedLoss\"] = classifyWeights[\"Capital\"] * classifyWeights[\"Prediction\"]\n",
        "  classifyWeights[\"InsuranceExpectedLoss\"] = classifyWeights[\"Insurance\"] * classifyWeights[\"Prediction\"]\n",
        "  print(classifyWeights)\n",
        "\n",
        "  print(sum(classifyWeights[\"CapitalExpectedLoss\"]))\n",
        "  print(sum(classifyWeights[\"InsuranceExpectedLoss\"]))"
      ]
    },
    {
      "cell_type": "code",
      "source": [
        "SupportVectorClassification(X = X_smote_numfac.drop([\"CODE_GENDER_F\", \"CODE_GENDER_M\"], axis = 1), \n",
        "                            y = y_smote)\n",
        "  # AttributeError: 'GridSearchCV' object has no attribute 'best_clf'\n",
        "  # 0.7339530713629481, {'C': 0.01, 'gamma': 0.01, 'kernel': 'linear'}"
      ],
      "metadata": {
        "id": "P6ShbChlaAJ5",
        "colab": {
          "base_uri": "https://localhost:8080/"
        },
        "outputId": "879fdf48-5f2c-49ce-8a32-76c66a4884fb"
      },
      "execution_count": 82,
      "outputs": [
        {
          "output_type": "stream",
          "name": "stderr",
          "text": [
            "/usr/local/lib/python3.8/dist-packages/sklearn/utils/validation.py:993: DataConversionWarning: A column-vector y was passed when a 1d array was expected. Please change the shape of y to (n_samples, ), for example using ravel().\n",
            "  y = column_or_1d(y, warn=True)\n",
            "/usr/local/lib/python3.8/dist-packages/sklearn/svm/_base.py:284: ConvergenceWarning: Solver terminated early (max_iter=1).  Consider pre-processing your data with StandardScaler or MinMaxScaler.\n",
            "  warnings.warn(\n"
          ]
        },
        {
          "output_type": "stream",
          "name": "stdout",
          "text": [
            "[[141601   2291]\n",
            " [140441   3450]]\n",
            "정확도 : 0.5040290774646174\n",
            "정밀도 : 0.5020564313116486\n",
            "재현율 : 0.9840783365301754\n",
            "F-Beta 점수 : 0.6095399211391772\n",
            "                FN        FP\n",
            "Capital       -8.0     -10.0\n",
            "Insurance     -9.0     -13.0\n",
            "Prediction  2291.0  140441.0\n",
            "    Capital  Insurance  Prediction\n",
            "FN     -8.0       -9.0      2291.0\n",
            "FP    -10.0      -13.0    140441.0\n",
            "    Capital  Insurance  Prediction  CapitalExpectedLoss  InsuranceExpectedLoss\n",
            "FN     -8.0       -9.0      2291.0             -18328.0               -20619.0\n",
            "FP    -10.0      -13.0    140441.0           -1404410.0             -1825733.0\n",
            "-1422738.0\n",
            "-1846352.0\n"
          ]
        }
      ]
    },
    {
      "cell_type": "markdown",
      "source": [
        "#### 5) Bagging Ensemble : Random Forest"
      ],
      "metadata": {
        "id": "R0byEeGKJ9ze"
      }
    },
    {
      "cell_type": "code",
      "source": [
        "def RF(max_leaf: float, estimators: float, threshold: float):\n",
        "  np.random.seed(2023)\n",
        "  X_train, X_test, y_train, y_test = train_test_split(X_smote.drop([\"CODE_GENDER_M\", \"CODE_GENDER_F\"], axis =1),\n",
        "                                                      y_smote,\n",
        "                                                      stratify = y_smote,\n",
        "                                                      random_state = 2023,\n",
        "                                                      test_size = 0.5)\n",
        "  \n",
        "  RandomForest = RandomForestClassifier(random_state = 2023,\n",
        "                                        max_depth = 23,\n",
        "                                        criterion = \"gini\",\n",
        "                                        max_features = \"sqrt\",\n",
        "                                        max_leaf_nodes = max_leaf,\n",
        "                                        n_estimators = estimators)\n",
        "  RandomForestClassifier()\n",
        "  RandomForest.fit(X_train, y_train)\n",
        "  y_pred_test = pd.DataFrame(RandomForest.predict_proba(X_test))[1]\n",
        "  y_pred = y_pred_test.copy()\n",
        "  y_pred[y_pred > threshold] = 1\n",
        "  y_pred[y_pred <= threshold] = 0\n",
        "\n",
        "  y_pred = np.array(y_pred)\n",
        "  y_test = np.array(y_test)\n",
        "  \n",
        "  TP = 0\n",
        "  FN = 0\n",
        "  FP = 0\n",
        "  TN = 0\n",
        "\n",
        "  for i in range(len(y_pred)):\n",
        "    if y_test[i] == y_pred[i] == 1:\n",
        "      TP += 1\n",
        "    if y_test[i] == 1 and y_pred[i] == 0:\n",
        "      FN += 1\n",
        "    if y_test[i] == 0 and y_pred[i] == 1:\n",
        "      FP += 1\n",
        "    if y_test[i] == 0 and y_pred[i] == 0:\n",
        "      TN += 1\n",
        "\n",
        "  confusionMatrix = np.array([[TP, FN], [FP, TN]]).reshape(2, 2)\n",
        "  print(confusionMatrix)\n",
        "\n",
        "  Precision = TP / (TP + FP)\n",
        "  Recall = TP / (TP + FN)\n",
        "  F1 = (2*Precision*Recall) / (Precision + Recall)\n",
        "  F_Beta = ((1+(0.75**2))*Precision*Recall) / ((0.75**2)*Precision + Recall)\n",
        "  print(\"정확도 :\", (TP + TN) / (TP + FN + FP + TN))\n",
        "  print(\"정밀도 :\", Precision)\n",
        "  print(\"재현율 :\", Recall)\n",
        "  print(\"F-Beta 점수 :\", ((1+(0.75**2))*Precision*Recall) / ((0.75**2)*Precision + Recall))\n",
        "\n",
        "  # 상위 30개 특성변수 중요도 플롯 시각화\n",
        "  dt_series = pd.Series(RandomForest.feature_importances_, index = X_smote.drop([\"CODE_GENDER_F\", \"CODE_GENDER_M\"], axis = 1).columns)\n",
        "  dt_top_30 = dt_series.sort_values(ascending=False)[:30]\n",
        "  plt.title(\"Feature Importance Top 30\")\n",
        "  sns.barplot(x = dt_top_30, y = dt_top_30.index)\n",
        "  plt.show()\n",
        "\n",
        "  # 분류 가중치 테이블\n",
        "  DBCapital = [2735, 23872]\n",
        "  DBInsurance = [6981, 488399]\n",
        "  DBCapital = pd.Series(DBCapital)\n",
        "  DBInsurance = pd.Series(DBInsurance)\n",
        "  DBWeights = pd.DataFrame({\n",
        "      \"Capital\" : DBCapital,\n",
        "      \"Insurance\" : DBInsurance\n",
        "  }).T\n",
        "  DBWeights.columns = [\"FN\", \"FP\"]\n",
        "\n",
        "  # 분류 가중치 단위 조정 : 자연로그 변환\n",
        "  DBWeights_loge = np.log(DBWeights)\n",
        "  classifyWeights = round(DBWeights_loge, 0)\n",
        "  classifyWeights = -(classifyWeights)\n",
        "    # [FN, FP 음수로 치환]\n",
        "  classifyWeights.at[2,:] = confusionMatrix[[0,1], [1,0]]\n",
        "    # [confusionMatrix[[0,1], [1,0]] = Prediction(FN, FP의 개수)\n",
        "  classifyWeights.index = [\"Capital\", \"Insurance\", \"Prediction\"]\n",
        "  classifyWeights = classifyWeights.transpose()\n",
        "  classifyWeights[\"CapitalExpectedLoss\"] = classifyWeights[\"Capital\"] * classifyWeights[\"Prediction\"]\n",
        "  classifyWeights[\"InsuranceExpectedLoss\"] = classifyWeights[\"Insurance\"] * classifyWeights[\"Prediction\"]\n",
        "  \n",
        "  print(sum(classifyWeights[\"CapitalExpectedLoss\"]), sum(classifyWeights[\"InsuranceExpectedLoss\"]))"
      ],
      "metadata": {
        "id": "M9XalZv0Q1-8"
      },
      "execution_count": 83,
      "outputs": []
    },
    {
      "cell_type": "code",
      "source": [
        "RF(max_leaf = None, estimators = 100, threshold = 0.5)"
      ],
      "metadata": {
        "colab": {
          "base_uri": "https://localhost:8080/",
          "height": 445
        },
        "id": "2aYYPGEGa-eD",
        "outputId": "cd1be9ba-78a5-4369-ba7a-927bcdf75dbb"
      },
      "execution_count": 84,
      "outputs": [
        {
          "output_type": "stream",
          "name": "stderr",
          "text": [
            "<ipython-input-83-02de3e267999>:16: DataConversionWarning: A column-vector y was passed when a 1d array was expected. Please change the shape of y to (n_samples,), for example using ravel().\n",
            "  RandomForest.fit(X_train, y_train)\n"
          ]
        },
        {
          "output_type": "stream",
          "name": "stdout",
          "text": [
            "[[131782  12110]\n",
            " [ 32235 111656]]\n",
            "정확도 : 0.8459082016658385\n",
            "정밀도 : 0.8034654944304553\n",
            "재현율 : 0.9158396575209184\n",
            "F-Beta 점수 : 0.8405965350955528\n"
          ]
        },
        {
          "output_type": "display_data",
          "data": {
            "text/plain": [
              "<Figure size 432x288 with 1 Axes>"
            ],
            "image/png": "[encoded data removed]"
          },
          "metadata": {
            "needs_background": "light"
          }
        },
        {
          "output_type": "stream",
          "name": "stdout",
          "text": [
            "-419230.0 -528045.0\n"
          ]
        }
      ]
    },
    {
      "cell_type": "markdown",
      "source": [
        "#### 6) Boosting Ensemble : Light GBM\n",
        "\n",
        "* 트리의 균형을 맞추지 않고, 최대 예측오류 손실값을 가지는 리프 노드를 분할하여 비대칭적인 규칙의 트리를 생성\n",
        "* https://lightgbm.readthedocs.io/en/latest/_modules/lightgbm/plotting.html#plot_importance\n",
        "* permutation importance는 특정 feature를 무작위로 섞어 성능 손실에 얼만큼 영향을 주는지 계산하며, 해당 feature를 제외할 경우 성능이 상당히 악화되면 중요도 높은 변수로 해석"
      ],
      "metadata": {
        "id": "oR50XZ82_Z9y"
      }
    },
    {
      "cell_type": "code",
      "source": [
        "def LightGradientBoostingTree(X: pd.DataFrame, y: pd.Series, boostMethod: object, threshold: float):\n",
        "  # [boosting_type] \"gbdt(xgboost의 gbtree)\", \"dart(xgboost)\", \"goss\", \"rf\"\n",
        "  \n",
        "  np.random.seed(2023)\n",
        "  X_train, X_test, y_train, y_test = train_test_split(X,\n",
        "                                                      y,\n",
        "                                                      stratify = y,\n",
        "                                                      test_size = 0.5,\n",
        "                                                      random_state = 2023)\n",
        "  lgbTree = LGBMClassifier(n_estimators = 100,\n",
        "                           max_depth = 23,\n",
        "                           boosting_type = boostMethod,\n",
        "                           learning_rate = 0.5,\n",
        "                           random_state = 2023)\n",
        "  \n",
        "  lgbTree.fit(X_train, y_train)\n",
        "  \n",
        "  # y_pred = lgbTree.predict(X_test)\n",
        "  y_pred_test = pd.DataFrame(lgbTree.predict_proba(X_test))[1]\n",
        "  y_pred = y_pred_test.copy()\n",
        "  y_pred[y_pred > threshold] = 1\n",
        "  y_pred[y_pred <= threshold] = 0\n",
        "\n",
        "  y_pred = np.array(y_pred)\n",
        "  y_test = np.array(y_test)\n",
        "  \n",
        "  TP = 0\n",
        "  FN = 0\n",
        "  FP = 0\n",
        "  TN = 0\n",
        "\n",
        "  for i in range(len(y_pred)):\n",
        "    if y_test[i] == y_pred[i] == 1:\n",
        "      TP += 1\n",
        "    if y_test[i] == 1 and y_pred[i] == 0:\n",
        "      FN += 1\n",
        "    if y_test[i] == 0 and y_pred[i] == 1:\n",
        "      FP += 1\n",
        "    if y_test[i] == 0 and y_pred[i] == 0:\n",
        "      TN += 1\n",
        "\n",
        "  confusionMatrix = np.array([[TP, FN], [FP, TN]]).reshape(2, 2)\n",
        "  print(confusionMatrix)\n",
        "  Precision = TP / (TP + FP)\n",
        "  Recall = TP / (TP + FN)\n",
        "  print(\"정확도 :\", (TP + TN) / (TP + FN + FP + TN))\n",
        "  print(\"정밀도 :\", Precision)\n",
        "  print(\"재현율 :\", Recall)\n",
        "  print(\"F-Beta 점수 :\", ((1+(0.75**2))*Precision*Recall) / ((0.75**2)*Precision + Recall))\n",
        "\n",
        "  # 특징 중요도 : \"split\" or \"gain\" 빈도, feature의 split에 대한 기여도\n",
        "  plot_importance(lgbTree, max_num_features = 30)\n",
        "  plt.show\n",
        "  \n",
        "  # 분류 가중치 테이블\n",
        "  DBCapital = [2735, 23872]\n",
        "  DBInsurance = [6981, 488399]\n",
        "  DBCapital = pd.Series(DBCapital)\n",
        "  DBInsurance = pd.Series(DBInsurance)\n",
        "  DBWeights = pd.DataFrame({\n",
        "      \"Capital\" : DBCapital,\n",
        "      \"Insurance\" : DBInsurance\n",
        "  }).T\n",
        "  DBWeights.columns = [\"FN\", \"FP\"]\n",
        "  DBWeights\n",
        "\n",
        "  # 분류 가중치 단위 조정 : 자연로그 변환\n",
        "  DBWeights_loge = np.log(DBWeights)\n",
        "  classifyWeights = round(DBWeights_loge, 0)\n",
        "  classifyWeights = -(classifyWeights)\n",
        "    # [FN, FP 음수로 치환]\n",
        "  classifyWeights.at[2,:] = confusionMatrix[[0,1], [1,0]]\n",
        "    # [confusionMatrix[[0,1], [1,0]] = Prediction(FN, FP의 개수)\n",
        "  classifyWeights.index = [\"Capital\", \"Insurance\", \"Prediction\"]\n",
        "  print(classifyWeights)\n",
        "  \n",
        "  classifyWeights = classifyWeights.transpose()\n",
        "  print(classifyWeights)\n",
        "\n",
        "  classifyWeights[\"CapitalExpectedLoss\"] = classifyWeights[\"Capital\"] * classifyWeights[\"Prediction\"]\n",
        "  classifyWeights[\"InsuranceExpectedLoss\"] = classifyWeights[\"Insurance\"] * classifyWeights[\"Prediction\"]\n",
        "  print(classifyWeights)\n",
        "    # 행렬곱을 numpy module없이 구현하는 방법 : [[sum(x*Prediction) for x in i] for i in zip(*listcapital, *listinsurance)]\n",
        "\n",
        "  print(sum(classifyWeights[\"CapitalExpectedLoss\"]))\n",
        "  print(sum(classifyWeights[\"InsuranceExpectedLoss\"]))\n",
        "\n",
        "  lgbTreeProb = lgbTree.predict_proba(X_test)\n",
        "  print(pd.DataFrame(lgbTreeProb).describe())\n",
        "    # [분류 확률의 분포 출력]"
      ],
      "metadata": {
        "id": "alUB7bfPQtfM"
      },
      "execution_count": 95,
      "outputs": []
    },
    {
      "cell_type": "code",
      "source": [
        "LightGradientBoostingTree(X = X_smote.drop([\"CODE_GENDER_M\", \"CODE_GENDER_F\"], axis = 1),\n",
        "                          y = y_smote, boostMethod = \"gbdt\", threshold = 0.5)\n",
        "  # [연체로 예측된 고객 100명 중 실제 연체 고객이 90명인 경우]\n",
        "  # [실제 연체 고객이 100명 중 연체로 예측된 고객이 85명인 경우]"
      ],
      "metadata": {
        "colab": {
          "base_uri": "https://localhost:8080/",
          "height": 879
        },
        "id": "Tr7jD_G98F-g",
        "outputId": "dbe1246f-c9e1-432a-fd8e-e90756ed8277"
      },
      "execution_count": 96,
      "outputs": [
        {
          "output_type": "stream",
          "name": "stderr",
          "text": [
            "/usr/local/lib/python3.8/dist-packages/sklearn/preprocessing/_label.py:98: DataConversionWarning: A column-vector y was passed when a 1d array was expected. Please change the shape of y to (n_samples, ), for example using ravel().\n",
            "  y = column_or_1d(y, warn=True)\n",
            "/usr/local/lib/python3.8/dist-packages/sklearn/preprocessing/_label.py:133: DataConversionWarning: A column-vector y was passed when a 1d array was expected. Please change the shape of y to (n_samples, ), for example using ravel().\n",
            "  y = column_or_1d(y, warn=True)\n"
          ]
        },
        {
          "output_type": "stream",
          "name": "stdout",
          "text": [
            "[[123324  20568]\n",
            " [ 12219 131672]]\n",
            "정확도 : 0.8860704072165486\n",
            "정밀도 : 0.9098514862442177\n",
            "재현율 : 0.8570594612626137\n",
            "F-Beta 점수 : 0.890113392668452\n",
            "                 FN       FP\n",
            "Capital        -8.0    -10.0\n",
            "Insurance      -9.0    -13.0\n",
            "Prediction  20568.0  12219.0\n",
            "    Capital  Insurance  Prediction\n",
            "FN     -8.0       -9.0     20568.0\n",
            "FP    -10.0      -13.0     12219.0\n",
            "    Capital  Insurance  Prediction  CapitalExpectedLoss  InsuranceExpectedLoss\n",
            "FN     -8.0       -9.0     20568.0            -164544.0              -185112.0\n",
            "FP    -10.0      -13.0     12219.0            -122190.0              -158847.0\n",
            "-286734.0\n",
            "-343959.0\n",
            "                  0              1\n",
            "count  2.877830e+05  287783.000000\n",
            "mean   5.003255e-01       0.499674\n",
            "std    3.758071e-01       0.375807\n",
            "min    3.090247e-07       0.000381\n",
            "25%    6.787737e-02       0.121663\n",
            "50%    5.615029e-01       0.438497\n",
            "75%    8.783370e-01       0.932123\n",
            "max    9.996189e-01       1.000000\n"
          ]
        },
        {
          "output_type": "display_data",
          "data": {
            "text/plain": [
              "<Figure size 432x288 with 1 Axes>"
            ],
            "image/png": "[encoded data removed]"
          },
          "metadata": {
            "needs_background": "light"
          }
        }
      ]
    },
    {
      "cell_type": "code",
      "source": [
        "LightGradientBoostingTree(X = X_smote.drop([\"CODE_GENDER_M\", \"CODE_GENDER_F\"], axis = 1),\n",
        "                          y = y_smote, boostMethod = \"gbdt\", threshold = 0.55)"
      ],
      "metadata": {
        "colab": {
          "base_uri": "https://localhost:8080/",
          "height": 879
        },
        "id": "-bFgS7V4gLVq",
        "outputId": "88431631-b0b0-41b6-9385-b89a18a7adf5"
      },
      "execution_count": 117,
      "outputs": [
        {
          "output_type": "stream",
          "name": "stderr",
          "text": [
            "/usr/local/lib/python3.8/dist-packages/sklearn/preprocessing/_label.py:98: DataConversionWarning: A column-vector y was passed when a 1d array was expected. Please change the shape of y to (n_samples, ), for example using ravel().\n",
            "  y = column_or_1d(y, warn=True)\n",
            "/usr/local/lib/python3.8/dist-packages/sklearn/preprocessing/_label.py:133: DataConversionWarning: A column-vector y was passed when a 1d array was expected. Please change the shape of y to (n_samples, ), for example using ravel().\n",
            "  y = column_or_1d(y, warn=True)\n"
          ]
        },
        {
          "output_type": "stream",
          "name": "stdout",
          "text": [
            "[[119860  24032]\n",
            " [  9283 134608]]\n",
            "정확도 : 0.884235691475869\n",
            "정밀도 : 0.9281184423468558\n",
            "재현율 : 0.8329858504989853\n",
            "F-Beta 점수 : 0.8914663185490445\n",
            "                 FN      FP\n",
            "Capital        -8.0   -10.0\n",
            "Insurance      -9.0   -13.0\n",
            "Prediction  24032.0  9283.0\n",
            "    Capital  Insurance  Prediction\n",
            "FN     -8.0       -9.0     24032.0\n",
            "FP    -10.0      -13.0      9283.0\n",
            "    Capital  Insurance  Prediction  CapitalExpectedLoss  InsuranceExpectedLoss\n",
            "FN     -8.0       -9.0     24032.0            -192256.0              -216288.0\n",
            "FP    -10.0      -13.0      9283.0             -92830.0              -120679.0\n",
            "-285086.0\n",
            "-336967.0\n",
            "                  0              1\n",
            "count  2.877830e+05  287783.000000\n",
            "mean   5.003255e-01       0.499674\n",
            "std    3.758071e-01       0.375807\n",
            "min    3.090247e-07       0.000381\n",
            "25%    6.787737e-02       0.121663\n",
            "50%    5.615029e-01       0.438497\n",
            "75%    8.783370e-01       0.932123\n",
            "max    9.996189e-01       1.000000\n"
          ]
        },
        {
          "output_type": "display_data",
          "data": {
            "text/plain": [
              "<Figure size 432x288 with 1 Axes>"
            ],
            "image/png": "[encoded data removed]"
          },
          "metadata": {
            "needs_background": "light"
          }
        }
      ]
    },
    {
      "cell_type": "code",
      "source": [
        "def LightGradientBoostingTreeThreshold(X: pd.DataFrame, \n",
        "                                       y: np.array, \n",
        "                                       boostMethod: object,\n",
        "                                       threshold: float):\n",
        "  # [boosting_type] \"gbdt(xgboost의 gbtree)\", \"dart(xgboost)\", \"goss\", \"rf\"\n",
        "  \n",
        "  np.random.seed(2023)\n",
        "  X_train, X_test, y_train, y_test = train_test_split(X,\n",
        "                                                      y,\n",
        "                                                      stratify = y,\n",
        "                                                      test_size = 0.5,\n",
        "                                                      random_state = 2023)\n",
        "  lgbTree = LGBMClassifier(n_estimators = 100,\n",
        "                           max_depth = 23,\n",
        "                           boosting_type = boostMethod,\n",
        "                           learning_rate = 0.5,\n",
        "                           random_state = 2023)\n",
        "  lgbTree.fit(X_train, y_train)\n",
        "  \n",
        "  # y_pred = lgbTree.predict(X_test) 학습시킨 모델에 X_test data 적용하여 예측\n",
        "  y_pred_test = pd.DataFrame(lgbTree.predict_proba(X_test))[1]\n",
        "  y_pred = y_pred_test.copy()\n",
        "  y_pred[y_pred > threshold] = 1\n",
        "  y_pred[y_pred <= threshold] = 0\n",
        "\n",
        "  y_pred = np.array(y_pred)\n",
        "  y_test = np.array(y_test)\n",
        "  \n",
        "  # 혼동행렬(채점표) 작성\n",
        "  TP = 0\n",
        "  FN = 0\n",
        "  FP = 0\n",
        "  TN = 0\n",
        "\n",
        "  for i in range(len(y_pred)):\n",
        "    if y_test[i] == y_pred[i] == 1:\n",
        "      TP += 1\n",
        "    if y_test[i] == 1 and y_pred[i] == 0:\n",
        "      FN += 1\n",
        "    if y_test[i] == 0 and y_pred[i] == 1:\n",
        "      FP += 1\n",
        "    if y_test[i] == 0 and y_pred[i] == 0:\n",
        "      TN += 1\n",
        "\n",
        "  confusionMatrix = np.array([[TP, FN], [FP, TN]]).reshape(2, 2)\n",
        "\n",
        "  # F-0.75 점수(Beta = 0.75) 계산\n",
        "  Precision = TP / (TP + FP)\n",
        "  Recall = TP / (TP + FN)\n",
        "  F_Beta = ((1+(0.75**2))*Precision*Recall) / ((0.75**2)*Precision + Recall)\n",
        "  \n",
        "  # 분류 가중치 테이블\n",
        "  DBCapital = [2735, 23872]\n",
        "  DBInsurance = [6981, 488399]\n",
        "  DBCapital = pd.Series(DBCapital)\n",
        "  DBInsurance = pd.Series(DBInsurance)\n",
        "  DBWeights = pd.DataFrame({\n",
        "      \"Capital\" : DBCapital,\n",
        "      \"Insurance\" : DBInsurance\n",
        "  }).T\n",
        "  DBWeights.columns = [\"FN\", \"FP\"]\n",
        "\n",
        "  # 분류 가중치 단위 조정 : 자연로그 변환\n",
        "  DBWeights_loge = np.log(DBWeights)\n",
        "  classifyWeights = round(DBWeights_loge, 0)\n",
        "  classifyWeights = -(classifyWeights)\n",
        "    # [FN, FP 음수로 치환]\n",
        "  classifyWeights.at[2,:] = confusionMatrix[[0,1], [1,0]]\n",
        "    # [confusionMatrix[[0,1], [1,0]] = Prediction(FN, FP의 개수)\n",
        "  classifyWeights.index = [\"Capital\", \"Insurance\", \"Prediction\"]\n",
        "  classifyWeights = classifyWeights.transpose()\n",
        "  classifyWeights[\"CapitalExpectedLoss\"] = classifyWeights[\"Capital\"] * classifyWeights[\"Prediction\"]\n",
        "  classifyWeights[\"InsuranceExpectedLoss\"] = classifyWeights[\"Insurance\"] * classifyWeights[\"Prediction\"]\n",
        "    # 행렬곱을 numpy module없이 구현하는 방법 : [[sum(x*Prediction) for x in i] for i in zip(*listcapital, *listinsurance)]\n",
        "  \n",
        "  return F_Beta, sum(classifyWeights[\"CapitalExpectedLoss\"]), sum(classifyWeights[\"InsuranceExpectedLoss\"])"
      ],
      "metadata": {
        "id": "XKEYHhFl1sKg"
      },
      "execution_count": 130,
      "outputs": []
    },
    {
      "cell_type": "code",
      "source": [
        "# 분류 임계값(class probability, decision threshold, cutoff)에 대하여 0.01:0.99까지 0.01씩 증가하는 수열(리스트 내 99개의 원소) 설정\n",
        "\n",
        "contain: List = []\n",
        "float: float = 0.01\n",
        "\n",
        "while float:\n",
        "  if float < 1:\n",
        "    contain.append(float)\n",
        "    float = float + 0.01\n",
        "    float = round(float, 3)\n",
        "  else:\n",
        "    # float = 1\n",
        "    break\n",
        "\n",
        "# 길이 99의 빈 벡터(리스트) 생성 \n",
        "vector = list(np.zeros(shape = 99))\n",
        "\n",
        "# 임계값에 따른 성능평가지표(가중치 조정한 정밀도와 재현율의 조화평균과 각 금융회사의 오분류비용(예측 기대손실)) 데이터 프레임 생성\n",
        "Threshold_Metric_curve = pd.DataFrame(data = np.array([contain, vector, vector, vector]).reshape(4, 99).T,\n",
        "                                      columns = [\"Threshold\", \"F_Beta_score\", \"Capital_Expected_Loss\", \"Insurance_Expected_Loss\"])\n",
        "Threshold_Metric_curve"
      ],
      "metadata": {
        "id": "rJ-6cnYVDSUZ",
        "colab": {
          "base_uri": "https://localhost:8080/",
          "height": 423
        },
        "outputId": "2f0d572b-db43-4483-dd26-00a09767da33"
      },
      "execution_count": 131,
      "outputs": [
        {
          "output_type": "execute_result",
          "data": {
            "text/plain": [
              "    Threshold  F_Beta_score  Capital_Expected_Loss  Insurance_Expected_Loss\n",
              "0        0.01           0.0                    0.0                      0.0\n",
              "1        0.02           0.0                    0.0                      0.0\n",
              "2        0.03           0.0                    0.0                      0.0\n",
              "3        0.04           0.0                    0.0                      0.0\n",
              "4        0.05           0.0                    0.0                      0.0\n",
              "..        ...           ...                    ...                      ...\n",
              "94       0.95           0.0                    0.0                      0.0\n",
              "95       0.96           0.0                    0.0                      0.0\n",
              "96       0.97           0.0                    0.0                      0.0\n",
              "97       0.98           0.0                    0.0                      0.0\n",
              "98       0.99           0.0                    0.0                      0.0\n",
              "\n",
              "[99 rows x 4 columns]"
            ],
            "text/html": [
              "\n",
              "  <div id=\"df-ba14fcfc-c254-41de-91e5-ef0d812b3c1d\">\n",
              "    <div class=\"colab-df-container\">\n",
              "      <div>\n",
              "<style scoped>\n",
              "    .dataframe tbody tr th:only-of-type {\n",
              "        vertical-align: middle;\n",
              "    }\n",
              "\n",
              "    .dataframe tbody tr th {\n",
              "        vertical-align: top;\n",
              "    }\n",
              "\n",
              "    .dataframe thead th {\n",
              "        text-align: right;\n",
              "    }\n",
              "</style>\n",
              "<table border=\"1\" class=\"dataframe\">\n",
              "  <thead>\n",
              "    <tr style=\"text-align: right;\">\n",
              "      <th></th>\n",
              "      <th>Threshold</th>\n",
              "      <th>F_Beta_score</th>\n",
              "      <th>Capital_Expected_Loss</th>\n",
              "      <th>Insurance_Expected_Loss</th>\n",
              "    </tr>\n",
              "  </thead>\n",
              "  <tbody>\n",
              "    <tr>\n",
              "      <th>0</th>\n",
              "      <td>0.01</td>\n",
              "      <td>0.0</td>\n",
              "      <td>0.0</td>\n",
              "      <td>0.0</td>\n",
              "    </tr>\n",
              "    <tr>\n",
              "      <th>1</th>\n",
              "      <td>0.02</td>\n",
              "      <td>0.0</td>\n",
              "      <td>0.0</td>\n",
              "      <td>0.0</td>\n",
              "    </tr>\n",
              "    <tr>\n",
              "      <th>2</th>\n",
              "      <td>0.03</td>\n",
              "      <td>0.0</td>\n",
              "      <td>0.0</td>\n",
              "      <td>0.0</td>\n",
              "    </tr>\n",
              "    <tr>\n",
              "      <th>3</th>\n",
              "      <td>0.04</td>\n",
              "      <td>0.0</td>\n",
              "      <td>0.0</td>\n",
              "      <td>0.0</td>\n",
              "    </tr>\n",
              "    <tr>\n",
              "      <th>4</th>\n",
              "      <td>0.05</td>\n",
              "      <td>0.0</td>\n",
              "      <td>0.0</td>\n",
              "      <td>0.0</td>\n",
              "    </tr>\n",
              "    <tr>\n",
              "      <th>...</th>\n",
              "      <td>...</td>\n",
              "      <td>...</td>\n",
              "      <td>...</td>\n",
              "      <td>...</td>\n",
              "    </tr>\n",
              "    <tr>\n",
              "      <th>94</th>\n",
              "      <td>0.95</td>\n",
              "      <td>0.0</td>\n",
              "      <td>0.0</td>\n",
              "      <td>0.0</td>\n",
              "    </tr>\n",
              "    <tr>\n",
              "      <th>95</th>\n",
              "      <td>0.96</td>\n",
              "      <td>0.0</td>\n",
              "      <td>0.0</td>\n",
              "      <td>0.0</td>\n",
              "    </tr>\n",
              "    <tr>\n",
              "      <th>96</th>\n",
              "      <td>0.97</td>\n",
              "      <td>0.0</td>\n",
              "      <td>0.0</td>\n",
              "      <td>0.0</td>\n",
              "    </tr>\n",
              "    <tr>\n",
              "      <th>97</th>\n",
              "      <td>0.98</td>\n",
              "      <td>0.0</td>\n",
              "      <td>0.0</td>\n",
              "      <td>0.0</td>\n",
              "    </tr>\n",
              "    <tr>\n",
              "      <th>98</th>\n",
              "      <td>0.99</td>\n",
              "      <td>0.0</td>\n",
              "      <td>0.0</td>\n",
              "      <td>0.0</td>\n",
              "    </tr>\n",
              "  </tbody>\n",
              "</table>\n",
              "<p>99 rows × 4 columns</p>\n",
              "</div>\n",
              "      <button class=\"colab-df-convert\" onclick=\"convertToInteractive('df-ba14fcfc-c254-41de-91e5-ef0d812b3c1d')\"\n",
              "              title=\"Convert this dataframe to an interactive table.\"\n",
              "              style=\"display:none;\">\n",
              "        \n",
              "  <svg xmlns=\"http://www.w3.org/2000/svg\" height=\"24px\"viewBox=\"0 0 24 24\"\n",
              "       width=\"24px\">\n",
              "    <path d=\"M0 0h24v24H0V0z\" fill=\"none\"/>\n",
              "    <path d=\"M18.56 5.44l.94 2.06.94-2.06 2.06-.94-2.06-.94-.94-2.06-.94 2.06-2.06.94zm-11 1L8.5 8.5l.94-2.06 2.06-.94-2.06-.94L8.5 2.5l-.94 2.06-2.06.94zm10 10l.94 2.06.94-2.06 2.06-.94-2.06-.94-.94-2.06-.94 2.06-2.06.94z\"/><path d=\"M17.41 7.96l-1.37-1.37c-.4-.4-.92-.59-1.43-.59-.52 0-1.04.2-1.43.59L10.3 9.45l-7.72 7.72c-.78.78-.78 2.05 0 2.83L4 21.41c.39.39.9.59 1.41.59.51 0 1.02-.2 1.41-.59l7.78-7.78 2.81-2.81c.8-.78.8-2.07 0-2.86zM5.41 20L4 18.59l7.72-7.72 1.47 1.35L5.41 20z\"/>\n",
              "  </svg>\n",
              "      </button>\n",
              "      \n",
              "  <style>\n",
              "    .colab-df-container {\n",
              "      display:flex;\n",
              "      flex-wrap:wrap;\n",
              "      gap: 12px;\n",
              "    }\n",
              "\n",
              "    .colab-df-convert {\n",
              "      background-color: #E8F0FE;\n",
              "      border: none;\n",
              "      border-radius: 50%;\n",
              "      cursor: pointer;\n",
              "      display: none;\n",
              "      fill: #1967D2;\n",
              "      height: 32px;\n",
              "      padding: 0 0 0 0;\n",
              "      width: 32px;\n",
              "    }\n",
              "\n",
              "    .colab-df-convert:hover {\n",
              "      background-color: #E2EBFA;\n",
              "      box-shadow: 0px 1px 2px rgba(60, 64, 67, 0.3), 0px 1px 3px 1px rgba(60, 64, 67, 0.15);\n",
              "      fill: #174EA6;\n",
              "    }\n",
              "\n",
              "    [theme=dark] .colab-df-convert {\n",
              "      background-color: #3B4455;\n",
              "      fill: #D2E3FC;\n",
              "    }\n",
              "\n",
              "    [theme=dark] .colab-df-convert:hover {\n",
              "      background-color: #434B5C;\n",
              "      box-shadow: 0px 1px 3px 1px rgba(0, 0, 0, 0.15);\n",
              "      filter: drop-shadow(0px 1px 2px rgba(0, 0, 0, 0.3));\n",
              "      fill: #FFFFFF;\n",
              "    }\n",
              "  </style>\n",
              "\n",
              "      <script>\n",
              "        const buttonEl =\n",
              "          document.querySelector('#df-ba14fcfc-c254-41de-91e5-ef0d812b3c1d button.colab-df-convert');\n",
              "        buttonEl.style.display =\n",
              "          google.colab.kernel.accessAllowed ? 'block' : 'none';\n",
              "\n",
              "        async function convertToInteractive(key) {\n",
              "          const element = document.querySelector('#df-ba14fcfc-c254-41de-91e5-ef0d812b3c1d');\n",
              "          const dataTable =\n",
              "            await google.colab.kernel.invokeFunction('convertToInteractive',\n",
              "                                                     [key], {});\n",
              "          if (!dataTable) return;\n",
              "\n",
              "          const docLinkHtml = 'Like what you see? Visit the ' +\n",
              "            '<a target=\"_blank\" href=https://colab.research.google.com/notebooks/data_table.ipynb>data table notebook</a>'\n",
              "            + ' to learn more about interactive tables.';\n",
              "          element.innerHTML = '';\n",
              "          dataTable['output_type'] = 'display_data';\n",
              "          await google.colab.output.renderOutput(dataTable, element);\n",
              "          const docLink = document.createElement('div');\n",
              "          docLink.innerHTML = docLinkHtml;\n",
              "          element.appendChild(docLink);\n",
              "        }\n",
              "      </script>\n",
              "    </div>\n",
              "  </div>\n",
              "  "
            ]
          },
          "metadata": {},
          "execution_count": 131
        }
      ]
    },
    {
      "cell_type": "code",
      "source": [
        "y_smote = np.array(y_smote)\n",
        "type(y_smote)\n",
        "  # [실제 데이터를 활용한 종속변수 TARGET 생성 시] \n",
        "  # [코리안크레딧뷰로/신용정보원 기준 신용평점 630점 미만인 고객]\n",
        "  # [과거(1년 이내) 채무연체 이력 / 현재 연체보유 이력이 있는 고객]"
      ],
      "metadata": {
        "colab": {
          "base_uri": "https://localhost:8080/"
        },
        "id": "IA9nkhR55o4g",
        "outputId": "e3835dd4-9c8a-47df-8554-8d352a8e3035"
      },
      "execution_count": 132,
      "outputs": [
        {
          "output_type": "execute_result",
          "data": {
            "text/plain": [
              "numpy.ndarray"
            ]
          },
          "metadata": {},
          "execution_count": 132
        }
      ]
    },
    {
      "cell_type": "code",
      "source": [
        "# Light GBM의 분류확률 임계값 수열(0.01:0.99)에 따른 LightGBM 모델성능평가지표를 데이터프레임에 저장\n",
        "\n",
        "i: int = 0\n",
        "  # [index 정수형 타입 선언 후 0 할당(초기화)]\n",
        "\n",
        "for float in contain:\n",
        "  globals()[\"F_Beta_{}\".format(i)], globals()[\"Capital_Loss_{}\".format(i)], globals()[\"Insurance_Loss_{}\".format(i)] = LightGradientBoostingTreeThreshold(\n",
        "    X = X_smote.drop([\"CODE_GENDER_M\", \"CODE_GENDER_F\"], axis = 1), \n",
        "    y = y_smote, \n",
        "    boostMethod = \"gbdt\", \n",
        "    threshold = float)\n",
        "  \n",
        "  Threshold_Metric_curve.iloc[i, 1] = globals()[\"F_Beta_{}\".format(i)]\n",
        "  Threshold_Metric_curve.iloc[i, 2] = globals()[\"Capital_Loss_{}\".format(i)]\n",
        "  Threshold_Metric_curve.iloc[i, 3] = globals()[\"Insurance_Loss_{}\".format(i)]\n",
        "\n",
        "  i += 1\n",
        "  \n",
        "Threshold_Metric_curve.to_csv(\"/content/drive/MyDrive/threshold_metric.csv\",\n",
        "                              sep = \",\",\n",
        "                              na_rep = \"NaN\",\n",
        "                              float_format = \"%.4f\",\n",
        "                              index = False)"
      ],
      "metadata": {
        "colab": {
          "base_uri": "https://localhost:8080/"
        },
        "id": "C9FXLnijE1qF",
        "outputId": "c8a49656-b40f-43a0-e7f5-3ea7ba786fb6"
      },
      "execution_count": 133,
      "outputs": [
        {
          "output_type": "stream",
          "name": "stderr",
          "text": [
            "/usr/local/lib/python3.8/dist-packages/sklearn/preprocessing/_label.py:98: DataConversionWarning: A column-vector y was passed when a 1d array was expected. Please change the shape of y to (n_samples, ), for example using ravel().\n",
            "  y = column_or_1d(y, warn=True)\n",
            "/usr/local/lib/python3.8/dist-packages/sklearn/preprocessing/_label.py:133: DataConversionWarning: A column-vector y was passed when a 1d array was expected. Please change the shape of y to (n_samples, ), for example using ravel().\n",
            "  y = column_or_1d(y, warn=True)\n",
            "/usr/local/lib/python3.8/dist-packages/sklearn/preprocessing/_label.py:98: DataConversionWarning: A column-vector y was passed when a 1d array was expected. Please change the shape of y to (n_samples, ), for example using ravel().\n",
            "  y = column_or_1d(y, warn=True)\n",
            "/usr/local/lib/python3.8/dist-packages/sklearn/preprocessing/_label.py:133: DataConversionWarning: A column-vector y was passed when a 1d array was expected. Please change the shape of y to (n_samples, ), for example using ravel().\n",
            "  y = column_or_1d(y, warn=True)\n",
            "/usr/local/lib/python3.8/dist-packages/sklearn/preprocessing/_label.py:98: DataConversionWarning: A column-vector y was passed when a 1d array was expected. Please change the shape of y to (n_samples, ), for example using ravel().\n",
            "  y = column_or_1d(y, warn=True)\n",
            "/usr/local/lib/python3.8/dist-packages/sklearn/preprocessing/_label.py:133: DataConversionWarning: A column-vector y was passed when a 1d array was expected. Please change the shape of y to (n_samples, ), for example using ravel().\n",
            "  y = column_or_1d(y, warn=True)\n",
            "/usr/local/lib/python3.8/dist-packages/sklearn/preprocessing/_label.py:98: DataConversionWarning: A column-vector y was passed when a 1d array was expected. Please change the shape of y to (n_samples, ), for example using ravel().\n",
            "  y = column_or_1d(y, warn=True)\n",
            "/usr/local/lib/python3.8/dist-packages/sklearn/preprocessing/_label.py:133: DataConversionWarning: A column-vector y was passed when a 1d array was expected. Please change the shape of y to (n_samples, ), for example using ravel().\n",
            "  y = column_or_1d(y, warn=True)\n",
            "/usr/local/lib/python3.8/dist-packages/sklearn/preprocessing/_label.py:98: DataConversionWarning: A column-vector y was passed when a 1d array was expected. Please change the shape of y to (n_samples, ), for example using ravel().\n",
            "  y = column_or_1d(y, warn=True)\n",
            "/usr/local/lib/python3.8/dist-packages/sklearn/preprocessing/_label.py:133: DataConversionWarning: A column-vector y was passed when a 1d array was expected. Please change the shape of y to (n_samples, ), for example using ravel().\n",
            "  y = column_or_1d(y, warn=True)\n",
            "/usr/local/lib/python3.8/dist-packages/sklearn/preprocessing/_label.py:98: DataConversionWarning: A column-vector y was passed when a 1d array was expected. Please change the shape of y to (n_samples, ), for example using ravel().\n",
            "  y = column_or_1d(y, warn=True)\n",
            "/usr/local/lib/python3.8/dist-packages/sklearn/preprocessing/_label.py:133: DataConversionWarning: A column-vector y was passed when a 1d array was expected. Please change the shape of y to (n_samples, ), for example using ravel().\n",
            "  y = column_or_1d(y, warn=True)\n",
            "/usr/local/lib/python3.8/dist-packages/sklearn/preprocessing/_label.py:98: DataConversionWarning: A column-vector y was passed when a 1d array was expected. Please change the shape of y to (n_samples, ), for example using ravel().\n",
            "  y = column_or_1d(y, warn=True)\n",
            "/usr/local/lib/python3.8/dist-packages/sklearn/preprocessing/_label.py:133: DataConversionWarning: A column-vector y was passed when a 1d array was expected. Please change the shape of y to (n_samples, ), for example using ravel().\n",
            "  y = column_or_1d(y, warn=True)\n",
            "/usr/local/lib/python3.8/dist-packages/sklearn/preprocessing/_label.py:98: DataConversionWarning: A column-vector y was passed when a 1d array was expected. Please change the shape of y to (n_samples, ), for example using ravel().\n",
            "  y = column_or_1d(y, warn=True)\n",
            "/usr/local/lib/python3.8/dist-packages/sklearn/preprocessing/_label.py:133: DataConversionWarning: A column-vector y was passed when a 1d array was expected. Please change the shape of y to (n_samples, ), for example using ravel().\n",
            "  y = column_or_1d(y, warn=True)\n",
            "/usr/local/lib/python3.8/dist-packages/sklearn/preprocessing/_label.py:98: DataConversionWarning: A column-vector y was passed when a 1d array was expected. Please change the shape of y to (n_samples, ), for example using ravel().\n",
            "  y = column_or_1d(y, warn=True)\n",
            "/usr/local/lib/python3.8/dist-packages/sklearn/preprocessing/_label.py:133: DataConversionWarning: A column-vector y was passed when a 1d array was expected. Please change the shape of y to (n_samples, ), for example using ravel().\n",
            "  y = column_or_1d(y, warn=True)\n",
            "/usr/local/lib/python3.8/dist-packages/sklearn/preprocessing/_label.py:98: DataConversionWarning: A column-vector y was passed when a 1d array was expected. Please change the shape of y to (n_samples, ), for example using ravel().\n",
            "  y = column_or_1d(y, warn=True)\n",
            "/usr/local/lib/python3.8/dist-packages/sklearn/preprocessing/_label.py:133: DataConversionWarning: A column-vector y was passed when a 1d array was expected. Please change the shape of y to (n_samples, ), for example using ravel().\n",
            "  y = column_or_1d(y, warn=True)\n",
            "/usr/local/lib/python3.8/dist-packages/sklearn/preprocessing/_label.py:98: DataConversionWarning: A column-vector y was passed when a 1d array was expected. Please change the shape of y to (n_samples, ), for example using ravel().\n",
            "  y = column_or_1d(y, warn=True)\n",
            "/usr/local/lib/python3.8/dist-packages/sklearn/preprocessing/_label.py:133: DataConversionWarning: A column-vector y was passed when a 1d array was expected. Please change the shape of y to (n_samples, ), for example using ravel().\n",
            "  y = column_or_1d(y, warn=True)\n",
            "/usr/local/lib/python3.8/dist-packages/sklearn/preprocessing/_label.py:98: DataConversionWarning: A column-vector y was passed when a 1d array was expected. Please change the shape of y to (n_samples, ), for example using ravel().\n",
            "  y = column_or_1d(y, warn=True)\n",
            "/usr/local/lib/python3.8/dist-packages/sklearn/preprocessing/_label.py:133: DataConversionWarning: A column-vector y was passed when a 1d array was expected. Please change the shape of y to (n_samples, ), for example using ravel().\n",
            "  y = column_or_1d(y, warn=True)\n",
            "/usr/local/lib/python3.8/dist-packages/sklearn/preprocessing/_label.py:98: DataConversionWarning: A column-vector y was passed when a 1d array was expected. Please change the shape of y to (n_samples, ), for example using ravel().\n",
            "  y = column_or_1d(y, warn=True)\n",
            "/usr/local/lib/python3.8/dist-packages/sklearn/preprocessing/_label.py:133: DataConversionWarning: A column-vector y was passed when a 1d array was expected. Please change the shape of y to (n_samples, ), for example using ravel().\n",
            "  y = column_or_1d(y, warn=True)\n",
            "/usr/local/lib/python3.8/dist-packages/sklearn/preprocessing/_label.py:98: DataConversionWarning: A column-vector y was passed when a 1d array was expected. Please change the shape of y to (n_samples, ), for example using ravel().\n",
            "  y = column_or_1d(y, warn=True)\n",
            "/usr/local/lib/python3.8/dist-packages/sklearn/preprocessing/_label.py:133: DataConversionWarning: A column-vector y was passed when a 1d array was expected. Please change the shape of y to (n_samples, ), for example using ravel().\n",
            "  y = column_or_1d(y, warn=True)\n",
            "/usr/local/lib/python3.8/dist-packages/sklearn/preprocessing/_label.py:98: DataConversionWarning: A column-vector y was passed when a 1d array was expected. Please change the shape of y to (n_samples, ), for example using ravel().\n",
            "  y = column_or_1d(y, warn=True)\n",
            "/usr/local/lib/python3.8/dist-packages/sklearn/preprocessing/_label.py:133: DataConversionWarning: A column-vector y was passed when a 1d array was expected. Please change the shape of y to (n_samples, ), for example using ravel().\n",
            "  y = column_or_1d(y, warn=True)\n",
            "/usr/local/lib/python3.8/dist-packages/sklearn/preprocessing/_label.py:98: DataConversionWarning: A column-vector y was passed when a 1d array was expected. Please change the shape of y to (n_samples, ), for example using ravel().\n",
            "  y = column_or_1d(y, warn=True)\n",
            "/usr/local/lib/python3.8/dist-packages/sklearn/preprocessing/_label.py:133: DataConversionWarning: A column-vector y was passed when a 1d array was expected. Please change the shape of y to (n_samples, ), for example using ravel().\n",
            "  y = column_or_1d(y, warn=True)\n",
            "/usr/local/lib/python3.8/dist-packages/sklearn/preprocessing/_label.py:98: DataConversionWarning: A column-vector y was passed when a 1d array was expected. Please change the shape of y to (n_samples, ), for example using ravel().\n",
            "  y = column_or_1d(y, warn=True)\n",
            "/usr/local/lib/python3.8/dist-packages/sklearn/preprocessing/_label.py:133: DataConversionWarning: A column-vector y was passed when a 1d array was expected. Please change the shape of y to (n_samples, ), for example using ravel().\n",
            "  y = column_or_1d(y, warn=True)\n",
            "/usr/local/lib/python3.8/dist-packages/sklearn/preprocessing/_label.py:98: DataConversionWarning: A column-vector y was passed when a 1d array was expected. Please change the shape of y to (n_samples, ), for example using ravel().\n",
            "  y = column_or_1d(y, warn=True)\n",
            "/usr/local/lib/python3.8/dist-packages/sklearn/preprocessing/_label.py:133: DataConversionWarning: A column-vector y was passed when a 1d array was expected. Please change the shape of y to (n_samples, ), for example using ravel().\n",
            "  y = column_or_1d(y, warn=True)\n",
            "/usr/local/lib/python3.8/dist-packages/sklearn/preprocessing/_label.py:98: DataConversionWarning: A column-vector y was passed when a 1d array was expected. Please change the shape of y to (n_samples, ), for example using ravel().\n",
            "  y = column_or_1d(y, warn=True)\n",
            "/usr/local/lib/python3.8/dist-packages/sklearn/preprocessing/_label.py:133: DataConversionWarning: A column-vector y was passed when a 1d array was expected. Please change the shape of y to (n_samples, ), for example using ravel().\n",
            "  y = column_or_1d(y, warn=True)\n",
            "/usr/local/lib/python3.8/dist-packages/sklearn/preprocessing/_label.py:98: DataConversionWarning: A column-vector y was passed when a 1d array was expected. Please change the shape of y to (n_samples, ), for example using ravel().\n",
            "  y = column_or_1d(y, warn=True)\n",
            "/usr/local/lib/python3.8/dist-packages/sklearn/preprocessing/_label.py:133: DataConversionWarning: A column-vector y was passed when a 1d array was expected. Please change the shape of y to (n_samples, ), for example using ravel().\n",
            "  y = column_or_1d(y, warn=True)\n",
            "/usr/local/lib/python3.8/dist-packages/sklearn/preprocessing/_label.py:98: DataConversionWarning: A column-vector y was passed when a 1d array was expected. Please change the shape of y to (n_samples, ), for example using ravel().\n",
            "  y = column_or_1d(y, warn=True)\n",
            "/usr/local/lib/python3.8/dist-packages/sklearn/preprocessing/_label.py:133: DataConversionWarning: A column-vector y was passed when a 1d array was expected. Please change the shape of y to (n_samples, ), for example using ravel().\n",
            "  y = column_or_1d(y, warn=True)\n",
            "/usr/local/lib/python3.8/dist-packages/sklearn/preprocessing/_label.py:98: DataConversionWarning: A column-vector y was passed when a 1d array was expected. Please change the shape of y to (n_samples, ), for example using ravel().\n",
            "  y = column_or_1d(y, warn=True)\n",
            "/usr/local/lib/python3.8/dist-packages/sklearn/preprocessing/_label.py:133: DataConversionWarning: A column-vector y was passed when a 1d array was expected. Please change the shape of y to (n_samples, ), for example using ravel().\n",
            "  y = column_or_1d(y, warn=True)\n",
            "/usr/local/lib/python3.8/dist-packages/sklearn/preprocessing/_label.py:98: DataConversionWarning: A column-vector y was passed when a 1d array was expected. Please change the shape of y to (n_samples, ), for example using ravel().\n",
            "  y = column_or_1d(y, warn=True)\n",
            "/usr/local/lib/python3.8/dist-packages/sklearn/preprocessing/_label.py:133: DataConversionWarning: A column-vector y was passed when a 1d array was expected. Please change the shape of y to (n_samples, ), for example using ravel().\n",
            "  y = column_or_1d(y, warn=True)\n",
            "/usr/local/lib/python3.8/dist-packages/sklearn/preprocessing/_label.py:98: DataConversionWarning: A column-vector y was passed when a 1d array was expected. Please change the shape of y to (n_samples, ), for example using ravel().\n",
            "  y = column_or_1d(y, warn=True)\n",
            "/usr/local/lib/python3.8/dist-packages/sklearn/preprocessing/_label.py:133: DataConversionWarning: A column-vector y was passed when a 1d array was expected. Please change the shape of y to (n_samples, ), for example using ravel().\n",
            "  y = column_or_1d(y, warn=True)\n",
            "/usr/local/lib/python3.8/dist-packages/sklearn/preprocessing/_label.py:98: DataConversionWarning: A column-vector y was passed when a 1d array was expected. Please change the shape of y to (n_samples, ), for example using ravel().\n",
            "  y = column_or_1d(y, warn=True)\n",
            "/usr/local/lib/python3.8/dist-packages/sklearn/preprocessing/_label.py:133: DataConversionWarning: A column-vector y was passed when a 1d array was expected. Please change the shape of y to (n_samples, ), for example using ravel().\n",
            "  y = column_or_1d(y, warn=True)\n",
            "/usr/local/lib/python3.8/dist-packages/sklearn/preprocessing/_label.py:98: DataConversionWarning: A column-vector y was passed when a 1d array was expected. Please change the shape of y to (n_samples, ), for example using ravel().\n",
            "  y = column_or_1d(y, warn=True)\n",
            "/usr/local/lib/python3.8/dist-packages/sklearn/preprocessing/_label.py:133: DataConversionWarning: A column-vector y was passed when a 1d array was expected. Please change the shape of y to (n_samples, ), for example using ravel().\n",
            "  y = column_or_1d(y, warn=True)\n",
            "/usr/local/lib/python3.8/dist-packages/sklearn/preprocessing/_label.py:98: DataConversionWarning: A column-vector y was passed when a 1d array was expected. Please change the shape of y to (n_samples, ), for example using ravel().\n",
            "  y = column_or_1d(y, warn=True)\n",
            "/usr/local/lib/python3.8/dist-packages/sklearn/preprocessing/_label.py:133: DataConversionWarning: A column-vector y was passed when a 1d array was expected. Please change the shape of y to (n_samples, ), for example using ravel().\n",
            "  y = column_or_1d(y, warn=True)\n",
            "/usr/local/lib/python3.8/dist-packages/sklearn/preprocessing/_label.py:98: DataConversionWarning: A column-vector y was passed when a 1d array was expected. Please change the shape of y to (n_samples, ), for example using ravel().\n",
            "  y = column_or_1d(y, warn=True)\n",
            "/usr/local/lib/python3.8/dist-packages/sklearn/preprocessing/_label.py:133: DataConversionWarning: A column-vector y was passed when a 1d array was expected. Please change the shape of y to (n_samples, ), for example using ravel().\n",
            "  y = column_or_1d(y, warn=True)\n",
            "/usr/local/lib/python3.8/dist-packages/sklearn/preprocessing/_label.py:98: DataConversionWarning: A column-vector y was passed when a 1d array was expected. Please change the shape of y to (n_samples, ), for example using ravel().\n",
            "  y = column_or_1d(y, warn=True)\n",
            "/usr/local/lib/python3.8/dist-packages/sklearn/preprocessing/_label.py:133: DataConversionWarning: A column-vector y was passed when a 1d array was expected. Please change the shape of y to (n_samples, ), for example using ravel().\n",
            "  y = column_or_1d(y, warn=True)\n",
            "/usr/local/lib/python3.8/dist-packages/sklearn/preprocessing/_label.py:98: DataConversionWarning: A column-vector y was passed when a 1d array was expected. Please change the shape of y to (n_samples, ), for example using ravel().\n",
            "  y = column_or_1d(y, warn=True)\n",
            "/usr/local/lib/python3.8/dist-packages/sklearn/preprocessing/_label.py:133: DataConversionWarning: A column-vector y was passed when a 1d array was expected. Please change the shape of y to (n_samples, ), for example using ravel().\n",
            "  y = column_or_1d(y, warn=True)\n",
            "/usr/local/lib/python3.8/dist-packages/sklearn/preprocessing/_label.py:98: DataConversionWarning: A column-vector y was passed when a 1d array was expected. Please change the shape of y to (n_samples, ), for example using ravel().\n",
            "  y = column_or_1d(y, warn=True)\n",
            "/usr/local/lib/python3.8/dist-packages/sklearn/preprocessing/_label.py:133: DataConversionWarning: A column-vector y was passed when a 1d array was expected. Please change the shape of y to (n_samples, ), for example using ravel().\n",
            "  y = column_or_1d(y, warn=True)\n",
            "/usr/local/lib/python3.8/dist-packages/sklearn/preprocessing/_label.py:98: DataConversionWarning: A column-vector y was passed when a 1d array was expected. Please change the shape of y to (n_samples, ), for example using ravel().\n",
            "  y = column_or_1d(y, warn=True)\n",
            "/usr/local/lib/python3.8/dist-packages/sklearn/preprocessing/_label.py:133: DataConversionWarning: A column-vector y was passed when a 1d array was expected. Please change the shape of y to (n_samples, ), for example using ravel().\n",
            "  y = column_or_1d(y, warn=True)\n",
            "/usr/local/lib/python3.8/dist-packages/sklearn/preprocessing/_label.py:98: DataConversionWarning: A column-vector y was passed when a 1d array was expected. Please change the shape of y to (n_samples, ), for example using ravel().\n",
            "  y = column_or_1d(y, warn=True)\n",
            "/usr/local/lib/python3.8/dist-packages/sklearn/preprocessing/_label.py:133: DataConversionWarning: A column-vector y was passed when a 1d array was expected. Please change the shape of y to (n_samples, ), for example using ravel().\n",
            "  y = column_or_1d(y, warn=True)\n",
            "/usr/local/lib/python3.8/dist-packages/sklearn/preprocessing/_label.py:98: DataConversionWarning: A column-vector y was passed when a 1d array was expected. Please change the shape of y to (n_samples, ), for example using ravel().\n",
            "  y = column_or_1d(y, warn=True)\n",
            "/usr/local/lib/python3.8/dist-packages/sklearn/preprocessing/_label.py:133: DataConversionWarning: A column-vector y was passed when a 1d array was expected. Please change the shape of y to (n_samples, ), for example using ravel().\n",
            "  y = column_or_1d(y, warn=True)\n",
            "/usr/local/lib/python3.8/dist-packages/sklearn/preprocessing/_label.py:98: DataConversionWarning: A column-vector y was passed when a 1d array was expected. Please change the shape of y to (n_samples, ), for example using ravel().\n",
            "  y = column_or_1d(y, warn=True)\n",
            "/usr/local/lib/python3.8/dist-packages/sklearn/preprocessing/_label.py:133: DataConversionWarning: A column-vector y was passed when a 1d array was expected. Please change the shape of y to (n_samples, ), for example using ravel().\n",
            "  y = column_or_1d(y, warn=True)\n",
            "/usr/local/lib/python3.8/dist-packages/sklearn/preprocessing/_label.py:98: DataConversionWarning: A column-vector y was passed when a 1d array was expected. Please change the shape of y to (n_samples, ), for example using ravel().\n",
            "  y = column_or_1d(y, warn=True)\n",
            "/usr/local/lib/python3.8/dist-packages/sklearn/preprocessing/_label.py:133: DataConversionWarning: A column-vector y was passed when a 1d array was expected. Please change the shape of y to (n_samples, ), for example using ravel().\n",
            "  y = column_or_1d(y, warn=True)\n",
            "/usr/local/lib/python3.8/dist-packages/sklearn/preprocessing/_label.py:98: DataConversionWarning: A column-vector y was passed when a 1d array was expected. Please change the shape of y to (n_samples, ), for example using ravel().\n",
            "  y = column_or_1d(y, warn=True)\n",
            "/usr/local/lib/python3.8/dist-packages/sklearn/preprocessing/_label.py:133: DataConversionWarning: A column-vector y was passed when a 1d array was expected. Please change the shape of y to (n_samples, ), for example using ravel().\n",
            "  y = column_or_1d(y, warn=True)\n",
            "/usr/local/lib/python3.8/dist-packages/sklearn/preprocessing/_label.py:98: DataConversionWarning: A column-vector y was passed when a 1d array was expected. Please change the shape of y to (n_samples, ), for example using ravel().\n",
            "  y = column_or_1d(y, warn=True)\n",
            "/usr/local/lib/python3.8/dist-packages/sklearn/preprocessing/_label.py:133: DataConversionWarning: A column-vector y was passed when a 1d array was expected. Please change the shape of y to (n_samples, ), for example using ravel().\n",
            "  y = column_or_1d(y, warn=True)\n",
            "/usr/local/lib/python3.8/dist-packages/sklearn/preprocessing/_label.py:98: DataConversionWarning: A column-vector y was passed when a 1d array was expected. Please change the shape of y to (n_samples, ), for example using ravel().\n",
            "  y = column_or_1d(y, warn=True)\n",
            "/usr/local/lib/python3.8/dist-packages/sklearn/preprocessing/_label.py:133: DataConversionWarning: A column-vector y was passed when a 1d array was expected. Please change the shape of y to (n_samples, ), for example using ravel().\n",
            "  y = column_or_1d(y, warn=True)\n",
            "/usr/local/lib/python3.8/dist-packages/sklearn/preprocessing/_label.py:98: DataConversionWarning: A column-vector y was passed when a 1d array was expected. Please change the shape of y to (n_samples, ), for example using ravel().\n",
            "  y = column_or_1d(y, warn=True)\n",
            "/usr/local/lib/python3.8/dist-packages/sklearn/preprocessing/_label.py:133: DataConversionWarning: A column-vector y was passed when a 1d array was expected. Please change the shape of y to (n_samples, ), for example using ravel().\n",
            "  y = column_or_1d(y, warn=True)\n",
            "/usr/local/lib/python3.8/dist-packages/sklearn/preprocessing/_label.py:98: DataConversionWarning: A column-vector y was passed when a 1d array was expected. Please change the shape of y to (n_samples, ), for example using ravel().\n",
            "  y = column_or_1d(y, warn=True)\n",
            "/usr/local/lib/python3.8/dist-packages/sklearn/preprocessing/_label.py:133: DataConversionWarning: A column-vector y was passed when a 1d array was expected. Please change the shape of y to (n_samples, ), for example using ravel().\n",
            "  y = column_or_1d(y, warn=True)\n",
            "/usr/local/lib/python3.8/dist-packages/sklearn/preprocessing/_label.py:98: DataConversionWarning: A column-vector y was passed when a 1d array was expected. Please change the shape of y to (n_samples, ), for example using ravel().\n",
            "  y = column_or_1d(y, warn=True)\n",
            "/usr/local/lib/python3.8/dist-packages/sklearn/preprocessing/_label.py:133: DataConversionWarning: A column-vector y was passed when a 1d array was expected. Please change the shape of y to (n_samples, ), for example using ravel().\n",
            "  y = column_or_1d(y, warn=True)\n",
            "/usr/local/lib/python3.8/dist-packages/sklearn/preprocessing/_label.py:98: DataConversionWarning: A column-vector y was passed when a 1d array was expected. Please change the shape of y to (n_samples, ), for example using ravel().\n",
            "  y = column_or_1d(y, warn=True)\n",
            "/usr/local/lib/python3.8/dist-packages/sklearn/preprocessing/_label.py:133: DataConversionWarning: A column-vector y was passed when a 1d array was expected. Please change the shape of y to (n_samples, ), for example using ravel().\n",
            "  y = column_or_1d(y, warn=True)\n",
            "/usr/local/lib/python3.8/dist-packages/sklearn/preprocessing/_label.py:98: DataConversionWarning: A column-vector y was passed when a 1d array was expected. Please change the shape of y to (n_samples, ), for example using ravel().\n",
            "  y = column_or_1d(y, warn=True)\n",
            "/usr/local/lib/python3.8/dist-packages/sklearn/preprocessing/_label.py:133: DataConversionWarning: A column-vector y was passed when a 1d array was expected. Please change the shape of y to (n_samples, ), for example using ravel().\n",
            "  y = column_or_1d(y, warn=True)\n",
            "/usr/local/lib/python3.8/dist-packages/sklearn/preprocessing/_label.py:98: DataConversionWarning: A column-vector y was passed when a 1d array was expected. Please change the shape of y to (n_samples, ), for example using ravel().\n",
            "  y = column_or_1d(y, warn=True)\n",
            "/usr/local/lib/python3.8/dist-packages/sklearn/preprocessing/_label.py:133: DataConversionWarning: A column-vector y was passed when a 1d array was expected. Please change the shape of y to (n_samples, ), for example using ravel().\n",
            "  y = column_or_1d(y, warn=True)\n",
            "/usr/local/lib/python3.8/dist-packages/sklearn/preprocessing/_label.py:98: DataConversionWarning: A column-vector y was passed when a 1d array was expected. Please change the shape of y to (n_samples, ), for example using ravel().\n",
            "  y = column_or_1d(y, warn=True)\n",
            "/usr/local/lib/python3.8/dist-packages/sklearn/preprocessing/_label.py:133: DataConversionWarning: A column-vector y was passed when a 1d array was expected. Please change the shape of y to (n_samples, ), for example using ravel().\n",
            "  y = column_or_1d(y, warn=True)\n",
            "/usr/local/lib/python3.8/dist-packages/sklearn/preprocessing/_label.py:98: DataConversionWarning: A column-vector y was passed when a 1d array was expected. Please change the shape of y to (n_samples, ), for example using ravel().\n",
            "  y = column_or_1d(y, warn=True)\n",
            "/usr/local/lib/python3.8/dist-packages/sklearn/preprocessing/_label.py:133: DataConversionWarning: A column-vector y was passed when a 1d array was expected. Please change the shape of y to (n_samples, ), for example using ravel().\n",
            "  y = column_or_1d(y, warn=True)\n",
            "/usr/local/lib/python3.8/dist-packages/sklearn/preprocessing/_label.py:98: DataConversionWarning: A column-vector y was passed when a 1d array was expected. Please change the shape of y to (n_samples, ), for example using ravel().\n",
            "  y = column_or_1d(y, warn=True)\n",
            "/usr/local/lib/python3.8/dist-packages/sklearn/preprocessing/_label.py:133: DataConversionWarning: A column-vector y was passed when a 1d array was expected. Please change the shape of y to (n_samples, ), for example using ravel().\n",
            "  y = column_or_1d(y, warn=True)\n",
            "/usr/local/lib/python3.8/dist-packages/sklearn/preprocessing/_label.py:98: DataConversionWarning: A column-vector y was passed when a 1d array was expected. Please change the shape of y to (n_samples, ), for example using ravel().\n",
            "  y = column_or_1d(y, warn=True)\n",
            "/usr/local/lib/python3.8/dist-packages/sklearn/preprocessing/_label.py:133: DataConversionWarning: A column-vector y was passed when a 1d array was expected. Please change the shape of y to (n_samples, ), for example using ravel().\n",
            "  y = column_or_1d(y, warn=True)\n",
            "/usr/local/lib/python3.8/dist-packages/sklearn/preprocessing/_label.py:98: DataConversionWarning: A column-vector y was passed when a 1d array was expected. Please change the shape of y to (n_samples, ), for example using ravel().\n",
            "  y = column_or_1d(y, warn=True)\n",
            "/usr/local/lib/python3.8/dist-packages/sklearn/preprocessing/_label.py:133: DataConversionWarning: A column-vector y was passed when a 1d array was expected. Please change the shape of y to (n_samples, ), for example using ravel().\n",
            "  y = column_or_1d(y, warn=True)\n",
            "/usr/local/lib/python3.8/dist-packages/sklearn/preprocessing/_label.py:98: DataConversionWarning: A column-vector y was passed when a 1d array was expected. Please change the shape of y to (n_samples, ), for example using ravel().\n",
            "  y = column_or_1d(y, warn=True)\n",
            "/usr/local/lib/python3.8/dist-packages/sklearn/preprocessing/_label.py:133: DataConversionWarning: A column-vector y was passed when a 1d array was expected. Please change the shape of y to (n_samples, ), for example using ravel().\n",
            "  y = column_or_1d(y, warn=True)\n",
            "/usr/local/lib/python3.8/dist-packages/sklearn/preprocessing/_label.py:98: DataConversionWarning: A column-vector y was passed when a 1d array was expected. Please change the shape of y to (n_samples, ), for example using ravel().\n",
            "  y = column_or_1d(y, warn=True)\n",
            "/usr/local/lib/python3.8/dist-packages/sklearn/preprocessing/_label.py:133: DataConversionWarning: A column-vector y was passed when a 1d array was expected. Please change the shape of y to (n_samples, ), for example using ravel().\n",
            "  y = column_or_1d(y, warn=True)\n",
            "/usr/local/lib/python3.8/dist-packages/sklearn/preprocessing/_label.py:98: DataConversionWarning: A column-vector y was passed when a 1d array was expected. Please change the shape of y to (n_samples, ), for example using ravel().\n",
            "  y = column_or_1d(y, warn=True)\n",
            "/usr/local/lib/python3.8/dist-packages/sklearn/preprocessing/_label.py:133: DataConversionWarning: A column-vector y was passed when a 1d array was expected. Please change the shape of y to (n_samples, ), for example using ravel().\n",
            "  y = column_or_1d(y, warn=True)\n",
            "/usr/local/lib/python3.8/dist-packages/sklearn/preprocessing/_label.py:98: DataConversionWarning: A column-vector y was passed when a 1d array was expected. Please change the shape of y to (n_samples, ), for example using ravel().\n",
            "  y = column_or_1d(y, warn=True)\n",
            "/usr/local/lib/python3.8/dist-packages/sklearn/preprocessing/_label.py:133: DataConversionWarning: A column-vector y was passed when a 1d array was expected. Please change the shape of y to (n_samples, ), for example using ravel().\n",
            "  y = column_or_1d(y, warn=True)\n",
            "/usr/local/lib/python3.8/dist-packages/sklearn/preprocessing/_label.py:98: DataConversionWarning: A column-vector y was passed when a 1d array was expected. Please change the shape of y to (n_samples, ), for example using ravel().\n",
            "  y = column_or_1d(y, warn=True)\n",
            "/usr/local/lib/python3.8/dist-packages/sklearn/preprocessing/_label.py:133: DataConversionWarning: A column-vector y was passed when a 1d array was expected. Please change the shape of y to (n_samples, ), for example using ravel().\n",
            "  y = column_or_1d(y, warn=True)\n",
            "/usr/local/lib/python3.8/dist-packages/sklearn/preprocessing/_label.py:98: DataConversionWarning: A column-vector y was passed when a 1d array was expected. Please change the shape of y to (n_samples, ), for example using ravel().\n",
            "  y = column_or_1d(y, warn=True)\n",
            "/usr/local/lib/python3.8/dist-packages/sklearn/preprocessing/_label.py:133: DataConversionWarning: A column-vector y was passed when a 1d array was expected. Please change the shape of y to (n_samples, ), for example using ravel().\n",
            "  y = column_or_1d(y, warn=True)\n",
            "/usr/local/lib/python3.8/dist-packages/sklearn/preprocessing/_label.py:98: DataConversionWarning: A column-vector y was passed when a 1d array was expected. Please change the shape of y to (n_samples, ), for example using ravel().\n",
            "  y = column_or_1d(y, warn=True)\n",
            "/usr/local/lib/python3.8/dist-packages/sklearn/preprocessing/_label.py:133: DataConversionWarning: A column-vector y was passed when a 1d array was expected. Please change the shape of y to (n_samples, ), for example using ravel().\n",
            "  y = column_or_1d(y, warn=True)\n",
            "/usr/local/lib/python3.8/dist-packages/sklearn/preprocessing/_label.py:98: DataConversionWarning: A column-vector y was passed when a 1d array was expected. Please change the shape of y to (n_samples, ), for example using ravel().\n",
            "  y = column_or_1d(y, warn=True)\n",
            "/usr/local/lib/python3.8/dist-packages/sklearn/preprocessing/_label.py:133: DataConversionWarning: A column-vector y was passed when a 1d array was expected. Please change the shape of y to (n_samples, ), for example using ravel().\n",
            "  y = column_or_1d(y, warn=True)\n",
            "/usr/local/lib/python3.8/dist-packages/sklearn/preprocessing/_label.py:98: DataConversionWarning: A column-vector y was passed when a 1d array was expected. Please change the shape of y to (n_samples, ), for example using ravel().\n",
            "  y = column_or_1d(y, warn=True)\n",
            "/usr/local/lib/python3.8/dist-packages/sklearn/preprocessing/_label.py:133: DataConversionWarning: A column-vector y was passed when a 1d array was expected. Please change the shape of y to (n_samples, ), for example using ravel().\n",
            "  y = column_or_1d(y, warn=True)\n",
            "/usr/local/lib/python3.8/dist-packages/sklearn/preprocessing/_label.py:98: DataConversionWarning: A column-vector y was passed when a 1d array was expected. Please change the shape of y to (n_samples, ), for example using ravel().\n",
            "  y = column_or_1d(y, warn=True)\n",
            "/usr/local/lib/python3.8/dist-packages/sklearn/preprocessing/_label.py:133: DataConversionWarning: A column-vector y was passed when a 1d array was expected. Please change the shape of y to (n_samples, ), for example using ravel().\n",
            "  y = column_or_1d(y, warn=True)\n",
            "/usr/local/lib/python3.8/dist-packages/sklearn/preprocessing/_label.py:98: DataConversionWarning: A column-vector y was passed when a 1d array was expected. Please change the shape of y to (n_samples, ), for example using ravel().\n",
            "  y = column_or_1d(y, warn=True)\n",
            "/usr/local/lib/python3.8/dist-packages/sklearn/preprocessing/_label.py:133: DataConversionWarning: A column-vector y was passed when a 1d array was expected. Please change the shape of y to (n_samples, ), for example using ravel().\n",
            "  y = column_or_1d(y, warn=True)\n",
            "/usr/local/lib/python3.8/dist-packages/sklearn/preprocessing/_label.py:98: DataConversionWarning: A column-vector y was passed when a 1d array was expected. Please change the shape of y to (n_samples, ), for example using ravel().\n",
            "  y = column_or_1d(y, warn=True)\n",
            "/usr/local/lib/python3.8/dist-packages/sklearn/preprocessing/_label.py:133: DataConversionWarning: A column-vector y was passed when a 1d array was expected. Please change the shape of y to (n_samples, ), for example using ravel().\n",
            "  y = column_or_1d(y, warn=True)\n",
            "/usr/local/lib/python3.8/dist-packages/sklearn/preprocessing/_label.py:98: DataConversionWarning: A column-vector y was passed when a 1d array was expected. Please change the shape of y to (n_samples, ), for example using ravel().\n",
            "  y = column_or_1d(y, warn=True)\n",
            "/usr/local/lib/python3.8/dist-packages/sklearn/preprocessing/_label.py:133: DataConversionWarning: A column-vector y was passed when a 1d array was expected. Please change the shape of y to (n_samples, ), for example using ravel().\n",
            "  y = column_or_1d(y, warn=True)\n",
            "/usr/local/lib/python3.8/dist-packages/sklearn/preprocessing/_label.py:98: DataConversionWarning: A column-vector y was passed when a 1d array was expected. Please change the shape of y to (n_samples, ), for example using ravel().\n",
            "  y = column_or_1d(y, warn=True)\n",
            "/usr/local/lib/python3.8/dist-packages/sklearn/preprocessing/_label.py:133: DataConversionWarning: A column-vector y was passed when a 1d array was expected. Please change the shape of y to (n_samples, ), for example using ravel().\n",
            "  y = column_or_1d(y, warn=True)\n",
            "/usr/local/lib/python3.8/dist-packages/sklearn/preprocessing/_label.py:98: DataConversionWarning: A column-vector y was passed when a 1d array was expected. Please change the shape of y to (n_samples, ), for example using ravel().\n",
            "  y = column_or_1d(y, warn=True)\n",
            "/usr/local/lib/python3.8/dist-packages/sklearn/preprocessing/_label.py:133: DataConversionWarning: A column-vector y was passed when a 1d array was expected. Please change the shape of y to (n_samples, ), for example using ravel().\n",
            "  y = column_or_1d(y, warn=True)\n",
            "/usr/local/lib/python3.8/dist-packages/sklearn/preprocessing/_label.py:98: DataConversionWarning: A column-vector y was passed when a 1d array was expected. Please change the shape of y to (n_samples, ), for example using ravel().\n",
            "  y = column_or_1d(y, warn=True)\n",
            "/usr/local/lib/python3.8/dist-packages/sklearn/preprocessing/_label.py:133: DataConversionWarning: A column-vector y was passed when a 1d array was expected. Please change the shape of y to (n_samples, ), for example using ravel().\n",
            "  y = column_or_1d(y, warn=True)\n",
            "/usr/local/lib/python3.8/dist-packages/sklearn/preprocessing/_label.py:98: DataConversionWarning: A column-vector y was passed when a 1d array was expected. Please change the shape of y to (n_samples, ), for example using ravel().\n",
            "  y = column_or_1d(y, warn=True)\n",
            "/usr/local/lib/python3.8/dist-packages/sklearn/preprocessing/_label.py:133: DataConversionWarning: A column-vector y was passed when a 1d array was expected. Please change the shape of y to (n_samples, ), for example using ravel().\n",
            "  y = column_or_1d(y, warn=True)\n",
            "/usr/local/lib/python3.8/dist-packages/sklearn/preprocessing/_label.py:98: DataConversionWarning: A column-vector y was passed when a 1d array was expected. Please change the shape of y to (n_samples, ), for example using ravel().\n",
            "  y = column_or_1d(y, warn=True)\n",
            "/usr/local/lib/python3.8/dist-packages/sklearn/preprocessing/_label.py:133: DataConversionWarning: A column-vector y was passed when a 1d array was expected. Please change the shape of y to (n_samples, ), for example using ravel().\n",
            "  y = column_or_1d(y, warn=True)\n",
            "/usr/local/lib/python3.8/dist-packages/sklearn/preprocessing/_label.py:98: DataConversionWarning: A column-vector y was passed when a 1d array was expected. Please change the shape of y to (n_samples, ), for example using ravel().\n",
            "  y = column_or_1d(y, warn=True)\n",
            "/usr/local/lib/python3.8/dist-packages/sklearn/preprocessing/_label.py:133: DataConversionWarning: A column-vector y was passed when a 1d array was expected. Please change the shape of y to (n_samples, ), for example using ravel().\n",
            "  y = column_or_1d(y, warn=True)\n",
            "/usr/local/lib/python3.8/dist-packages/sklearn/preprocessing/_label.py:98: DataConversionWarning: A column-vector y was passed when a 1d array was expected. Please change the shape of y to (n_samples, ), for example using ravel().\n",
            "  y = column_or_1d(y, warn=True)\n",
            "/usr/local/lib/python3.8/dist-packages/sklearn/preprocessing/_label.py:133: DataConversionWarning: A column-vector y was passed when a 1d array was expected. Please change the shape of y to (n_samples, ), for example using ravel().\n",
            "  y = column_or_1d(y, warn=True)\n",
            "/usr/local/lib/python3.8/dist-packages/sklearn/preprocessing/_label.py:98: DataConversionWarning: A column-vector y was passed when a 1d array was expected. Please change the shape of y to (n_samples, ), for example using ravel().\n",
            "  y = column_or_1d(y, warn=True)\n",
            "/usr/local/lib/python3.8/dist-packages/sklearn/preprocessing/_label.py:133: DataConversionWarning: A column-vector y was passed when a 1d array was expected. Please change the shape of y to (n_samples, ), for example using ravel().\n",
            "  y = column_or_1d(y, warn=True)\n",
            "/usr/local/lib/python3.8/dist-packages/sklearn/preprocessing/_label.py:98: DataConversionWarning: A column-vector y was passed when a 1d array was expected. Please change the shape of y to (n_samples, ), for example using ravel().\n",
            "  y = column_or_1d(y, warn=True)\n",
            "/usr/local/lib/python3.8/dist-packages/sklearn/preprocessing/_label.py:133: DataConversionWarning: A column-vector y was passed when a 1d array was expected. Please change the shape of y to (n_samples, ), for example using ravel().\n",
            "  y = column_or_1d(y, warn=True)\n",
            "/usr/local/lib/python3.8/dist-packages/sklearn/preprocessing/_label.py:98: DataConversionWarning: A column-vector y was passed when a 1d array was expected. Please change the shape of y to (n_samples, ), for example using ravel().\n",
            "  y = column_or_1d(y, warn=True)\n",
            "/usr/local/lib/python3.8/dist-packages/sklearn/preprocessing/_label.py:133: DataConversionWarning: A column-vector y was passed when a 1d array was expected. Please change the shape of y to (n_samples, ), for example using ravel().\n",
            "  y = column_or_1d(y, warn=True)\n",
            "/usr/local/lib/python3.8/dist-packages/sklearn/preprocessing/_label.py:98: DataConversionWarning: A column-vector y was passed when a 1d array was expected. Please change the shape of y to (n_samples, ), for example using ravel().\n",
            "  y = column_or_1d(y, warn=True)\n",
            "/usr/local/lib/python3.8/dist-packages/sklearn/preprocessing/_label.py:133: DataConversionWarning: A column-vector y was passed when a 1d array was expected. Please change the shape of y to (n_samples, ), for example using ravel().\n",
            "  y = column_or_1d(y, warn=True)\n",
            "/usr/local/lib/python3.8/dist-packages/sklearn/preprocessing/_label.py:98: DataConversionWarning: A column-vector y was passed when a 1d array was expected. Please change the shape of y to (n_samples, ), for example using ravel().\n",
            "  y = column_or_1d(y, warn=True)\n",
            "/usr/local/lib/python3.8/dist-packages/sklearn/preprocessing/_label.py:133: DataConversionWarning: A column-vector y was passed when a 1d array was expected. Please change the shape of y to (n_samples, ), for example using ravel().\n",
            "  y = column_or_1d(y, warn=True)\n",
            "/usr/local/lib/python3.8/dist-packages/sklearn/preprocessing/_label.py:98: DataConversionWarning: A column-vector y was passed when a 1d array was expected. Please change the shape of y to (n_samples, ), for example using ravel().\n",
            "  y = column_or_1d(y, warn=True)\n",
            "/usr/local/lib/python3.8/dist-packages/sklearn/preprocessing/_label.py:133: DataConversionWarning: A column-vector y was passed when a 1d array was expected. Please change the shape of y to (n_samples, ), for example using ravel().\n",
            "  y = column_or_1d(y, warn=True)\n",
            "/usr/local/lib/python3.8/dist-packages/sklearn/preprocessing/_label.py:98: DataConversionWarning: A column-vector y was passed when a 1d array was expected. Please change the shape of y to (n_samples, ), for example using ravel().\n",
            "  y = column_or_1d(y, warn=True)\n",
            "/usr/local/lib/python3.8/dist-packages/sklearn/preprocessing/_label.py:133: DataConversionWarning: A column-vector y was passed when a 1d array was expected. Please change the shape of y to (n_samples, ), for example using ravel().\n",
            "  y = column_or_1d(y, warn=True)\n",
            "/usr/local/lib/python3.8/dist-packages/sklearn/preprocessing/_label.py:98: DataConversionWarning: A column-vector y was passed when a 1d array was expected. Please change the shape of y to (n_samples, ), for example using ravel().\n",
            "  y = column_or_1d(y, warn=True)\n",
            "/usr/local/lib/python3.8/dist-packages/sklearn/preprocessing/_label.py:133: DataConversionWarning: A column-vector y was passed when a 1d array was expected. Please change the shape of y to (n_samples, ), for example using ravel().\n",
            "  y = column_or_1d(y, warn=True)\n",
            "/usr/local/lib/python3.8/dist-packages/sklearn/preprocessing/_label.py:98: DataConversionWarning: A column-vector y was passed when a 1d array was expected. Please change the shape of y to (n_samples, ), for example using ravel().\n",
            "  y = column_or_1d(y, warn=True)\n",
            "/usr/local/lib/python3.8/dist-packages/sklearn/preprocessing/_label.py:133: DataConversionWarning: A column-vector y was passed when a 1d array was expected. Please change the shape of y to (n_samples, ), for example using ravel().\n",
            "  y = column_or_1d(y, warn=True)\n",
            "/usr/local/lib/python3.8/dist-packages/sklearn/preprocessing/_label.py:98: DataConversionWarning: A column-vector y was passed when a 1d array was expected. Please change the shape of y to (n_samples, ), for example using ravel().\n",
            "  y = column_or_1d(y, warn=True)\n",
            "/usr/local/lib/python3.8/dist-packages/sklearn/preprocessing/_label.py:133: DataConversionWarning: A column-vector y was passed when a 1d array was expected. Please change the shape of y to (n_samples, ), for example using ravel().\n",
            "  y = column_or_1d(y, warn=True)\n",
            "/usr/local/lib/python3.8/dist-packages/sklearn/preprocessing/_label.py:98: DataConversionWarning: A column-vector y was passed when a 1d array was expected. Please change the shape of y to (n_samples, ), for example using ravel().\n",
            "  y = column_or_1d(y, warn=True)\n",
            "/usr/local/lib/python3.8/dist-packages/sklearn/preprocessing/_label.py:133: DataConversionWarning: A column-vector y was passed when a 1d array was expected. Please change the shape of y to (n_samples, ), for example using ravel().\n",
            "  y = column_or_1d(y, warn=True)\n",
            "/usr/local/lib/python3.8/dist-packages/sklearn/preprocessing/_label.py:98: DataConversionWarning: A column-vector y was passed when a 1d array was expected. Please change the shape of y to (n_samples, ), for example using ravel().\n",
            "  y = column_or_1d(y, warn=True)\n",
            "/usr/local/lib/python3.8/dist-packages/sklearn/preprocessing/_label.py:133: DataConversionWarning: A column-vector y was passed when a 1d array was expected. Please change the shape of y to (n_samples, ), for example using ravel().\n",
            "  y = column_or_1d(y, warn=True)\n",
            "/usr/local/lib/python3.8/dist-packages/sklearn/preprocessing/_label.py:98: DataConversionWarning: A column-vector y was passed when a 1d array was expected. Please change the shape of y to (n_samples, ), for example using ravel().\n",
            "  y = column_or_1d(y, warn=True)\n",
            "/usr/local/lib/python3.8/dist-packages/sklearn/preprocessing/_label.py:133: DataConversionWarning: A column-vector y was passed when a 1d array was expected. Please change the shape of y to (n_samples, ), for example using ravel().\n",
            "  y = column_or_1d(y, warn=True)\n",
            "/usr/local/lib/python3.8/dist-packages/sklearn/preprocessing/_label.py:98: DataConversionWarning: A column-vector y was passed when a 1d array was expected. Please change the shape of y to (n_samples, ), for example using ravel().\n",
            "  y = column_or_1d(y, warn=True)\n",
            "/usr/local/lib/python3.8/dist-packages/sklearn/preprocessing/_label.py:133: DataConversionWarning: A column-vector y was passed when a 1d array was expected. Please change the shape of y to (n_samples, ), for example using ravel().\n",
            "  y = column_or_1d(y, warn=True)\n",
            "/usr/local/lib/python3.8/dist-packages/sklearn/preprocessing/_label.py:98: DataConversionWarning: A column-vector y was passed when a 1d array was expected. Please change the shape of y to (n_samples, ), for example using ravel().\n",
            "  y = column_or_1d(y, warn=True)\n",
            "/usr/local/lib/python3.8/dist-packages/sklearn/preprocessing/_label.py:133: DataConversionWarning: A column-vector y was passed when a 1d array was expected. Please change the shape of y to (n_samples, ), for example using ravel().\n",
            "  y = column_or_1d(y, warn=True)\n",
            "/usr/local/lib/python3.8/dist-packages/sklearn/preprocessing/_label.py:98: DataConversionWarning: A column-vector y was passed when a 1d array was expected. Please change the shape of y to (n_samples, ), for example using ravel().\n",
            "  y = column_or_1d(y, warn=True)\n",
            "/usr/local/lib/python3.8/dist-packages/sklearn/preprocessing/_label.py:133: DataConversionWarning: A column-vector y was passed when a 1d array was expected. Please change the shape of y to (n_samples, ), for example using ravel().\n",
            "  y = column_or_1d(y, warn=True)\n",
            "/usr/local/lib/python3.8/dist-packages/sklearn/preprocessing/_label.py:98: DataConversionWarning: A column-vector y was passed when a 1d array was expected. Please change the shape of y to (n_samples, ), for example using ravel().\n",
            "  y = column_or_1d(y, warn=True)\n",
            "/usr/local/lib/python3.8/dist-packages/sklearn/preprocessing/_label.py:133: DataConversionWarning: A column-vector y was passed when a 1d array was expected. Please change the shape of y to (n_samples, ), for example using ravel().\n",
            "  y = column_or_1d(y, warn=True)\n",
            "/usr/local/lib/python3.8/dist-packages/sklearn/preprocessing/_label.py:98: DataConversionWarning: A column-vector y was passed when a 1d array was expected. Please change the shape of y to (n_samples, ), for example using ravel().\n",
            "  y = column_or_1d(y, warn=True)\n",
            "/usr/local/lib/python3.8/dist-packages/sklearn/preprocessing/_label.py:133: DataConversionWarning: A column-vector y was passed when a 1d array was expected. Please change the shape of y to (n_samples, ), for example using ravel().\n",
            "  y = column_or_1d(y, warn=True)\n",
            "/usr/local/lib/python3.8/dist-packages/sklearn/preprocessing/_label.py:98: DataConversionWarning: A column-vector y was passed when a 1d array was expected. Please change the shape of y to (n_samples, ), for example using ravel().\n",
            "  y = column_or_1d(y, warn=True)\n",
            "/usr/local/lib/python3.8/dist-packages/sklearn/preprocessing/_label.py:133: DataConversionWarning: A column-vector y was passed when a 1d array was expected. Please change the shape of y to (n_samples, ), for example using ravel().\n",
            "  y = column_or_1d(y, warn=True)\n",
            "/usr/local/lib/python3.8/dist-packages/sklearn/preprocessing/_label.py:98: DataConversionWarning: A column-vector y was passed when a 1d array was expected. Please change the shape of y to (n_samples, ), for example using ravel().\n",
            "  y = column_or_1d(y, warn=True)\n",
            "/usr/local/lib/python3.8/dist-packages/sklearn/preprocessing/_label.py:133: DataConversionWarning: A column-vector y was passed when a 1d array was expected. Please change the shape of y to (n_samples, ), for example using ravel().\n",
            "  y = column_or_1d(y, warn=True)\n",
            "/usr/local/lib/python3.8/dist-packages/sklearn/preprocessing/_label.py:98: DataConversionWarning: A column-vector y was passed when a 1d array was expected. Please change the shape of y to (n_samples, ), for example using ravel().\n",
            "  y = column_or_1d(y, warn=True)\n",
            "/usr/local/lib/python3.8/dist-packages/sklearn/preprocessing/_label.py:133: DataConversionWarning: A column-vector y was passed when a 1d array was expected. Please change the shape of y to (n_samples, ), for example using ravel().\n",
            "  y = column_or_1d(y, warn=True)\n",
            "/usr/local/lib/python3.8/dist-packages/sklearn/preprocessing/_label.py:98: DataConversionWarning: A column-vector y was passed when a 1d array was expected. Please change the shape of y to (n_samples, ), for example using ravel().\n",
            "  y = column_or_1d(y, warn=True)\n",
            "/usr/local/lib/python3.8/dist-packages/sklearn/preprocessing/_label.py:133: DataConversionWarning: A column-vector y was passed when a 1d array was expected. Please change the shape of y to (n_samples, ), for example using ravel().\n",
            "  y = column_or_1d(y, warn=True)\n",
            "/usr/local/lib/python3.8/dist-packages/sklearn/preprocessing/_label.py:98: DataConversionWarning: A column-vector y was passed when a 1d array was expected. Please change the shape of y to (n_samples, ), for example using ravel().\n",
            "  y = column_or_1d(y, warn=True)\n",
            "/usr/local/lib/python3.8/dist-packages/sklearn/preprocessing/_label.py:133: DataConversionWarning: A column-vector y was passed when a 1d array was expected. Please change the shape of y to (n_samples, ), for example using ravel().\n",
            "  y = column_or_1d(y, warn=True)\n",
            "/usr/local/lib/python3.8/dist-packages/sklearn/preprocessing/_label.py:98: DataConversionWarning: A column-vector y was passed when a 1d array was expected. Please change the shape of y to (n_samples, ), for example using ravel().\n",
            "  y = column_or_1d(y, warn=True)\n",
            "/usr/local/lib/python3.8/dist-packages/sklearn/preprocessing/_label.py:133: DataConversionWarning: A column-vector y was passed when a 1d array was expected. Please change the shape of y to (n_samples, ), for example using ravel().\n",
            "  y = column_or_1d(y, warn=True)\n",
            "/usr/local/lib/python3.8/dist-packages/sklearn/preprocessing/_label.py:98: DataConversionWarning: A column-vector y was passed when a 1d array was expected. Please change the shape of y to (n_samples, ), for example using ravel().\n",
            "  y = column_or_1d(y, warn=True)\n",
            "/usr/local/lib/python3.8/dist-packages/sklearn/preprocessing/_label.py:133: DataConversionWarning: A column-vector y was passed when a 1d array was expected. Please change the shape of y to (n_samples, ), for example using ravel().\n",
            "  y = column_or_1d(y, warn=True)\n",
            "/usr/local/lib/python3.8/dist-packages/sklearn/preprocessing/_label.py:98: DataConversionWarning: A column-vector y was passed when a 1d array was expected. Please change the shape of y to (n_samples, ), for example using ravel().\n",
            "  y = column_or_1d(y, warn=True)\n",
            "/usr/local/lib/python3.8/dist-packages/sklearn/preprocessing/_label.py:133: DataConversionWarning: A column-vector y was passed when a 1d array was expected. Please change the shape of y to (n_samples, ), for example using ravel().\n",
            "  y = column_or_1d(y, warn=True)\n",
            "/usr/local/lib/python3.8/dist-packages/sklearn/preprocessing/_label.py:98: DataConversionWarning: A column-vector y was passed when a 1d array was expected. Please change the shape of y to (n_samples, ), for example using ravel().\n",
            "  y = column_or_1d(y, warn=True)\n",
            "/usr/local/lib/python3.8/dist-packages/sklearn/preprocessing/_label.py:133: DataConversionWarning: A column-vector y was passed when a 1d array was expected. Please change the shape of y to (n_samples, ), for example using ravel().\n",
            "  y = column_or_1d(y, warn=True)\n",
            "/usr/local/lib/python3.8/dist-packages/sklearn/preprocessing/_label.py:98: DataConversionWarning: A column-vector y was passed when a 1d array was expected. Please change the shape of y to (n_samples, ), for example using ravel().\n",
            "  y = column_or_1d(y, warn=True)\n",
            "/usr/local/lib/python3.8/dist-packages/sklearn/preprocessing/_label.py:133: DataConversionWarning: A column-vector y was passed when a 1d array was expected. Please change the shape of y to (n_samples, ), for example using ravel().\n",
            "  y = column_or_1d(y, warn=True)\n",
            "/usr/local/lib/python3.8/dist-packages/sklearn/preprocessing/_label.py:98: DataConversionWarning: A column-vector y was passed when a 1d array was expected. Please change the shape of y to (n_samples, ), for example using ravel().\n",
            "  y = column_or_1d(y, warn=True)\n",
            "/usr/local/lib/python3.8/dist-packages/sklearn/preprocessing/_label.py:133: DataConversionWarning: A column-vector y was passed when a 1d array was expected. Please change the shape of y to (n_samples, ), for example using ravel().\n",
            "  y = column_or_1d(y, warn=True)\n"
          ]
        }
      ]
    },
    {
      "cell_type": "code",
      "source": [
        "# 빠른 재현성을 위한 csv 파일을 구글드라이브에 저장 후 로드\n",
        "\n",
        "# Threshold_Metric_curve = pd.read_csv(\"/content/drive/MyDrive/threshold_metric.csv\", index_col = False)\n",
        "print(max(Threshold_Metric_curve[\"F_Beta_score\"]), max(Threshold_Metric_curve[\"Capital_Expected_Loss\"]), max(Threshold_Metric_curve[\"Insurance_Expected_Loss\"]))"
      ],
      "metadata": {
        "id": "UeQkMzAKV3cR",
        "colab": {
          "base_uri": "https://localhost:8080/"
        },
        "outputId": "2179e838-e32c-4fc0-fc95-5b84157e0fa5"
      },
      "execution_count": 134,
      "outputs": [
        {
          "output_type": "stream",
          "name": "stdout",
          "text": [
            "0.8914663185490445 -284774.0 -336892.0\n"
          ]
        }
      ]
    },
    {
      "cell_type": "code",
      "source": [
        "# Default threshold인 0.5일 때 성능평가지표\n",
        "print(Threshold_Metric_curve[Threshold_Metric_curve[\"Threshold\"] == 0.5])\n",
        "\n",
        "# F-0.75점수가 최대가 되는 임계값 = 0.55\n",
        "print(Threshold_Metric_curve[Threshold_Metric_curve[\"F_Beta_score\"] == max(Threshold_Metric_curve[\"F_Beta_score\"])])\n",
        "\n",
        "# DB캐피탈의 오분류비용이 최소가 되는 임계값 = 0.55\n",
        "print(Threshold_Metric_curve[Threshold_Metric_curve[\"Capital_Expected_Loss\"] == max(Threshold_Metric_curve[\"Capital_Expected_Loss\"])])\n",
        "\n",
        "# DB손해보험의 오분류비용이 최소가 되는 임계값 = 0.56\n",
        "print(Threshold_Metric_curve[Threshold_Metric_curve[\"Insurance_Expected_Loss\"] == max(Threshold_Metric_curve[\"Insurance_Expected_Loss\"])])"
      ],
      "metadata": {
        "colab": {
          "base_uri": "https://localhost:8080/"
        },
        "id": "ENJWc1g-XwPS",
        "outputId": "b8290ab1-0fd8-45d3-bf6a-093e0eb5d3e5"
      },
      "execution_count": 135,
      "outputs": [
        {
          "output_type": "stream",
          "name": "stdout",
          "text": [
            "    Threshold  F_Beta_score  Capital_Expected_Loss  Insurance_Expected_Loss\n",
            "49        0.5      0.890113              -286734.0                -343959.0\n",
            "    Threshold  F_Beta_score  Capital_Expected_Loss  Insurance_Expected_Loss\n",
            "54       0.55      0.891466              -285086.0                -336967.0\n",
            "    Threshold  F_Beta_score  Capital_Expected_Loss  Insurance_Expected_Loss\n",
            "53       0.54      0.891448              -284774.0                -337617.0\n",
            "    Threshold  F_Beta_score  Capital_Expected_Loss  Insurance_Expected_Loss\n",
            "55       0.56      0.891297              -285836.0                -336892.0\n"
          ]
        }
      ]
    },
    {
      "cell_type": "code",
      "source": [
        "plt.figure(figsize = (10, 8))\n",
        "plt.plot(Threshold_Metric_curve[\"F_Beta_score\"], Threshold_Metric_curve[\"Capital_Expected_Loss\"], marker = \"o\", markersize = 3)\n",
        "plt.plot(Threshold_Metric_curve[\"F_Beta_score\"], Threshold_Metric_curve[\"Insurance_Expected_Loss\"], marker = \"o\", markersize = 3)\n",
        "plt.xlabel(\"F-0.75 Score\")\n",
        "plt.ylabel(\"Expected Loss\")\n",
        "plt.legend([\"DBCapital\", \"DBInsurance\"])\n",
        "plt.title(\"DB Financial Corporation's ML Performance Measure with threshold\")\n",
        "plt.grid()\n",
        "plt.show()"
      ],
      "metadata": {
        "colab": {
          "base_uri": "https://localhost:8080/",
          "height": 513
        },
        "id": "v6e4sd9-V-2a",
        "outputId": "137adfd5-0062-412d-d529-377facdf1a64"
      },
      "execution_count": 136,
      "outputs": [
        {
          "output_type": "display_data",
          "data": {
            "text/plain": [
              "<Figure size 720x576 with 1 Axes>"
            ],
            "image/png": "[encoded data removed]"
          },
          "metadata": {
            "needs_background": "light"
          }
        }
      ]
    },
    {
      "cell_type": "code",
      "source": [
        "# f, axes = plt.subplots(ncols = 2, figsize = (12, 8))\n",
        "\n",
        "plt.figure(figsize = (8, 6))\n",
        "plt.plot(Threshold_Metric_curve.iloc[29:60, :][\"Threshold\"], Threshold_Metric_curve.iloc[29:60, :][\"Capital_Expected_Loss\"], marker = \"o\", markersize = 3)\n",
        "plt.plot(Threshold_Metric_curve.iloc[29:60, :][\"Threshold\"], Threshold_Metric_curve.iloc[29:60, :][\"Insurance_Expected_Loss\"], marker = \"o\", markersize = 3)\n",
        "plt.xlabel(\"Threshold\")\n",
        "plt.ylabel(\"Performance Measure\")\n",
        "plt.legend([\"DBCapital's Loss\", \"DBInsurance's Loss\"])\n",
        "plt.title(\"DB Financial Corporation's ML Expected Loss with threshold\")\n",
        "plt.grid()\n",
        "plt.show()\n",
        "\n",
        "plt.figure(figsize = (8, 6))\n",
        "plt.plot(Threshold_Metric_curve.iloc[29:60, :][\"Threshold\"], Threshold_Metric_curve.iloc[29:60, :][\"F_Beta_score\"], color = \"green\", marker = \"o\", markersize = 3)\n",
        "plt.xlabel(\"Threshold\")\n",
        "plt.ylabel(\"Performance Measure\")\n",
        "plt.title(\"DB Financial Corporation's ML F-0.75 score with threshold\")\n",
        "plt.grid()\n",
        "plt.show()"
      ],
      "metadata": {
        "colab": {
          "base_uri": "https://localhost:8080/",
          "height": 791
        },
        "id": "gsP5t7X2W1Jf",
        "outputId": "c54bdc86-bfc1-474c-9b50-567ca6a7f9c3"
      },
      "execution_count": 137,
      "outputs": [
        {
          "output_type": "display_data",
          "data": {
            "text/plain": [
              "<Figure size 576x432 with 1 Axes>"
            ],
            "image/png": "[encoded data removed]"
          },
          "metadata": {
            "needs_background": "light"
          }
        },
        {
          "output_type": "display_data",
          "data": {
            "text/plain": [
              "<Figure size 576x432 with 1 Axes>"
            ],
            "image/png": "[encoded data removed]"
          },
          "metadata": {
            "needs_background": "light"
          }
        }
      ]
    },
    {
      "cell_type": "code",
      "source": [
        "# 기술지표와 사업지표에 따른 최종 비용곡선 시각화\n",
        "\n",
        "fig, ax1 = plt.subplots()\n",
        "color_1 = 'tab:blue'\n",
        "ax1.set_title('Expected_Loss and F-Beta in Insurance')\n",
        "ax1.set_xlabel('Threshold')\n",
        "ax1.set_ylabel(\"Expected_Loss(blue)\", color = color_1)\n",
        "ax1.plot(Threshold_Metric_curve.Threshold, Threshold_Metric_curve.Insurance_Expected_Loss, marker = 's', color = color_1)\n",
        "ax1.tick_params(axis='y', labelcolor = color_1)\n",
        "\n",
        "ax2 = ax1.twinx()\n",
        "color_2 = \"tab:red\"\n",
        "ax2.set_ylabel(\"F_Beta (red)\", color = color_2)\n",
        "ax2.plot(Threshold_Metric_curve.Threshold, Threshold_Metric_curve.F_Beta_score, marker = 'o', color = color_2)\n",
        "ax2.tick_params(axis = 'y', labelcolor = color_2)\n",
        "\n",
        "fig.tight_layout()\n",
        "plt.show()"
      ],
      "metadata": {
        "colab": {
          "base_uri": "https://localhost:8080/",
          "height": 297
        },
        "id": "Msx6tx6u5ANK",
        "outputId": "c952329d-6c67-4fec-aca3-b95f2eef4289"
      },
      "execution_count": 138,
      "outputs": [
        {
          "output_type": "display_data",
          "data": {
            "text/plain": [
              "<Figure size 432x288 with 2 Axes>"
            ],
            "image/png": "[encoded data removed]"
          },
          "metadata": {
            "needs_background": "light"
          }
        }
      ]
    },
    {
      "cell_type": "markdown",
      "source": [
        "#### 7) 원본 검증용 데이터에서 신용대출채권 연체 또는 손상이 예측된 위험고객(TP) 데이터 분할"
      ],
      "metadata": {
        "id": "Fjz_MyrtoaT6"
      }
    },
    {
      "cell_type": "code",
      "source": [
        "def LightGradientBoostingTreeRisk(X: pd.DataFrame, \n",
        "                                  y: pd.Series, \n",
        "                                  boostMethod: object,\n",
        "                                  threshold: float):\n",
        "  # [boosting_type] \"gbdt(xgboost의 gbtree)\", \"dart(xgboost)\", \"goss\", \"rf\"\n",
        "  \n",
        "  np.random.seed(2023)\n",
        "  X_train, X_test, y_train, y_test = train_test_split(X,\n",
        "                                                      y,\n",
        "                                                      stratify = y,\n",
        "                                                      test_size = 0.5,\n",
        "                                                      random_state = 2023)\n",
        "  # X_test.sort_index(ascending = True, inplace = True)\n",
        "  X_test.reset_index(drop = True, inplace = True)\n",
        "    # [특성 벡터의 검증용 데이터 셋 행번호(인덱스) 초기화]\n",
        "  \n",
        "  lgbTree = LGBMClassifier(n_estimators = 100,\n",
        "                           max_depth = 23,\n",
        "                           boosting_type = boostMethod,\n",
        "                           learning_rate = 0.5,\n",
        "                           random_state = 2023)\n",
        "  lgbTree.fit(X_train, y_train)\n",
        "  \n",
        "  # y_pred = lgbTree.predict(X_test) 학습시킨 모델에 X_test data 적용하여 예측\n",
        "  y_pred_test = pd.DataFrame(lgbTree.predict_proba(X_test))[1]\n",
        "  y_pred = y_pred_test.copy()\n",
        "  y_pred[y_pred > threshold] = 1\n",
        "  y_pred[y_pred <= threshold] = 0\n",
        "\n",
        "  y_pred = np.array(y_pred)\n",
        "  y_test = np.array(y_test)\n",
        "  \n",
        "  # 신용 리스크 예측 고객 인덱스 번호를 리스트에 저장\n",
        "  creditRisk_index: List = []\n",
        "  stableCredit_index: List = []\n",
        "\n",
        "  for i in range(len(y_test)):\n",
        "    if y_test[i] == y_pred[i] == 1:\n",
        "      # [TP]\n",
        "      creditRisk_index.append(i)\n",
        "    elif y_test[i] == y_pred[i] == 0:\n",
        "      # [TN]\n",
        "      stableCredit_index.append(i)\n",
        "    else:\n",
        "      continue\n",
        "  \n",
        "  # 신용 리스크 예측 고객, 우량 또는 중신용고객의 데이터 반환\n",
        "  creditRisk_client = X_test.iloc[creditRisk_index, :]\n",
        "\n",
        "  # total_index = list(range(0, len(y_test), 1))\n",
        "  # stableCredit_index = np.setdiff1d(total_index, creditRisk_index)\n",
        "    # [전체 인덱스 - 리스크 인덱스 = 차집합 인덱스] IndexError: positional indexers are out-of-bounds\n",
        "  stableCredit_client = X_test.iloc[stableCredit_index, :]\n",
        "  \n",
        "  # X_test.drop(creditRisk_index, axis = 0, inplace = True)\n",
        "    # [이미 삭제된 컬럼인데 다시 삭제하려고 해서 KeyError 발생] KeyError: '[1, 7, 22 ... 287769, 287774, 287781] not found in axis'\n",
        "\n",
        "  '''\n",
        "    if mask.any():\n",
        "       if errors != \"ignore\":\n",
        "          raise KeyError(f\"{labels[mask]} not found in axis\")\n",
        "          indexer = indexer[~mask]\n",
        "    return self.delete(indexer)\n",
        "  '''\n",
        "\n",
        "  return creditRisk_client, stableCredit_client"
      ],
      "metadata": {
        "id": "BsEynJ2blf73"
      },
      "execution_count": 118,
      "outputs": []
    },
    {
      "cell_type": "code",
      "source": [
        "# 각 금융회사의 위험 고객 인덱스 번호를 리스트에 저장\n",
        "\n",
        "creditRisk_client, stableCredit_client = LightGradientBoostingTreeRisk(\n",
        "    X = X_smote.drop([\"CODE_GENDER_M\", \"CODE_GENDER_F\"], axis = 1), \n",
        "    y = y_smote, boostMethod = \"gbdt\", \n",
        "    threshold = 0.55)"
      ],
      "metadata": {
        "id": "O4CoOQ2hnwxp",
        "colab": {
          "base_uri": "https://localhost:8080/"
        },
        "outputId": "10109930-1663-4add-fd2a-e4d933d006c1"
      },
      "execution_count": 119,
      "outputs": [
        {
          "output_type": "stream",
          "name": "stderr",
          "text": [
            "/usr/local/lib/python3.8/dist-packages/sklearn/preprocessing/_label.py:98: DataConversionWarning: A column-vector y was passed when a 1d array was expected. Please change the shape of y to (n_samples, ), for example using ravel().\n",
            "  y = column_or_1d(y, warn=True)\n",
            "/usr/local/lib/python3.8/dist-packages/sklearn/preprocessing/_label.py:133: DataConversionWarning: A column-vector y was passed when a 1d array was expected. Please change the shape of y to (n_samples, ), for example using ravel().\n",
            "  y = column_or_1d(y, warn=True)\n"
          ]
        }
      ]
    },
    {
      "cell_type": "code",
      "source": [
        "# 빠른 재현성을 위한 csv 파일을 구글드라이브에 저장 후 로드\n",
        "# NewImpact > 데이터 > classification_credit_client 파일에 저장\n",
        "\n",
        "creditRisk_client.to_csv(\"/content/drive/MyDrive/creditRisk_client.csv\", index = False)\n",
        "stableCredit_client.to_csv(\"/content/drive/MyDrive/stableCredit_client.csv\", index = False)"
      ],
      "metadata": {
        "id": "YjEUdOQfvTm5"
      },
      "execution_count": 120,
      "outputs": []
    },
    {
      "cell_type": "code",
      "source": [
        "creditRisk_client.index"
      ],
      "metadata": {
        "id": "pcfQWlypc1CN",
        "colab": {
          "base_uri": "https://localhost:8080/"
        },
        "outputId": "e4fa4199-69df-44d3-dd16-d62071e43b23"
      },
      "execution_count": 121,
      "outputs": [
        {
          "output_type": "execute_result",
          "data": {
            "text/plain": [
              "Int64Index([     0,      1,      3,      4,      7,     10,     11,     12,\n",
              "                15,     18,\n",
              "            ...\n",
              "            287759, 287760, 287761, 287766, 287768, 287769, 287774, 287779,\n",
              "            287780, 287781],\n",
              "           dtype='int64', length=119911)"
            ]
          },
          "metadata": {},
          "execution_count": 121
        }
      ]
    },
    {
      "cell_type": "code",
      "source": [
        "stableCredit_client.index"
      ],
      "metadata": {
        "colab": {
          "base_uri": "https://localhost:8080/"
        },
        "id": "dkeeGJnu0efX",
        "outputId": "8b2ba80c-04e8-4bdf-d5eb-4f8efd7ebf74"
      },
      "execution_count": 122,
      "outputs": [
        {
          "output_type": "execute_result",
          "data": {
            "text/plain": [
              "Int64Index([     2,      5,      6,      8,      9,     14,     16,     17,\n",
              "                19,     20,\n",
              "            ...\n",
              "            287764, 287765, 287770, 287772, 287773, 287775, 287776, 287777,\n",
              "            287778, 287782],\n",
              "           dtype='int64', length=134404)"
            ]
          },
          "metadata": {},
          "execution_count": 122
        }
      ]
    },
    {
      "cell_type": "code",
      "source": [],
      "metadata": {
        "id": "KUqDjvTWtiQD"
      },
      "execution_count": null,
      "outputs": []
    },
    {
      "cell_type": "markdown",
      "source": [
        "#### 8) 랜덤포레스트의 분류확률의 결정 임계값 조정"
      ],
      "metadata": {
        "id": "olPZr0QqJcCe"
      }
    },
    {
      "cell_type": "code",
      "source": [
        "def RandomForestDecisionThreshold(X: pd.DataFrame, \n",
        "                                  y: np.array, \n",
        "                                  threshold: float):\n",
        "  \n",
        "  np.random.seed(2023)\n",
        "  X_train, X_test, y_train, y_test = train_test_split(X,\n",
        "                                                      y,\n",
        "                                                      stratify = y,\n",
        "                                                      test_size = 0.5,\n",
        "                                                      random_state = 2023)\n",
        "  \n",
        "  RandomForest = RandomForestClassifier(random_state = 2023,\n",
        "                                        max_depth = 23,\n",
        "                                        criterion = \"gini\",\n",
        "                                        max_features = \"sqrt\",\n",
        "                                        max_leaf_nodes = None,\n",
        "                                        n_estimators = 100)\n",
        "  RandomForestClassifier()\n",
        "  RandomForest.fit(X_train, y_train)\n",
        "  y_pred_test = pd.DataFrame(RandomForest.predict_proba(X_test))[1]\n",
        "  y_pred = y_pred_test.copy()\n",
        "  y_pred[y_pred > threshold] = 1\n",
        "  y_pred[y_pred <= threshold] = 0\n",
        "\n",
        "  y_pred = np.array(y_pred)\n",
        "  y_test = np.array(y_test)\n",
        "  \n",
        "  # 혼동행렬(채점표) 작성\n",
        "  TP = 0\n",
        "  FN = 0\n",
        "  FP = 0\n",
        "  TN = 0\n",
        "\n",
        "  for i in range(len(y_pred)):\n",
        "    if y_test[i] == y_pred[i] == 1:\n",
        "      TP += 1\n",
        "    if y_test[i] == 1 and y_pred[i] == 0:\n",
        "      FN += 1\n",
        "    if y_test[i] == 0 and y_pred[i] == 1:\n",
        "      FP += 1\n",
        "    if y_test[i] == 0 and y_pred[i] == 0:\n",
        "      TN += 1\n",
        "\n",
        "  confusionMatrix = np.array([[TP, FN], [FP, TN]]).reshape(2, 2)\n",
        "\n",
        "  # F-0.75 점수(Beta = 0.75) 계산\n",
        "  Precision = TP / (TP + FP)\n",
        "  Recall = TP / (TP + FN)\n",
        "  F_Beta = ((1+(0.75**2))*Precision*Recall) / ((0.75**2)*Precision + Recall)\n",
        "  \n",
        "  # 분류 가중치 테이블\n",
        "  DBCapital = [2735, 23872]\n",
        "  DBInsurance = [6981, 488399]\n",
        "  DBCapital = pd.Series(DBCapital)\n",
        "  DBInsurance = pd.Series(DBInsurance)\n",
        "  DBWeights = pd.DataFrame({\n",
        "      \"Capital\" : DBCapital,\n",
        "      \"Insurance\" : DBInsurance\n",
        "  }).T\n",
        "  DBWeights.columns = [\"FN\", \"FP\"]\n",
        "\n",
        "  # 분류 가중치 단위 조정 : 자연로그 변환\n",
        "  DBWeights_loge = np.log(DBWeights)\n",
        "  classifyWeights = round(DBWeights_loge, 0)\n",
        "  classifyWeights = -(classifyWeights)\n",
        "    # [FN, FP 음수로 치환]\n",
        "  classifyWeights.at[2,:] = confusionMatrix[[0,1], [1,0]]\n",
        "    # [confusionMatrix[[0,1], [1,0]] = Prediction(FN, FP의 개수)\n",
        "  classifyWeights.index = [\"Capital\", \"Insurance\", \"Prediction\"]\n",
        "  classifyWeights = classifyWeights.transpose()\n",
        "  classifyWeights[\"CapitalExpectedLoss\"] = classifyWeights[\"Capital\"] * classifyWeights[\"Prediction\"]\n",
        "  classifyWeights[\"InsuranceExpectedLoss\"] = classifyWeights[\"Insurance\"] * classifyWeights[\"Prediction\"]\n",
        "    # 행렬곱을 numpy module없이 구현하는 방법 : [[sum(x*Prediction) for x in i] for i in zip(*listcapital, *listinsurance)]\n",
        "  \n",
        "  return F_Beta, sum(classifyWeights[\"CapitalExpectedLoss\"]), sum(classifyWeights[\"InsuranceExpectedLoss\"])"
      ],
      "metadata": {
        "id": "JYPF5DxEI1ZZ"
      },
      "execution_count": 139,
      "outputs": []
    },
    {
      "cell_type": "code",
      "source": [
        "# 분류 임계값(class probability, decision threshold, cutoff)에 대하여 0.01:0.99까지 0.01씩 증가하는 수열(리스트 내 99개의 원소) 설정\n",
        "\n",
        "contain: List = []\n",
        "float: float = 0.01\n",
        "\n",
        "while float:\n",
        "  if float < 1:\n",
        "    contain.append(float)\n",
        "    float = float + 0.01\n",
        "    float = round(float, 3)\n",
        "  else:\n",
        "    # float = 1\n",
        "    break\n",
        "\n",
        "# 길이 99의 빈 벡터(리스트) 생성 \n",
        "vector = list(np.zeros(shape = 99))\n",
        "\n",
        "# 임계값에 따른 성능평가지표(가중치 조정한 정밀도와 재현율의 조화평균과 각 금융회사의 오분류비용(예측 기대손실)) 데이터 프레임 생성\n",
        "RF_Threshold_Metric_curve = pd.DataFrame(data = np.array([contain, vector, vector, vector]).reshape(4, 99).T,\n",
        "                                      columns = [\"Threshold\", \"F_Beta_score\", \"Capital_Expected_Loss\", \"Insurance_Expected_Loss\"])\n",
        "RF_Threshold_Metric_curve"
      ],
      "metadata": {
        "colab": {
          "base_uri": "https://localhost:8080/",
          "height": 423
        },
        "outputId": "311a36c2-ac84-42bd-b2fc-e47dbf88b935",
        "id": "CBUKsZb-I1Zg"
      },
      "execution_count": 140,
      "outputs": [
        {
          "output_type": "execute_result",
          "data": {
            "text/plain": [
              "    Threshold  F_Beta_score  Capital_Expected_Loss  Insurance_Expected_Loss\n",
              "0        0.01           0.0                    0.0                      0.0\n",
              "1        0.02           0.0                    0.0                      0.0\n",
              "2        0.03           0.0                    0.0                      0.0\n",
              "3        0.04           0.0                    0.0                      0.0\n",
              "4        0.05           0.0                    0.0                      0.0\n",
              "..        ...           ...                    ...                      ...\n",
              "94       0.95           0.0                    0.0                      0.0\n",
              "95       0.96           0.0                    0.0                      0.0\n",
              "96       0.97           0.0                    0.0                      0.0\n",
              "97       0.98           0.0                    0.0                      0.0\n",
              "98       0.99           0.0                    0.0                      0.0\n",
              "\n",
              "[99 rows x 4 columns]"
            ],
            "text/html": [
              "\n",
              "  <div id=\"df-9bb78ff7-daf1-4b98-976b-b5b7681e1329\">\n",
              "    <div class=\"colab-df-container\">\n",
              "      <div>\n",
              "<style scoped>\n",
              "    .dataframe tbody tr th:only-of-type {\n",
              "        vertical-align: middle;\n",
              "    }\n",
              "\n",
              "    .dataframe tbody tr th {\n",
              "        vertical-align: top;\n",
              "    }\n",
              "\n",
              "    .dataframe thead th {\n",
              "        text-align: right;\n",
              "    }\n",
              "</style>\n",
              "<table border=\"1\" class=\"dataframe\">\n",
              "  <thead>\n",
              "    <tr style=\"text-align: right;\">\n",
              "      <th></th>\n",
              "      <th>Threshold</th>\n",
              "      <th>F_Beta_score</th>\n",
              "      <th>Capital_Expected_Loss</th>\n",
              "      <th>Insurance_Expected_Loss</th>\n",
              "    </tr>\n",
              "  </thead>\n",
              "  <tbody>\n",
              "    <tr>\n",
              "      <th>0</th>\n",
              "      <td>0.01</td>\n",
              "      <td>0.0</td>\n",
              "      <td>0.0</td>\n",
              "      <td>0.0</td>\n",
              "    </tr>\n",
              "    <tr>\n",
              "      <th>1</th>\n",
              "      <td>0.02</td>\n",
              "      <td>0.0</td>\n",
              "      <td>0.0</td>\n",
              "      <td>0.0</td>\n",
              "    </tr>\n",
              "    <tr>\n",
              "      <th>2</th>\n",
              "      <td>0.03</td>\n",
              "      <td>0.0</td>\n",
              "      <td>0.0</td>\n",
              "      <td>0.0</td>\n",
              "    </tr>\n",
              "    <tr>\n",
              "      <th>3</th>\n",
              "      <td>0.04</td>\n",
              "      <td>0.0</td>\n",
              "      <td>0.0</td>\n",
              "      <td>0.0</td>\n",
              "    </tr>\n",
              "    <tr>\n",
              "      <th>4</th>\n",
              "      <td>0.05</td>\n",
              "      <td>0.0</td>\n",
              "      <td>0.0</td>\n",
              "      <td>0.0</td>\n",
              "    </tr>\n",
              "    <tr>\n",
              "      <th>...</th>\n",
              "      <td>...</td>\n",
              "      <td>...</td>\n",
              "      <td>...</td>\n",
              "      <td>...</td>\n",
              "    </tr>\n",
              "    <tr>\n",
              "      <th>94</th>\n",
              "      <td>0.95</td>\n",
              "      <td>0.0</td>\n",
              "      <td>0.0</td>\n",
              "      <td>0.0</td>\n",
              "    </tr>\n",
              "    <tr>\n",
              "      <th>95</th>\n",
              "      <td>0.96</td>\n",
              "      <td>0.0</td>\n",
              "      <td>0.0</td>\n",
              "      <td>0.0</td>\n",
              "    </tr>\n",
              "    <tr>\n",
              "      <th>96</th>\n",
              "      <td>0.97</td>\n",
              "      <td>0.0</td>\n",
              "      <td>0.0</td>\n",
              "      <td>0.0</td>\n",
              "    </tr>\n",
              "    <tr>\n",
              "      <th>97</th>\n",
              "      <td>0.98</td>\n",
              "      <td>0.0</td>\n",
              "      <td>0.0</td>\n",
              "      <td>0.0</td>\n",
              "    </tr>\n",
              "    <tr>\n",
              "      <th>98</th>\n",
              "      <td>0.99</td>\n",
              "      <td>0.0</td>\n",
              "      <td>0.0</td>\n",
              "      <td>0.0</td>\n",
              "    </tr>\n",
              "  </tbody>\n",
              "</table>\n",
              "<p>99 rows × 4 columns</p>\n",
              "</div>\n",
              "      <button class=\"colab-df-convert\" onclick=\"convertToInteractive('df-9bb78ff7-daf1-4b98-976b-b5b7681e1329')\"\n",
              "              title=\"Convert this dataframe to an interactive table.\"\n",
              "              style=\"display:none;\">\n",
              "        \n",
              "  <svg xmlns=\"http://www.w3.org/2000/svg\" height=\"24px\"viewBox=\"0 0 24 24\"\n",
              "       width=\"24px\">\n",
              "    <path d=\"M0 0h24v24H0V0z\" fill=\"none\"/>\n",
              "    <path d=\"M18.56 5.44l.94 2.06.94-2.06 2.06-.94-2.06-.94-.94-2.06-.94 2.06-2.06.94zm-11 1L8.5 8.5l.94-2.06 2.06-.94-2.06-.94L8.5 2.5l-.94 2.06-2.06.94zm10 10l.94 2.06.94-2.06 2.06-.94-2.06-.94-.94-2.06-.94 2.06-2.06.94z\"/><path d=\"M17.41 7.96l-1.37-1.37c-.4-.4-.92-.59-1.43-.59-.52 0-1.04.2-1.43.59L10.3 9.45l-7.72 7.72c-.78.78-.78 2.05 0 2.83L4 21.41c.39.39.9.59 1.41.59.51 0 1.02-.2 1.41-.59l7.78-7.78 2.81-2.81c.8-.78.8-2.07 0-2.86zM5.41 20L4 18.59l7.72-7.72 1.47 1.35L5.41 20z\"/>\n",
              "  </svg>\n",
              "      </button>\n",
              "      \n",
              "  <style>\n",
              "    .colab-df-container {\n",
              "      display:flex;\n",
              "      flex-wrap:wrap;\n",
              "      gap: 12px;\n",
              "    }\n",
              "\n",
              "    .colab-df-convert {\n",
              "      background-color: #E8F0FE;\n",
              "      border: none;\n",
              "      border-radius: 50%;\n",
              "      cursor: pointer;\n",
              "      display: none;\n",
              "      fill: #1967D2;\n",
              "      height: 32px;\n",
              "      padding: 0 0 0 0;\n",
              "      width: 32px;\n",
              "    }\n",
              "\n",
              "    .colab-df-convert:hover {\n",
              "      background-color: #E2EBFA;\n",
              "      box-shadow: 0px 1px 2px rgba(60, 64, 67, 0.3), 0px 1px 3px 1px rgba(60, 64, 67, 0.15);\n",
              "      fill: #174EA6;\n",
              "    }\n",
              "\n",
              "    [theme=dark] .colab-df-convert {\n",
              "      background-color: #3B4455;\n",
              "      fill: #D2E3FC;\n",
              "    }\n",
              "\n",
              "    [theme=dark] .colab-df-convert:hover {\n",
              "      background-color: #434B5C;\n",
              "      box-shadow: 0px 1px 3px 1px rgba(0, 0, 0, 0.15);\n",
              "      filter: drop-shadow(0px 1px 2px rgba(0, 0, 0, 0.3));\n",
              "      fill: #FFFFFF;\n",
              "    }\n",
              "  </style>\n",
              "\n",
              "      <script>\n",
              "        const buttonEl =\n",
              "          document.querySelector('#df-9bb78ff7-daf1-4b98-976b-b5b7681e1329 button.colab-df-convert');\n",
              "        buttonEl.style.display =\n",
              "          google.colab.kernel.accessAllowed ? 'block' : 'none';\n",
              "\n",
              "        async function convertToInteractive(key) {\n",
              "          const element = document.querySelector('#df-9bb78ff7-daf1-4b98-976b-b5b7681e1329');\n",
              "          const dataTable =\n",
              "            await google.colab.kernel.invokeFunction('convertToInteractive',\n",
              "                                                     [key], {});\n",
              "          if (!dataTable) return;\n",
              "\n",
              "          const docLinkHtml = 'Like what you see? Visit the ' +\n",
              "            '<a target=\"_blank\" href=https://colab.research.google.com/notebooks/data_table.ipynb>data table notebook</a>'\n",
              "            + ' to learn more about interactive tables.';\n",
              "          element.innerHTML = '';\n",
              "          dataTable['output_type'] = 'display_data';\n",
              "          await google.colab.output.renderOutput(dataTable, element);\n",
              "          const docLink = document.createElement('div');\n",
              "          docLink.innerHTML = docLinkHtml;\n",
              "          element.appendChild(docLink);\n",
              "        }\n",
              "      </script>\n",
              "    </div>\n",
              "  </div>\n",
              "  "
            ]
          },
          "metadata": {},
          "execution_count": 140
        }
      ]
    },
    {
      "cell_type": "code",
      "source": [
        "# Light GBM의 분류확률 임계값 수열(0.01:0.99)에 따른 LightGBM 모델성능평가지표를 데이터프레임에 저장\n",
        "\n",
        "i: int = 0\n",
        "  # [index 정수형 타입 선언 후 0 할당(초기화)]\n",
        "\n",
        "for float in contain:\n",
        "  globals()[\"F_Beta_{}\".format(i)], globals()[\"Capital_Loss_{}\".format(i)], globals()[\"Insurance_Loss_{}\".format(i)] = RandomForestDecisionThreshold(\n",
        "    X = X_smote.drop([\"CODE_GENDER_M\", \"CODE_GENDER_F\"], axis = 1), \n",
        "    y = y_smote, \n",
        "    threshold = float)\n",
        "  \n",
        "  RF_Threshold_Metric_curve.iloc[i, 1] = globals()[\"F_Beta_{}\".format(i)]\n",
        "  RF_Threshold_Metric_curve.iloc[i, 2] = globals()[\"Capital_Loss_{}\".format(i)]\n",
        "  RF_Threshold_Metric_curve.iloc[i, 3] = globals()[\"Insurance_Loss_{}\".format(i)]\n",
        "\n",
        "  i += 1\n",
        "  \n",
        "RF_Threshold_Metric_curve.to_csv(\"/content/drive/MyDrive/rf_threshold_metric.csv\",\n",
        "                                 sep = \",\",\n",
        "                                 na_rep = \"NaN\",\n",
        "                                 float_format = \"%.4f\",\n",
        "                                 index = False)"
      ],
      "metadata": {
        "colab": {
          "base_uri": "https://localhost:8080/"
        },
        "id": "JZDqD75wI1Zi",
        "outputId": "60f66099-fcf4-42d8-fbc7-cf964f27a323"
      },
      "execution_count": null,
      "outputs": [
        {
          "output_type": "stream",
          "name": "stderr",
          "text": [
            "<ipython-input-139-da206dbcacca>:19: DataConversionWarning: A column-vector y was passed when a 1d array was expected. Please change the shape of y to (n_samples,), for example using ravel().\n",
            "  RandomForest.fit(X_train, y_train)\n",
            "<ipython-input-139-da206dbcacca>:19: DataConversionWarning: A column-vector y was passed when a 1d array was expected. Please change the shape of y to (n_samples,), for example using ravel().\n",
            "  RandomForest.fit(X_train, y_train)\n",
            "<ipython-input-139-da206dbcacca>:19: DataConversionWarning: A column-vector y was passed when a 1d array was expected. Please change the shape of y to (n_samples,), for example using ravel().\n",
            "  RandomForest.fit(X_train, y_train)\n",
            "<ipython-input-139-da206dbcacca>:19: DataConversionWarning: A column-vector y was passed when a 1d array was expected. Please change the shape of y to (n_samples,), for example using ravel().\n",
            "  RandomForest.fit(X_train, y_train)\n",
            "<ipython-input-139-da206dbcacca>:19: DataConversionWarning: A column-vector y was passed when a 1d array was expected. Please change the shape of y to (n_samples,), for example using ravel().\n",
            "  RandomForest.fit(X_train, y_train)\n",
            "<ipython-input-139-da206dbcacca>:19: DataConversionWarning: A column-vector y was passed when a 1d array was expected. Please change the shape of y to (n_samples,), for example using ravel().\n",
            "  RandomForest.fit(X_train, y_train)\n",
            "<ipython-input-139-da206dbcacca>:19: DataConversionWarning: A column-vector y was passed when a 1d array was expected. Please change the shape of y to (n_samples,), for example using ravel().\n",
            "  RandomForest.fit(X_train, y_train)\n",
            "<ipython-input-139-da206dbcacca>:19: DataConversionWarning: A column-vector y was passed when a 1d array was expected. Please change the shape of y to (n_samples,), for example using ravel().\n",
            "  RandomForest.fit(X_train, y_train)\n",
            "<ipython-input-139-da206dbcacca>:19: DataConversionWarning: A column-vector y was passed when a 1d array was expected. Please change the shape of y to (n_samples,), for example using ravel().\n",
            "  RandomForest.fit(X_train, y_train)\n",
            "<ipython-input-139-da206dbcacca>:19: DataConversionWarning: A column-vector y was passed when a 1d array was expected. Please change the shape of y to (n_samples,), for example using ravel().\n",
            "  RandomForest.fit(X_train, y_train)\n",
            "<ipython-input-139-da206dbcacca>:19: DataConversionWarning: A column-vector y was passed when a 1d array was expected. Please change the shape of y to (n_samples,), for example using ravel().\n",
            "  RandomForest.fit(X_train, y_train)\n",
            "<ipython-input-139-da206dbcacca>:19: DataConversionWarning: A column-vector y was passed when a 1d array was expected. Please change the shape of y to (n_samples,), for example using ravel().\n",
            "  RandomForest.fit(X_train, y_train)\n",
            "<ipython-input-139-da206dbcacca>:19: DataConversionWarning: A column-vector y was passed when a 1d array was expected. Please change the shape of y to (n_samples,), for example using ravel().\n",
            "  RandomForest.fit(X_train, y_train)\n",
            "<ipython-input-139-da206dbcacca>:19: DataConversionWarning: A column-vector y was passed when a 1d array was expected. Please change the shape of y to (n_samples,), for example using ravel().\n",
            "  RandomForest.fit(X_train, y_train)\n",
            "<ipython-input-139-da206dbcacca>:19: DataConversionWarning: A column-vector y was passed when a 1d array was expected. Please change the shape of y to (n_samples,), for example using ravel().\n",
            "  RandomForest.fit(X_train, y_train)\n",
            "<ipython-input-139-da206dbcacca>:19: DataConversionWarning: A column-vector y was passed when a 1d array was expected. Please change the shape of y to (n_samples,), for example using ravel().\n",
            "  RandomForest.fit(X_train, y_train)\n",
            "<ipython-input-139-da206dbcacca>:19: DataConversionWarning: A column-vector y was passed when a 1d array was expected. Please change the shape of y to (n_samples,), for example using ravel().\n",
            "  RandomForest.fit(X_train, y_train)\n",
            "<ipython-input-139-da206dbcacca>:19: DataConversionWarning: A column-vector y was passed when a 1d array was expected. Please change the shape of y to (n_samples,), for example using ravel().\n",
            "  RandomForest.fit(X_train, y_train)\n",
            "<ipython-input-139-da206dbcacca>:19: DataConversionWarning: A column-vector y was passed when a 1d array was expected. Please change the shape of y to (n_samples,), for example using ravel().\n",
            "  RandomForest.fit(X_train, y_train)\n",
            "<ipython-input-139-da206dbcacca>:19: DataConversionWarning: A column-vector y was passed when a 1d array was expected. Please change the shape of y to (n_samples,), for example using ravel().\n",
            "  RandomForest.fit(X_train, y_train)\n"
          ]
        }
      ]
    },
    {
      "cell_type": "code",
      "source": [
        "# 빠른 재현성을 위한 csv 파일을 구글드라이브에 저장 후 로드\n",
        "\n",
        "# Threshold_Metric_curve = pd.read_csv(\"/content/drive/MyDrive/threshold_metric.csv\", index_col = False)\n",
        "print(max(RF_Threshold_Metric_curve[\"F_Beta_score\"]), max(RF_Threshold_Metric_curve[\"Capital_Expected_Loss\"]), max(RF_Threshold_Metric_curve[\"Insurance_Expected_Loss\"]))"
      ],
      "metadata": {
        "id": "eoMZOcT_I1Zi"
      },
      "execution_count": null,
      "outputs": []
    },
    {
      "cell_type": "code",
      "source": [
        "# Default threshold인 0.5일 때 성능평가지표\n",
        "print(RF_Threshold_Metric_curve[RF_Threshold_Metric_curve[\"Threshold\"] == 0.5])\n",
        "\n",
        "# F-0.75점수가 최대가 되는 임계값 = 0.55\n",
        "print(RF_Threshold_Metric_curve[RF_Threshold_Metric_curve[\"F_Beta_score\"] == max(RF_Threshold_Metric_curve[\"F_Beta_score\"])])\n",
        "\n",
        "# DB캐피탈의 오분류비용이 최소가 되는 임계값 = 0.55\n",
        "print(RF_Threshold_Metric_curve[RF_Threshold_Metric_curve[\"Capital_Expected_Loss\"] == max(RF_Threshold_Metric_curve[\"Capital_Expected_Loss\"])])\n",
        "\n",
        "# DB손해보험의 오분류비용이 최소가 되는 임계값 = 0.56\n",
        "print(RF_Threshold_Metric_curve[RF_Threshold_Metric_curve[\"Insurance_Expected_Loss\"] == max(RF_Threshold_Metric_curve[\"Insurance_Expected_Loss\"])])"
      ],
      "metadata": {
        "id": "K-nkJ5MEI1Zj"
      },
      "execution_count": null,
      "outputs": []
    },
    {
      "cell_type": "code",
      "source": [
        "plt.figure(figsize = (10, 8))\n",
        "plt.plot(RF_Threshold_Metric_curve[\"F_Beta_score\"], RF_Threshold_Metric_curve[\"Capital_Expected_Loss\"], marker = \"o\", markersize = 3)\n",
        "plt.plot(RF_Threshold_Metric_curve[\"F_Beta_score\"], RF_Threshold_Metric_curve[\"Insurance_Expected_Loss\"], marker = \"o\", markersize = 3)\n",
        "plt.xlabel(\"F-0.75 Score\")\n",
        "plt.ylabel(\"Expected Loss\")\n",
        "plt.legend([\"DBCapital\", \"DBInsurance\"])\n",
        "plt.title(\"DB Financial Corporation's ML Performance Measure with threshold\")\n",
        "plt.grid()\n",
        "plt.show()"
      ],
      "metadata": {
        "id": "s9TPHFImI1Zj"
      },
      "execution_count": null,
      "outputs": []
    },
    {
      "cell_type": "code",
      "source": [
        "# f, axes = plt.subplots(ncols = 2, figsize = (12, 8))\n",
        "\n",
        "plt.figure(figsize = (8, 6))\n",
        "plt.plot(RF_Threshold_Metric_curve.iloc[29:60, :][\"Threshold\"], RF_Threshold_Metric_curve.iloc[29:60, :][\"Capital_Expected_Loss\"], marker = \"o\", markersize = 3)\n",
        "plt.plot(RF_Threshold_Metric_curve.iloc[29:60, :][\"Threshold\"], RF_Threshold_Metric_curve.iloc[29:60, :][\"Insurance_Expected_Loss\"], marker = \"o\", markersize = 3)\n",
        "plt.xlabel(\"Threshold\")\n",
        "plt.ylabel(\"Performance Measure\")\n",
        "plt.legend([\"DBCapital's Loss\", \"DBInsurance's Loss\"])\n",
        "plt.title(\"DB Financial Corporation's ML Expected Loss with threshold\")\n",
        "plt.grid()\n",
        "plt.show()\n",
        "\n",
        "plt.figure(figsize = (8, 6))\n",
        "plt.plot(RF_Threshold_Metric_curve.iloc[29:60, :][\"Threshold\"], RF_Threshold_Metric_curve.iloc[29:60, :][\"F_Beta_score\"], color = \"green\", marker = \"o\", markersize = 3)\n",
        "plt.xlabel(\"Threshold\")\n",
        "plt.ylabel(\"Performance Measure\")\n",
        "plt.title(\"DB Financial Corporation's ML F-0.75 score with threshold\")\n",
        "plt.grid()\n",
        "plt.show()"
      ],
      "metadata": {
        "id": "V7iUH8rLI1Zj"
      },
      "execution_count": null,
      "outputs": []
    },
    {
      "cell_type": "code",
      "source": [
        "# 기술지표와 사업지표에 따른 최종 비용곡선 시각화\n",
        "\n",
        "fig, ax1 = plt.subplots()\n",
        "color_1 = 'tab:blue'\n",
        "ax1.set_title('Expected_Loss and F-Beta in Insurance')\n",
        "ax1.set_xlabel('Threshold')\n",
        "ax1.set_ylabel(\"Expected_Loss(blue)\", color = color_1)\n",
        "ax1.plot(RF_Threshold_Metric_curve.Threshold, RF_Threshold_Metric_curve.Insurance_Expected_Loss, marker = 's', color = color_1)\n",
        "ax1.tick_params(axis='y', labelcolor = color_1)\n",
        "\n",
        "ax2 = ax1.twinx()\n",
        "color_2 = \"tab:red\"\n",
        "ax2.set_ylabel(\"F_Beta (red)\", color = color_2)\n",
        "ax2.plot(RF_Threshold_Metric_curve.Threshold, RF_Threshold_Metric_curve.F_Beta_score, marker = 'o', color = color_2)\n",
        "ax2.tick_params(axis = 'y', labelcolor = color_2)\n",
        "\n",
        "fig.tight_layout()\n",
        "plt.show()"
      ],
      "metadata": {
        "id": "PaFWkcYDI1Zj"
      },
      "execution_count": null,
      "outputs": []
    },
    {
      "cell_type": "code",
      "source": [],
      "metadata": {
        "id": "vAQrxA2qLtrn"
      },
      "execution_count": null,
      "outputs": []
    }
  ]
}